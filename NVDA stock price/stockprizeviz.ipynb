{
 "cells": [
  {
   "cell_type": "code",
   "execution_count": 27,
   "id": "a30535ac-dc07-4637-a55e-e0778636db01",
   "metadata": {},
   "outputs": [],
   "source": [
    "import pandas as pd\n",
    "import numpy as np\n",
    "import yfinance as yf\n",
    "from datetime import date\n",
    "import warnings\n",
    "warnings.simplefilter(action='ignore', category=FutureWarning)\n",
    "import mercury as mr\n",
    "from dateutil.relativedelta import relativedelta"
   ]
  },
  {
   "cell_type": "code",
   "execution_count": 28,
   "id": "6ce0bfe9-a205-4631-b2f8-938f019672dd",
   "metadata": {},
   "outputs": [
    {
     "data": {
      "text/html": [
       "        <script type=\"text/javascript\">\n",
       "        window.PlotlyConfig = {MathJaxConfig: 'local'};\n",
       "        if (window.MathJax && window.MathJax.Hub && window.MathJax.Hub.Config) {window.MathJax.Hub.Config({SVG: {font: \"STIX-Web\"}});}\n",
       "        if (typeof require !== 'undefined') {\n",
       "        require.undef(\"plotly\");\n",
       "        requirejs.config({\n",
       "            paths: {\n",
       "                'plotly': ['https://cdn.plot.ly/plotly-2.35.2.min']\n",
       "            }\n",
       "        });\n",
       "        require(['plotly'], function(Plotly) {\n",
       "            window._Plotly = Plotly;\n",
       "        });\n",
       "        }\n",
       "        </script>\n",
       "        "
      ]
     },
     "metadata": {},
     "output_type": "display_data"
    }
   ],
   "source": [
    "import plotly as py\n",
    "from plotly.offline import init_notebook_mode, plot, iplot\n",
    "init_notebook_mode(connected=True)"
   ]
  },
  {
   "cell_type": "code",
   "execution_count": 3,
   "id": "3ae476e6-9c6b-4b0f-ac02-b326943ff558",
   "metadata": {},
   "outputs": [
    {
     "data": {
      "application/mercury+json": {
       "allow_download": true,
       "allow_share": true,
       "code_uid": "App.0.50.110.1-rand1afda020",
       "continuous_update": true,
       "description": "Dashboard with financial data",
       "full_screen": true,
       "model_id": "mercury-app",
       "notify": "{}",
       "output": "app",
       "schedule": "",
       "show_code": false,
       "show_prompt": false,
       "show_sidebar": true,
       "static_notebook": false,
       "stop_on_error": false,
       "title": "📈 Stock Price Dashboard",
       "widget": "App"
      },
      "text/html": [
       "<h3>Mercury Application</h3><small>This output won't appear in the web app.</small>"
      ],
      "text/plain": [
       "mercury.App"
      ]
     },
     "metadata": {},
     "output_type": "display_data"
    }
   ],
   "source": [
    "app = mr.App(title=\"📈 Stock Price Dashboard\", description=\"Dashboard with financial data\", show_code=False)"
   ]
  },
  {
   "cell_type": "code",
   "execution_count": 4,
   "id": "b5f39254-f52e-462a-afb8-3cf2505b8a7d",
   "metadata": {},
   "outputs": [
    {
     "data": {
      "application/mercury+json": {
       "choices": [
        "NVDA",
        "INTC",
        "AMD",
        "TSM",
        "MU"
       ],
       "code_uid": "Select.0.50.104.1-randd7da9d7f",
       "disabled": false,
       "hidden": false,
       "label": "Please select ticker",
       "model_id": "49916c786f9749ddbebb0524d36ac0cd",
       "url_key": "",
       "value": "NVDA",
       "widget": "Select"
      },
      "application/vnd.jupyter.widget-view+json": {
       "model_id": "49916c786f9749ddbebb0524d36ac0cd",
       "version_major": 2,
       "version_minor": 0
      },
      "text/plain": [
       "mercury.Select"
      ]
     },
     "metadata": {},
     "output_type": "display_data"
    }
   ],
   "source": [
    "ticker = mr.Select(label=\"Please select ticker\", value='NVDA', \n",
    "                   choices=['NVDA', 'INTC', 'AMD', 'TSM', 'MU'])"
   ]
  },
  {
   "cell_type": "code",
   "execution_count": 5,
   "id": "1fa5ba07-a7f8-4512-b159-526bbefaf976",
   "metadata": {},
   "outputs": [
    {
     "data": {
      "text/markdown": [
       "# Selected ticker: NVDA"
      ],
      "text/plain": [
       "<IPython.core.display.Markdown object>"
      ]
     },
     "metadata": {},
     "output_type": "display_data"
    }
   ],
   "source": [
    "mr.Md(f\"# Selected ticker: {ticker.value}\")"
   ]
  },
  {
   "cell_type": "code",
   "execution_count": 6,
   "id": "1de19245-a5dc-4f8d-adce-aa6db59b7601",
   "metadata": {},
   "outputs": [
    {
     "data": {
      "application/mercury+json": {
       "code_uid": "Numeric.0.50.101.1-randea2b427c",
       "disabled": false,
       "hidden": false,
       "label": "Past Month(s)",
       "max": 12,
       "min": 1,
       "model_id": "8b4c3dbc4bc34c859769546124c26ba1",
       "step": 1,
       "url_key": "",
       "value": 3,
       "widget": "Numeric"
      },
      "application/vnd.jupyter.widget-view+json": {
       "model_id": "8b4c3dbc4bc34c859769546124c26ba1",
       "version_major": 2,
       "version_minor": 0
      },
      "text/plain": [
       "mercury.Numeric"
      ]
     },
     "metadata": {},
     "output_type": "display_data"
    }
   ],
   "source": [
    "period = mr.Numeric(label=\"Past Month(s)\", value=3, min=1, max=12)"
   ]
  },
  {
   "cell_type": "code",
   "execution_count": 7,
   "id": "73d8ec37-fd9c-44d2-a4bc-fbb9ca9ac39c",
   "metadata": {},
   "outputs": [
    {
     "name": "stderr",
     "output_type": "stream",
     "text": [
      "[*********************100%***********************]  1 of 1 completed\n"
     ]
    },
    {
     "data": {
      "text/html": [
       "<div>\n",
       "<style scoped>\n",
       "    .dataframe tbody tr th:only-of-type {\n",
       "        vertical-align: middle;\n",
       "    }\n",
       "\n",
       "    .dataframe tbody tr th {\n",
       "        vertical-align: top;\n",
       "    }\n",
       "\n",
       "    .dataframe thead th {\n",
       "        text-align: right;\n",
       "    }\n",
       "</style>\n",
       "<table border=\"1\" class=\"dataframe\">\n",
       "  <thead>\n",
       "    <tr style=\"text-align: right;\">\n",
       "      <th></th>\n",
       "      <th>Open</th>\n",
       "      <th>High</th>\n",
       "      <th>Low</th>\n",
       "      <th>Close</th>\n",
       "      <th>Adj Close</th>\n",
       "      <th>Volume</th>\n",
       "    </tr>\n",
       "    <tr>\n",
       "      <th>Date</th>\n",
       "      <th></th>\n",
       "      <th></th>\n",
       "      <th></th>\n",
       "      <th></th>\n",
       "      <th></th>\n",
       "      <th></th>\n",
       "    </tr>\n",
       "  </thead>\n",
       "  <tbody>\n",
       "    <tr>\n",
       "      <th>2024-06-28</th>\n",
       "      <td>124.580002</td>\n",
       "      <td>127.709999</td>\n",
       "      <td>122.750000</td>\n",
       "      <td>123.540001</td>\n",
       "      <td>123.529434</td>\n",
       "      <td>315516700</td>\n",
       "    </tr>\n",
       "    <tr>\n",
       "      <th>2024-07-01</th>\n",
       "      <td>123.470001</td>\n",
       "      <td>124.839996</td>\n",
       "      <td>118.830002</td>\n",
       "      <td>124.300003</td>\n",
       "      <td>124.289368</td>\n",
       "      <td>284885500</td>\n",
       "    </tr>\n",
       "    <tr>\n",
       "      <th>2024-07-02</th>\n",
       "      <td>121.129997</td>\n",
       "      <td>123.410004</td>\n",
       "      <td>121.029999</td>\n",
       "      <td>122.669998</td>\n",
       "      <td>122.659508</td>\n",
       "      <td>218374000</td>\n",
       "    </tr>\n",
       "    <tr>\n",
       "      <th>2024-07-03</th>\n",
       "      <td>121.660004</td>\n",
       "      <td>128.279999</td>\n",
       "      <td>121.360001</td>\n",
       "      <td>128.279999</td>\n",
       "      <td>128.269028</td>\n",
       "      <td>215749000</td>\n",
       "    </tr>\n",
       "    <tr>\n",
       "      <th>2024-07-05</th>\n",
       "      <td>127.379997</td>\n",
       "      <td>128.850006</td>\n",
       "      <td>125.680000</td>\n",
       "      <td>125.830002</td>\n",
       "      <td>125.819237</td>\n",
       "      <td>214176700</td>\n",
       "    </tr>\n",
       "    <tr>\n",
       "      <th>...</th>\n",
       "      <td>...</td>\n",
       "      <td>...</td>\n",
       "      <td>...</td>\n",
       "      <td>...</td>\n",
       "      <td>...</td>\n",
       "      <td>...</td>\n",
       "    </tr>\n",
       "    <tr>\n",
       "      <th>2024-09-23</th>\n",
       "      <td>116.550003</td>\n",
       "      <td>116.989998</td>\n",
       "      <td>114.860001</td>\n",
       "      <td>116.260002</td>\n",
       "      <td>116.260002</td>\n",
       "      <td>206228500</td>\n",
       "    </tr>\n",
       "    <tr>\n",
       "      <th>2024-09-24</th>\n",
       "      <td>116.519997</td>\n",
       "      <td>121.800003</td>\n",
       "      <td>115.379997</td>\n",
       "      <td>120.870003</td>\n",
       "      <td>120.870003</td>\n",
       "      <td>354966800</td>\n",
       "    </tr>\n",
       "    <tr>\n",
       "      <th>2024-09-25</th>\n",
       "      <td>122.019997</td>\n",
       "      <td>124.940002</td>\n",
       "      <td>121.610001</td>\n",
       "      <td>123.510002</td>\n",
       "      <td>123.510002</td>\n",
       "      <td>284692900</td>\n",
       "    </tr>\n",
       "    <tr>\n",
       "      <th>2024-09-26</th>\n",
       "      <td>126.800003</td>\n",
       "      <td>127.669998</td>\n",
       "      <td>121.800003</td>\n",
       "      <td>124.040001</td>\n",
       "      <td>124.040001</td>\n",
       "      <td>302582900</td>\n",
       "    </tr>\n",
       "    <tr>\n",
       "      <th>2024-09-27</th>\n",
       "      <td>123.970001</td>\n",
       "      <td>124.029999</td>\n",
       "      <td>119.260002</td>\n",
       "      <td>121.400002</td>\n",
       "      <td>121.400002</td>\n",
       "      <td>270161000</td>\n",
       "    </tr>\n",
       "  </tbody>\n",
       "</table>\n",
       "<p>64 rows × 6 columns</p>\n",
       "</div>"
      ],
      "text/plain": [
       "                  Open        High         Low       Close   Adj Close  \\\n",
       "Date                                                                     \n",
       "2024-06-28  124.580002  127.709999  122.750000  123.540001  123.529434   \n",
       "2024-07-01  123.470001  124.839996  118.830002  124.300003  124.289368   \n",
       "2024-07-02  121.129997  123.410004  121.029999  122.669998  122.659508   \n",
       "2024-07-03  121.660004  128.279999  121.360001  128.279999  128.269028   \n",
       "2024-07-05  127.379997  128.850006  125.680000  125.830002  125.819237   \n",
       "...                ...         ...         ...         ...         ...   \n",
       "2024-09-23  116.550003  116.989998  114.860001  116.260002  116.260002   \n",
       "2024-09-24  116.519997  121.800003  115.379997  120.870003  120.870003   \n",
       "2024-09-25  122.019997  124.940002  121.610001  123.510002  123.510002   \n",
       "2024-09-26  126.800003  127.669998  121.800003  124.040001  124.040001   \n",
       "2024-09-27  123.970001  124.029999  119.260002  121.400002  121.400002   \n",
       "\n",
       "               Volume  \n",
       "Date                   \n",
       "2024-06-28  315516700  \n",
       "2024-07-01  284885500  \n",
       "2024-07-02  218374000  \n",
       "2024-07-03  215749000  \n",
       "2024-07-05  214176700  \n",
       "...               ...  \n",
       "2024-09-23  206228500  \n",
       "2024-09-24  354966800  \n",
       "2024-09-25  284692900  \n",
       "2024-09-26  302582900  \n",
       "2024-09-27  270161000  \n",
       "\n",
       "[64 rows x 6 columns]"
      ]
     },
     "execution_count": 7,
     "metadata": {},
     "output_type": "execute_result"
    }
   ],
   "source": [
    "# Download NVIDIA Corporation (NVDA) stock data for analysis\n",
    "stock_data = yf.download(ticker.value, start=date.today() - relativedelta(months=+period.value), end=date.today())\n",
    "stock_data"
   ]
  },
  {
   "cell_type": "code",
   "execution_count": 10,
   "id": "59af5245-c7b2-414f-9e08-2ee2959f1d8c",
   "metadata": {},
   "outputs": [
    {
     "data": {
      "application/vnd.plotly.v1+json": {
       "config": {
        "plotlyServerURL": "https://plot.ly"
       },
       "data": [
        {
         "hovertemplate": "Date=%{x}<br>Adj Close=%{y}<extra></extra>",
         "legendgroup": "",
         "line": {
          "color": "#636efa",
          "dash": "solid",
          "shape": "linear"
         },
         "marker": {
          "symbol": "circle"
         },
         "mode": "lines",
         "name": "",
         "orientation": "v",
         "showlegend": false,
         "type": "scatter",
         "x": [
          "2024-06-28T00:00:00",
          "2024-07-01T00:00:00",
          "2024-07-02T00:00:00",
          "2024-07-03T00:00:00",
          "2024-07-05T00:00:00",
          "2024-07-08T00:00:00",
          "2024-07-09T00:00:00",
          "2024-07-10T00:00:00",
          "2024-07-11T00:00:00",
          "2024-07-12T00:00:00",
          "2024-07-15T00:00:00",
          "2024-07-16T00:00:00",
          "2024-07-17T00:00:00",
          "2024-07-18T00:00:00",
          "2024-07-19T00:00:00",
          "2024-07-22T00:00:00",
          "2024-07-23T00:00:00",
          "2024-07-24T00:00:00",
          "2024-07-25T00:00:00",
          "2024-07-26T00:00:00",
          "2024-07-29T00:00:00",
          "2024-07-30T00:00:00",
          "2024-07-31T00:00:00",
          "2024-08-01T00:00:00",
          "2024-08-02T00:00:00",
          "2024-08-05T00:00:00",
          "2024-08-06T00:00:00",
          "2024-08-07T00:00:00",
          "2024-08-08T00:00:00",
          "2024-08-09T00:00:00",
          "2024-08-12T00:00:00",
          "2024-08-13T00:00:00",
          "2024-08-14T00:00:00",
          "2024-08-15T00:00:00",
          "2024-08-16T00:00:00",
          "2024-08-19T00:00:00",
          "2024-08-20T00:00:00",
          "2024-08-21T00:00:00",
          "2024-08-22T00:00:00",
          "2024-08-23T00:00:00",
          "2024-08-26T00:00:00",
          "2024-08-27T00:00:00",
          "2024-08-28T00:00:00",
          "2024-08-29T00:00:00",
          "2024-08-30T00:00:00",
          "2024-09-03T00:00:00",
          "2024-09-04T00:00:00",
          "2024-09-05T00:00:00",
          "2024-09-06T00:00:00",
          "2024-09-09T00:00:00",
          "2024-09-10T00:00:00",
          "2024-09-11T00:00:00",
          "2024-09-12T00:00:00",
          "2024-09-13T00:00:00",
          "2024-09-16T00:00:00",
          "2024-09-17T00:00:00",
          "2024-09-18T00:00:00",
          "2024-09-19T00:00:00",
          "2024-09-20T00:00:00",
          "2024-09-23T00:00:00",
          "2024-09-24T00:00:00",
          "2024-09-25T00:00:00",
          "2024-09-26T00:00:00",
          "2024-09-27T00:00:00"
         ],
         "xaxis": "x",
         "y": [
          123.52943420410156,
          124.28936767578125,
          122.65950775146484,
          128.26902770996094,
          125.8192367553711,
          128.18902587890625,
          131.3687744140625,
          134.89846801757812,
          127.38910675048828,
          129.2289581298828,
          128.42901611328125,
          126.34918975830078,
          117.97990417480469,
          121.07963562011719,
          117.91991424560547,
          123.52943420410156,
          122.57951354980469,
          114.24022674560547,
          112.27039337158203,
          113.05032348632812,
          111.58045196533203,
          103.72113037109375,
          117.0099868774414,
          109.2006607055664,
          107.26081848144531,
          100.44140625,
          104.24108123779297,
          98.90154266357422,
          104.96102142333984,
          104.74104309082031,
          109.01067352294922,
          116.13006591796875,
          118.06990051269531,
          122.84949493408203,
          124.56934356689453,
          129.98887634277344,
          127.2391128540039,
          128.489013671875,
          123.72941589355469,
          129.3589324951172,
          126.44918060302734,
          128.28903198242188,
          125.59925842285156,
          117.57994079589844,
          119.35979461669922,
          107.99076080322266,
          106.20091247558594,
          107.2008285522461,
          102.82120513916016,
          106.46089172363281,
          108.09075164794922,
          116.9000015258789,
          119.13999938964844,
          119.0999984741211,
          116.77999877929688,
          115.58999633789062,
          113.37000274658203,
          117.87000274658203,
          116,
          116.26000213623047,
          120.87000274658203,
          123.51000213623047,
          124.04000091552734,
          121.4000015258789
         ],
         "yaxis": "y"
        }
       ],
       "layout": {
        "autosize": true,
        "legend": {
         "tracegroupgap": 0
        },
        "template": {
         "data": {
          "bar": [
           {
            "error_x": {
             "color": "#2a3f5f"
            },
            "error_y": {
             "color": "#2a3f5f"
            },
            "marker": {
             "line": {
              "color": "#E5ECF6",
              "width": 0.5
             },
             "pattern": {
              "fillmode": "overlay",
              "size": 10,
              "solidity": 0.2
             }
            },
            "type": "bar"
           }
          ],
          "barpolar": [
           {
            "marker": {
             "line": {
              "color": "#E5ECF6",
              "width": 0.5
             },
             "pattern": {
              "fillmode": "overlay",
              "size": 10,
              "solidity": 0.2
             }
            },
            "type": "barpolar"
           }
          ],
          "carpet": [
           {
            "aaxis": {
             "endlinecolor": "#2a3f5f",
             "gridcolor": "white",
             "linecolor": "white",
             "minorgridcolor": "white",
             "startlinecolor": "#2a3f5f"
            },
            "baxis": {
             "endlinecolor": "#2a3f5f",
             "gridcolor": "white",
             "linecolor": "white",
             "minorgridcolor": "white",
             "startlinecolor": "#2a3f5f"
            },
            "type": "carpet"
           }
          ],
          "choropleth": [
           {
            "colorbar": {
             "outlinewidth": 0,
             "ticks": ""
            },
            "type": "choropleth"
           }
          ],
          "contour": [
           {
            "colorbar": {
             "outlinewidth": 0,
             "ticks": ""
            },
            "colorscale": [
             [
              0,
              "#0d0887"
             ],
             [
              0.1111111111111111,
              "#46039f"
             ],
             [
              0.2222222222222222,
              "#7201a8"
             ],
             [
              0.3333333333333333,
              "#9c179e"
             ],
             [
              0.4444444444444444,
              "#bd3786"
             ],
             [
              0.5555555555555556,
              "#d8576b"
             ],
             [
              0.6666666666666666,
              "#ed7953"
             ],
             [
              0.7777777777777778,
              "#fb9f3a"
             ],
             [
              0.8888888888888888,
              "#fdca26"
             ],
             [
              1,
              "#f0f921"
             ]
            ],
            "type": "contour"
           }
          ],
          "contourcarpet": [
           {
            "colorbar": {
             "outlinewidth": 0,
             "ticks": ""
            },
            "type": "contourcarpet"
           }
          ],
          "heatmap": [
           {
            "colorbar": {
             "outlinewidth": 0,
             "ticks": ""
            },
            "colorscale": [
             [
              0,
              "#0d0887"
             ],
             [
              0.1111111111111111,
              "#46039f"
             ],
             [
              0.2222222222222222,
              "#7201a8"
             ],
             [
              0.3333333333333333,
              "#9c179e"
             ],
             [
              0.4444444444444444,
              "#bd3786"
             ],
             [
              0.5555555555555556,
              "#d8576b"
             ],
             [
              0.6666666666666666,
              "#ed7953"
             ],
             [
              0.7777777777777778,
              "#fb9f3a"
             ],
             [
              0.8888888888888888,
              "#fdca26"
             ],
             [
              1,
              "#f0f921"
             ]
            ],
            "type": "heatmap"
           }
          ],
          "heatmapgl": [
           {
            "colorbar": {
             "outlinewidth": 0,
             "ticks": ""
            },
            "colorscale": [
             [
              0,
              "#0d0887"
             ],
             [
              0.1111111111111111,
              "#46039f"
             ],
             [
              0.2222222222222222,
              "#7201a8"
             ],
             [
              0.3333333333333333,
              "#9c179e"
             ],
             [
              0.4444444444444444,
              "#bd3786"
             ],
             [
              0.5555555555555556,
              "#d8576b"
             ],
             [
              0.6666666666666666,
              "#ed7953"
             ],
             [
              0.7777777777777778,
              "#fb9f3a"
             ],
             [
              0.8888888888888888,
              "#fdca26"
             ],
             [
              1,
              "#f0f921"
             ]
            ],
            "type": "heatmapgl"
           }
          ],
          "histogram": [
           {
            "marker": {
             "pattern": {
              "fillmode": "overlay",
              "size": 10,
              "solidity": 0.2
             }
            },
            "type": "histogram"
           }
          ],
          "histogram2d": [
           {
            "colorbar": {
             "outlinewidth": 0,
             "ticks": ""
            },
            "colorscale": [
             [
              0,
              "#0d0887"
             ],
             [
              0.1111111111111111,
              "#46039f"
             ],
             [
              0.2222222222222222,
              "#7201a8"
             ],
             [
              0.3333333333333333,
              "#9c179e"
             ],
             [
              0.4444444444444444,
              "#bd3786"
             ],
             [
              0.5555555555555556,
              "#d8576b"
             ],
             [
              0.6666666666666666,
              "#ed7953"
             ],
             [
              0.7777777777777778,
              "#fb9f3a"
             ],
             [
              0.8888888888888888,
              "#fdca26"
             ],
             [
              1,
              "#f0f921"
             ]
            ],
            "type": "histogram2d"
           }
          ],
          "histogram2dcontour": [
           {
            "colorbar": {
             "outlinewidth": 0,
             "ticks": ""
            },
            "colorscale": [
             [
              0,
              "#0d0887"
             ],
             [
              0.1111111111111111,
              "#46039f"
             ],
             [
              0.2222222222222222,
              "#7201a8"
             ],
             [
              0.3333333333333333,
              "#9c179e"
             ],
             [
              0.4444444444444444,
              "#bd3786"
             ],
             [
              0.5555555555555556,
              "#d8576b"
             ],
             [
              0.6666666666666666,
              "#ed7953"
             ],
             [
              0.7777777777777778,
              "#fb9f3a"
             ],
             [
              0.8888888888888888,
              "#fdca26"
             ],
             [
              1,
              "#f0f921"
             ]
            ],
            "type": "histogram2dcontour"
           }
          ],
          "mesh3d": [
           {
            "colorbar": {
             "outlinewidth": 0,
             "ticks": ""
            },
            "type": "mesh3d"
           }
          ],
          "parcoords": [
           {
            "line": {
             "colorbar": {
              "outlinewidth": 0,
              "ticks": ""
             }
            },
            "type": "parcoords"
           }
          ],
          "pie": [
           {
            "automargin": true,
            "type": "pie"
           }
          ],
          "scatter": [
           {
            "fillpattern": {
             "fillmode": "overlay",
             "size": 10,
             "solidity": 0.2
            },
            "type": "scatter"
           }
          ],
          "scatter3d": [
           {
            "line": {
             "colorbar": {
              "outlinewidth": 0,
              "ticks": ""
             }
            },
            "marker": {
             "colorbar": {
              "outlinewidth": 0,
              "ticks": ""
             }
            },
            "type": "scatter3d"
           }
          ],
          "scattercarpet": [
           {
            "marker": {
             "colorbar": {
              "outlinewidth": 0,
              "ticks": ""
             }
            },
            "type": "scattercarpet"
           }
          ],
          "scattergeo": [
           {
            "marker": {
             "colorbar": {
              "outlinewidth": 0,
              "ticks": ""
             }
            },
            "type": "scattergeo"
           }
          ],
          "scattergl": [
           {
            "marker": {
             "colorbar": {
              "outlinewidth": 0,
              "ticks": ""
             }
            },
            "type": "scattergl"
           }
          ],
          "scattermapbox": [
           {
            "marker": {
             "colorbar": {
              "outlinewidth": 0,
              "ticks": ""
             }
            },
            "type": "scattermapbox"
           }
          ],
          "scatterpolar": [
           {
            "marker": {
             "colorbar": {
              "outlinewidth": 0,
              "ticks": ""
             }
            },
            "type": "scatterpolar"
           }
          ],
          "scatterpolargl": [
           {
            "marker": {
             "colorbar": {
              "outlinewidth": 0,
              "ticks": ""
             }
            },
            "type": "scatterpolargl"
           }
          ],
          "scatterternary": [
           {
            "marker": {
             "colorbar": {
              "outlinewidth": 0,
              "ticks": ""
             }
            },
            "type": "scatterternary"
           }
          ],
          "surface": [
           {
            "colorbar": {
             "outlinewidth": 0,
             "ticks": ""
            },
            "colorscale": [
             [
              0,
              "#0d0887"
             ],
             [
              0.1111111111111111,
              "#46039f"
             ],
             [
              0.2222222222222222,
              "#7201a8"
             ],
             [
              0.3333333333333333,
              "#9c179e"
             ],
             [
              0.4444444444444444,
              "#bd3786"
             ],
             [
              0.5555555555555556,
              "#d8576b"
             ],
             [
              0.6666666666666666,
              "#ed7953"
             ],
             [
              0.7777777777777778,
              "#fb9f3a"
             ],
             [
              0.8888888888888888,
              "#fdca26"
             ],
             [
              1,
              "#f0f921"
             ]
            ],
            "type": "surface"
           }
          ],
          "table": [
           {
            "cells": {
             "fill": {
              "color": "#EBF0F8"
             },
             "line": {
              "color": "white"
             }
            },
            "header": {
             "fill": {
              "color": "#C8D4E3"
             },
             "line": {
              "color": "white"
             }
            },
            "type": "table"
           }
          ]
         },
         "layout": {
          "annotationdefaults": {
           "arrowcolor": "#2a3f5f",
           "arrowhead": 0,
           "arrowwidth": 1
          },
          "autotypenumbers": "strict",
          "coloraxis": {
           "colorbar": {
            "outlinewidth": 0,
            "ticks": ""
           }
          },
          "colorscale": {
           "diverging": [
            [
             0,
             "#8e0152"
            ],
            [
             0.1,
             "#c51b7d"
            ],
            [
             0.2,
             "#de77ae"
            ],
            [
             0.3,
             "#f1b6da"
            ],
            [
             0.4,
             "#fde0ef"
            ],
            [
             0.5,
             "#f7f7f7"
            ],
            [
             0.6,
             "#e6f5d0"
            ],
            [
             0.7,
             "#b8e186"
            ],
            [
             0.8,
             "#7fbc41"
            ],
            [
             0.9,
             "#4d9221"
            ],
            [
             1,
             "#276419"
            ]
           ],
           "sequential": [
            [
             0,
             "#0d0887"
            ],
            [
             0.1111111111111111,
             "#46039f"
            ],
            [
             0.2222222222222222,
             "#7201a8"
            ],
            [
             0.3333333333333333,
             "#9c179e"
            ],
            [
             0.4444444444444444,
             "#bd3786"
            ],
            [
             0.5555555555555556,
             "#d8576b"
            ],
            [
             0.6666666666666666,
             "#ed7953"
            ],
            [
             0.7777777777777778,
             "#fb9f3a"
            ],
            [
             0.8888888888888888,
             "#fdca26"
            ],
            [
             1,
             "#f0f921"
            ]
           ],
           "sequentialminus": [
            [
             0,
             "#0d0887"
            ],
            [
             0.1111111111111111,
             "#46039f"
            ],
            [
             0.2222222222222222,
             "#7201a8"
            ],
            [
             0.3333333333333333,
             "#9c179e"
            ],
            [
             0.4444444444444444,
             "#bd3786"
            ],
            [
             0.5555555555555556,
             "#d8576b"
            ],
            [
             0.6666666666666666,
             "#ed7953"
            ],
            [
             0.7777777777777778,
             "#fb9f3a"
            ],
            [
             0.8888888888888888,
             "#fdca26"
            ],
            [
             1,
             "#f0f921"
            ]
           ]
          },
          "colorway": [
           "#636efa",
           "#EF553B",
           "#00cc96",
           "#ab63fa",
           "#FFA15A",
           "#19d3f3",
           "#FF6692",
           "#B6E880",
           "#FF97FF",
           "#FECB52"
          ],
          "font": {
           "color": "#2a3f5f"
          },
          "geo": {
           "bgcolor": "white",
           "lakecolor": "white",
           "landcolor": "#E5ECF6",
           "showlakes": true,
           "showland": true,
           "subunitcolor": "white"
          },
          "hoverlabel": {
           "align": "left"
          },
          "hovermode": "closest",
          "mapbox": {
           "style": "light"
          },
          "paper_bgcolor": "white",
          "plot_bgcolor": "#E5ECF6",
          "polar": {
           "angularaxis": {
            "gridcolor": "white",
            "linecolor": "white",
            "ticks": ""
           },
           "bgcolor": "#E5ECF6",
           "radialaxis": {
            "gridcolor": "white",
            "linecolor": "white",
            "ticks": ""
           }
          },
          "scene": {
           "xaxis": {
            "backgroundcolor": "#E5ECF6",
            "gridcolor": "white",
            "gridwidth": 2,
            "linecolor": "white",
            "showbackground": true,
            "ticks": "",
            "zerolinecolor": "white"
           },
           "yaxis": {
            "backgroundcolor": "#E5ECF6",
            "gridcolor": "white",
            "gridwidth": 2,
            "linecolor": "white",
            "showbackground": true,
            "ticks": "",
            "zerolinecolor": "white"
           },
           "zaxis": {
            "backgroundcolor": "#E5ECF6",
            "gridcolor": "white",
            "gridwidth": 2,
            "linecolor": "white",
            "showbackground": true,
            "ticks": "",
            "zerolinecolor": "white"
           }
          },
          "shapedefaults": {
           "line": {
            "color": "#2a3f5f"
           }
          },
          "ternary": {
           "aaxis": {
            "gridcolor": "white",
            "linecolor": "white",
            "ticks": ""
           },
           "baxis": {
            "gridcolor": "white",
            "linecolor": "white",
            "ticks": ""
           },
           "bgcolor": "#E5ECF6",
           "caxis": {
            "gridcolor": "white",
            "linecolor": "white",
            "ticks": ""
           }
          },
          "title": {
           "x": 0.05
          },
          "xaxis": {
           "automargin": true,
           "gridcolor": "white",
           "linecolor": "white",
           "ticks": "",
           "title": {
            "standoff": 15
           },
           "zerolinecolor": "white",
           "zerolinewidth": 2
          },
          "yaxis": {
           "automargin": true,
           "gridcolor": "white",
           "linecolor": "white",
           "ticks": "",
           "title": {
            "standoff": 15
           },
           "zerolinecolor": "white",
           "zerolinewidth": 2
          }
         }
        },
        "title": {
         "text": "Adjusted Close"
        },
        "xaxis": {
         "anchor": "y",
         "autorange": true,
         "domain": [
          0,
          1
         ],
         "range": [
          "2024-06-28",
          "2024-09-27"
         ],
         "title": {
          "text": "Date"
         },
         "type": "date"
        },
        "yaxis": {
         "anchor": "x",
         "autorange": true,
         "domain": [
          0,
          1
         ],
         "range": [
          96.90171347724066,
          136.89829720391168
         ],
         "title": {
          "text": "Adj Close"
         },
         "type": "linear"
        }
       }
      },
      "image/png": "[encoded data removed]",
      "text/html": [
       "<div>                            <div id=\"957f44c2-b1ec-4242-a907-bd2664b96ff5\" class=\"plotly-graph-div\" style=\"height:525px; width:100%;\"></div>            <script type=\"text/javascript\">                require([\"plotly\"], function(Plotly) {                    window.PLOTLYENV=window.PLOTLYENV || {};                                    if (document.getElementById(\"957f44c2-b1ec-4242-a907-bd2664b96ff5\")) {                    Plotly.newPlot(                        \"957f44c2-b1ec-4242-a907-bd2664b96ff5\",                        [{\"hovertemplate\":\"Date=%{x}\\u003cbr\\u003eAdj Close=%{y}\\u003cextra\\u003e\\u003c\\u002fextra\\u003e\",\"legendgroup\":\"\",\"line\":{\"color\":\"#636efa\",\"dash\":\"solid\",\"shape\":\"linear\"},\"marker\":{\"symbol\":\"circle\"},\"mode\":\"lines\",\"name\":\"\",\"orientation\":\"v\",\"showlegend\":false,\"x\":[\"2024-06-28T00:00:00\",\"2024-07-01T00:00:00\",\"2024-07-02T00:00:00\",\"2024-07-03T00:00:00\",\"2024-07-05T00:00:00\",\"2024-07-08T00:00:00\",\"2024-07-09T00:00:00\",\"2024-07-10T00:00:00\",\"2024-07-11T00:00:00\",\"2024-07-12T00:00:00\",\"2024-07-15T00:00:00\",\"2024-07-16T00:00:00\",\"2024-07-17T00:00:00\",\"2024-07-18T00:00:00\",\"2024-07-19T00:00:00\",\"2024-07-22T00:00:00\",\"2024-07-23T00:00:00\",\"2024-07-24T00:00:00\",\"2024-07-25T00:00:00\",\"2024-07-26T00:00:00\",\"2024-07-29T00:00:00\",\"2024-07-30T00:00:00\",\"2024-07-31T00:00:00\",\"2024-08-01T00:00:00\",\"2024-08-02T00:00:00\",\"2024-08-05T00:00:00\",\"2024-08-06T00:00:00\",\"2024-08-07T00:00:00\",\"2024-08-08T00:00:00\",\"2024-08-09T00:00:00\",\"2024-08-12T00:00:00\",\"2024-08-13T00:00:00\",\"2024-08-14T00:00:00\",\"2024-08-15T00:00:00\",\"2024-08-16T00:00:00\",\"2024-08-19T00:00:00\",\"2024-08-20T00:00:00\",\"2024-08-21T00:00:00\",\"2024-08-22T00:00:00\",\"2024-08-23T00:00:00\",\"2024-08-26T00:00:00\",\"2024-08-27T00:00:00\",\"2024-08-28T00:00:00\",\"2024-08-29T00:00:00\",\"2024-08-30T00:00:00\",\"2024-09-03T00:00:00\",\"2024-09-04T00:00:00\",\"2024-09-05T00:00:00\",\"2024-09-06T00:00:00\",\"2024-09-09T00:00:00\",\"2024-09-10T00:00:00\",\"2024-09-11T00:00:00\",\"2024-09-12T00:00:00\",\"2024-09-13T00:00:00\",\"2024-09-16T00:00:00\",\"2024-09-17T00:00:00\",\"2024-09-18T00:00:00\",\"2024-09-19T00:00:00\",\"2024-09-20T00:00:00\",\"2024-09-23T00:00:00\",\"2024-09-24T00:00:00\",\"2024-09-25T00:00:00\",\"2024-09-26T00:00:00\",\"2024-09-27T00:00:00\"],\"xaxis\":\"x\",\"y\":[123.52943420410156,124.28936767578125,122.65950775146484,128.26902770996094,125.8192367553711,128.18902587890625,131.3687744140625,134.89846801757812,127.38910675048828,129.2289581298828,128.42901611328125,126.34918975830078,117.97990417480469,121.07963562011719,117.91991424560547,123.52943420410156,122.57951354980469,114.24022674560547,112.27039337158203,113.05032348632812,111.58045196533203,103.72113037109375,117.0099868774414,109.2006607055664,107.26081848144531,100.44140625,104.24108123779297,98.90154266357422,104.96102142333984,104.74104309082031,109.01067352294922,116.13006591796875,118.06990051269531,122.84949493408203,124.56934356689453,129.98887634277344,127.2391128540039,128.489013671875,123.72941589355469,129.3589324951172,126.44918060302734,128.28903198242188,125.59925842285156,117.57994079589844,119.35979461669922,107.99076080322266,106.20091247558594,107.2008285522461,102.82120513916016,106.46089172363281,108.09075164794922,116.9000015258789,119.13999938964844,119.0999984741211,116.77999877929688,115.58999633789062,113.37000274658203,117.87000274658203,116.0,116.26000213623047,120.87000274658203,123.51000213623047,124.04000091552734,121.4000015258789],\"yaxis\":\"y\",\"type\":\"scatter\"}],                        {\"template\":{\"data\":{\"histogram2dcontour\":[{\"type\":\"histogram2dcontour\",\"colorbar\":{\"outlinewidth\":0,\"ticks\":\"\"},\"colorscale\":[[0.0,\"#0d0887\"],[0.1111111111111111,\"#46039f\"],[0.2222222222222222,\"#7201a8\"],[0.3333333333333333,\"#9c179e\"],[0.4444444444444444,\"#bd3786\"],[0.5555555555555556,\"#d8576b\"],[0.6666666666666666,\"#ed7953\"],[0.7777777777777778,\"#fb9f3a\"],[0.8888888888888888,\"#fdca26\"],[1.0,\"#f0f921\"]]}],\"choropleth\":[{\"type\":\"choropleth\",\"colorbar\":{\"outlinewidth\":0,\"ticks\":\"\"}}],\"histogram2d\":[{\"type\":\"histogram2d\",\"colorbar\":{\"outlinewidth\":0,\"ticks\":\"\"},\"colorscale\":[[0.0,\"#0d0887\"],[0.1111111111111111,\"#46039f\"],[0.2222222222222222,\"#7201a8\"],[0.3333333333333333,\"#9c179e\"],[0.4444444444444444,\"#bd3786\"],[0.5555555555555556,\"#d8576b\"],[0.6666666666666666,\"#ed7953\"],[0.7777777777777778,\"#fb9f3a\"],[0.8888888888888888,\"#fdca26\"],[1.0,\"#f0f921\"]]}],\"heatmap\":[{\"type\":\"heatmap\",\"colorbar\":{\"outlinewidth\":0,\"ticks\":\"\"},\"colorscale\":[[0.0,\"#0d0887\"],[0.1111111111111111,\"#46039f\"],[0.2222222222222222,\"#7201a8\"],[0.3333333333333333,\"#9c179e\"],[0.4444444444444444,\"#bd3786\"],[0.5555555555555556,\"#d8576b\"],[0.6666666666666666,\"#ed7953\"],[0.7777777777777778,\"#fb9f3a\"],[0.8888888888888888,\"#fdca26\"],[1.0,\"#f0f921\"]]}],\"heatmapgl\":[{\"type\":\"heatmapgl\",\"colorbar\":{\"outlinewidth\":0,\"ticks\":\"\"},\"colorscale\":[[0.0,\"#0d0887\"],[0.1111111111111111,\"#46039f\"],[0.2222222222222222,\"#7201a8\"],[0.3333333333333333,\"#9c179e\"],[0.4444444444444444,\"#bd3786\"],[0.5555555555555556,\"#d8576b\"],[0.6666666666666666,\"#ed7953\"],[0.7777777777777778,\"#fb9f3a\"],[0.8888888888888888,\"#fdca26\"],[1.0,\"#f0f921\"]]}],\"contourcarpet\":[{\"type\":\"contourcarpet\",\"colorbar\":{\"outlinewidth\":0,\"ticks\":\"\"}}],\"contour\":[{\"type\":\"contour\",\"colorbar\":{\"outlinewidth\":0,\"ticks\":\"\"},\"colorscale\":[[0.0,\"#0d0887\"],[0.1111111111111111,\"#46039f\"],[0.2222222222222222,\"#7201a8\"],[0.3333333333333333,\"#9c179e\"],[0.4444444444444444,\"#bd3786\"],[0.5555555555555556,\"#d8576b\"],[0.6666666666666666,\"#ed7953\"],[0.7777777777777778,\"#fb9f3a\"],[0.8888888888888888,\"#fdca26\"],[1.0,\"#f0f921\"]]}],\"surface\":[{\"type\":\"surface\",\"colorbar\":{\"outlinewidth\":0,\"ticks\":\"\"},\"colorscale\":[[0.0,\"#0d0887\"],[0.1111111111111111,\"#46039f\"],[0.2222222222222222,\"#7201a8\"],[0.3333333333333333,\"#9c179e\"],[0.4444444444444444,\"#bd3786\"],[0.5555555555555556,\"#d8576b\"],[0.6666666666666666,\"#ed7953\"],[0.7777777777777778,\"#fb9f3a\"],[0.8888888888888888,\"#fdca26\"],[1.0,\"#f0f921\"]]}],\"mesh3d\":[{\"type\":\"mesh3d\",\"colorbar\":{\"outlinewidth\":0,\"ticks\":\"\"}}],\"scatter\":[{\"fillpattern\":{\"fillmode\":\"overlay\",\"size\":10,\"solidity\":0.2},\"type\":\"scatter\"}],\"parcoords\":[{\"type\":\"parcoords\",\"line\":{\"colorbar\":{\"outlinewidth\":0,\"ticks\":\"\"}}}],\"scatterpolargl\":[{\"type\":\"scatterpolargl\",\"marker\":{\"colorbar\":{\"outlinewidth\":0,\"ticks\":\"\"}}}],\"bar\":[{\"error_x\":{\"color\":\"#2a3f5f\"},\"error_y\":{\"color\":\"#2a3f5f\"},\"marker\":{\"line\":{\"color\":\"#E5ECF6\",\"width\":0.5},\"pattern\":{\"fillmode\":\"overlay\",\"size\":10,\"solidity\":0.2}},\"type\":\"bar\"}],\"scattergeo\":[{\"type\":\"scattergeo\",\"marker\":{\"colorbar\":{\"outlinewidth\":0,\"ticks\":\"\"}}}],\"scatterpolar\":[{\"type\":\"scatterpolar\",\"marker\":{\"colorbar\":{\"outlinewidth\":0,\"ticks\":\"\"}}}],\"histogram\":[{\"marker\":{\"pattern\":{\"fillmode\":\"overlay\",\"size\":10,\"solidity\":0.2}},\"type\":\"histogram\"}],\"scattergl\":[{\"type\":\"scattergl\",\"marker\":{\"colorbar\":{\"outlinewidth\":0,\"ticks\":\"\"}}}],\"scatter3d\":[{\"type\":\"scatter3d\",\"line\":{\"colorbar\":{\"outlinewidth\":0,\"ticks\":\"\"}},\"marker\":{\"colorbar\":{\"outlinewidth\":0,\"ticks\":\"\"}}}],\"scattermapbox\":[{\"type\":\"scattermapbox\",\"marker\":{\"colorbar\":{\"outlinewidth\":0,\"ticks\":\"\"}}}],\"scatterternary\":[{\"type\":\"scatterternary\",\"marker\":{\"colorbar\":{\"outlinewidth\":0,\"ticks\":\"\"}}}],\"scattercarpet\":[{\"type\":\"scattercarpet\",\"marker\":{\"colorbar\":{\"outlinewidth\":0,\"ticks\":\"\"}}}],\"carpet\":[{\"aaxis\":{\"endlinecolor\":\"#2a3f5f\",\"gridcolor\":\"white\",\"linecolor\":\"white\",\"minorgridcolor\":\"white\",\"startlinecolor\":\"#2a3f5f\"},\"baxis\":{\"endlinecolor\":\"#2a3f5f\",\"gridcolor\":\"white\",\"linecolor\":\"white\",\"minorgridcolor\":\"white\",\"startlinecolor\":\"#2a3f5f\"},\"type\":\"carpet\"}],\"table\":[{\"cells\":{\"fill\":{\"color\":\"#EBF0F8\"},\"line\":{\"color\":\"white\"}},\"header\":{\"fill\":{\"color\":\"#C8D4E3\"},\"line\":{\"color\":\"white\"}},\"type\":\"table\"}],\"barpolar\":[{\"marker\":{\"line\":{\"color\":\"#E5ECF6\",\"width\":0.5},\"pattern\":{\"fillmode\":\"overlay\",\"size\":10,\"solidity\":0.2}},\"type\":\"barpolar\"}],\"pie\":[{\"automargin\":true,\"type\":\"pie\"}]},\"layout\":{\"autotypenumbers\":\"strict\",\"colorway\":[\"#636efa\",\"#EF553B\",\"#00cc96\",\"#ab63fa\",\"#FFA15A\",\"#19d3f3\",\"#FF6692\",\"#B6E880\",\"#FF97FF\",\"#FECB52\"],\"font\":{\"color\":\"#2a3f5f\"},\"hovermode\":\"closest\",\"hoverlabel\":{\"align\":\"left\"},\"paper_bgcolor\":\"white\",\"plot_bgcolor\":\"#E5ECF6\",\"polar\":{\"bgcolor\":\"#E5ECF6\",\"angularaxis\":{\"gridcolor\":\"white\",\"linecolor\":\"white\",\"ticks\":\"\"},\"radialaxis\":{\"gridcolor\":\"white\",\"linecolor\":\"white\",\"ticks\":\"\"}},\"ternary\":{\"bgcolor\":\"#E5ECF6\",\"aaxis\":{\"gridcolor\":\"white\",\"linecolor\":\"white\",\"ticks\":\"\"},\"baxis\":{\"gridcolor\":\"white\",\"linecolor\":\"white\",\"ticks\":\"\"},\"caxis\":{\"gridcolor\":\"white\",\"linecolor\":\"white\",\"ticks\":\"\"}},\"coloraxis\":{\"colorbar\":{\"outlinewidth\":0,\"ticks\":\"\"}},\"colorscale\":{\"sequential\":[[0.0,\"#0d0887\"],[0.1111111111111111,\"#46039f\"],[0.2222222222222222,\"#7201a8\"],[0.3333333333333333,\"#9c179e\"],[0.4444444444444444,\"#bd3786\"],[0.5555555555555556,\"#d8576b\"],[0.6666666666666666,\"#ed7953\"],[0.7777777777777778,\"#fb9f3a\"],[0.8888888888888888,\"#fdca26\"],[1.0,\"#f0f921\"]],\"sequentialminus\":[[0.0,\"#0d0887\"],[0.1111111111111111,\"#46039f\"],[0.2222222222222222,\"#7201a8\"],[0.3333333333333333,\"#9c179e\"],[0.4444444444444444,\"#bd3786\"],[0.5555555555555556,\"#d8576b\"],[0.6666666666666666,\"#ed7953\"],[0.7777777777777778,\"#fb9f3a\"],[0.8888888888888888,\"#fdca26\"],[1.0,\"#f0f921\"]],\"diverging\":[[0,\"#8e0152\"],[0.1,\"#c51b7d\"],[0.2,\"#de77ae\"],[0.3,\"#f1b6da\"],[0.4,\"#fde0ef\"],[0.5,\"#f7f7f7\"],[0.6,\"#e6f5d0\"],[0.7,\"#b8e186\"],[0.8,\"#7fbc41\"],[0.9,\"#4d9221\"],[1,\"#276419\"]]},\"xaxis\":{\"gridcolor\":\"white\",\"linecolor\":\"white\",\"ticks\":\"\",\"title\":{\"standoff\":15},\"zerolinecolor\":\"white\",\"automargin\":true,\"zerolinewidth\":2},\"yaxis\":{\"gridcolor\":\"white\",\"linecolor\":\"white\",\"ticks\":\"\",\"title\":{\"standoff\":15},\"zerolinecolor\":\"white\",\"automargin\":true,\"zerolinewidth\":2},\"scene\":{\"xaxis\":{\"backgroundcolor\":\"#E5ECF6\",\"gridcolor\":\"white\",\"linecolor\":\"white\",\"showbackground\":true,\"ticks\":\"\",\"zerolinecolor\":\"white\",\"gridwidth\":2},\"yaxis\":{\"backgroundcolor\":\"#E5ECF6\",\"gridcolor\":\"white\",\"linecolor\":\"white\",\"showbackground\":true,\"ticks\":\"\",\"zerolinecolor\":\"white\",\"gridwidth\":2},\"zaxis\":{\"backgroundcolor\":\"#E5ECF6\",\"gridcolor\":\"white\",\"linecolor\":\"white\",\"showbackground\":true,\"ticks\":\"\",\"zerolinecolor\":\"white\",\"gridwidth\":2}},\"shapedefaults\":{\"line\":{\"color\":\"#2a3f5f\"}},\"annotationdefaults\":{\"arrowcolor\":\"#2a3f5f\",\"arrowhead\":0,\"arrowwidth\":1},\"geo\":{\"bgcolor\":\"white\",\"landcolor\":\"#E5ECF6\",\"subunitcolor\":\"white\",\"showland\":true,\"showlakes\":true,\"lakecolor\":\"white\"},\"title\":{\"x\":0.05},\"mapbox\":{\"style\":\"light\"}}},\"xaxis\":{\"anchor\":\"y\",\"domain\":[0.0,1.0],\"title\":{\"text\":\"Date\"}},\"yaxis\":{\"anchor\":\"x\",\"domain\":[0.0,1.0],\"title\":{\"text\":\"Adj Close\"}},\"legend\":{\"tracegroupgap\":0},\"title\":{\"text\":\"Adjusted Close\"}},                        {\"responsive\": true}                    ).then(function(){\n",
       "                            \n",
       "var gd = document.getElementById('957f44c2-b1ec-4242-a907-bd2664b96ff5');\n",
       "var x = new MutationObserver(function (mutations, observer) {{\n",
       "        var display = window.getComputedStyle(gd).display;\n",
       "        if (!display || display === 'none') {{\n",
       "            console.log([gd, 'removed!']);\n",
       "            Plotly.purge(gd);\n",
       "            observer.disconnect();\n",
       "        }}\n",
       "}});\n",
       "\n",
       "// Listen for the removal of the full notebook cells\n",
       "var notebookContainer = gd.closest('#notebook-container');\n",
       "if (notebookContainer) {{\n",
       "    x.observe(notebookContainer, {childList: true});\n",
       "}}\n",
       "\n",
       "// Listen for the clearing of the current output cell\n",
       "var outputEl = gd.closest('.output');\n",
       "if (outputEl) {{\n",
       "    x.observe(outputEl, {childList: true});\n",
       "}}\n",
       "\n",
       "                        })                };                });            </script>        </div>"
      ]
     },
     "metadata": {},
     "output_type": "display_data"
    }
   ],
   "source": [
    "# Create and display an interactive line plot of NVDA's Adjusted Close Prices\n",
    "import plotly.express as px\n",
    "\n",
    "# Reset index if 'Date' is the index\n",
    "stock_data_reset = stock_data.reset_index()\n",
    "\n",
    "fig = px.line(stock_data_reset, x='Date', y='Adj Close', title='Adjusted Close', line_shape='linear')\n",
    "fig.show()"
   ]
  },
  {
   "cell_type": "code",
   "execution_count": 13,
   "id": "25050d51-e6a0-450f-b1a9-2a8f0f29b18f",
   "metadata": {},
   "outputs": [
    {
     "data": {
      "application/vnd.plotly.v1+json": {
       "config": {
        "plotlyServerURL": "https://plot.ly"
       },
       "data": [
        {
         "fillpattern": {
          "shape": ""
         },
         "hovertemplate": "Date=%{x}<br>Adj Close=%{y}<extra></extra>",
         "legendgroup": "",
         "line": {
          "color": "green"
         },
         "marker": {
          "symbol": "circle"
         },
         "mode": "lines",
         "name": "",
         "orientation": "v",
         "showlegend": false,
         "stackgroup": "1",
         "type": "scatter",
         "x": [
          "2024-06-28T00:00:00",
          "2024-07-01T00:00:00",
          "2024-07-02T00:00:00",
          "2024-07-03T00:00:00",
          "2024-07-05T00:00:00",
          "2024-07-08T00:00:00",
          "2024-07-09T00:00:00",
          "2024-07-10T00:00:00",
          "2024-07-11T00:00:00",
          "2024-07-12T00:00:00",
          "2024-07-15T00:00:00",
          "2024-07-16T00:00:00",
          "2024-07-17T00:00:00",
          "2024-07-18T00:00:00",
          "2024-07-19T00:00:00",
          "2024-07-22T00:00:00",
          "2024-07-23T00:00:00",
          "2024-07-24T00:00:00",
          "2024-07-25T00:00:00",
          "2024-07-26T00:00:00",
          "2024-07-29T00:00:00",
          "2024-07-30T00:00:00",
          "2024-07-31T00:00:00",
          "2024-08-01T00:00:00",
          "2024-08-02T00:00:00",
          "2024-08-05T00:00:00",
          "2024-08-06T00:00:00",
          "2024-08-07T00:00:00",
          "2024-08-08T00:00:00",
          "2024-08-09T00:00:00",
          "2024-08-12T00:00:00",
          "2024-08-13T00:00:00",
          "2024-08-14T00:00:00",
          "2024-08-15T00:00:00",
          "2024-08-16T00:00:00",
          "2024-08-19T00:00:00",
          "2024-08-20T00:00:00",
          "2024-08-21T00:00:00",
          "2024-08-22T00:00:00",
          "2024-08-23T00:00:00",
          "2024-08-26T00:00:00",
          "2024-08-27T00:00:00",
          "2024-08-28T00:00:00",
          "2024-08-29T00:00:00",
          "2024-08-30T00:00:00",
          "2024-09-03T00:00:00",
          "2024-09-04T00:00:00",
          "2024-09-05T00:00:00",
          "2024-09-06T00:00:00",
          "2024-09-09T00:00:00",
          "2024-09-10T00:00:00",
          "2024-09-11T00:00:00",
          "2024-09-12T00:00:00",
          "2024-09-13T00:00:00",
          "2024-09-16T00:00:00",
          "2024-09-17T00:00:00",
          "2024-09-18T00:00:00",
          "2024-09-19T00:00:00",
          "2024-09-20T00:00:00",
          "2024-09-23T00:00:00",
          "2024-09-24T00:00:00",
          "2024-09-25T00:00:00",
          "2024-09-26T00:00:00",
          "2024-09-27T00:00:00"
         ],
         "xaxis": "x",
         "y": [
          123.52943420410156,
          124.28936767578125,
          122.65950775146484,
          128.26902770996094,
          125.8192367553711,
          128.18902587890625,
          131.3687744140625,
          134.89846801757812,
          127.38910675048828,
          129.2289581298828,
          128.42901611328125,
          126.34918975830078,
          117.97990417480469,
          121.07963562011719,
          117.91991424560547,
          123.52943420410156,
          122.57951354980469,
          114.24022674560547,
          112.27039337158203,
          113.05032348632812,
          111.58045196533203,
          103.72113037109375,
          117.0099868774414,
          109.2006607055664,
          107.26081848144531,
          100.44140625,
          104.24108123779297,
          98.90154266357422,
          104.96102142333984,
          104.74104309082031,
          109.01067352294922,
          116.13006591796875,
          118.06990051269531,
          122.84949493408203,
          124.56934356689453,
          129.98887634277344,
          127.2391128540039,
          128.489013671875,
          123.72941589355469,
          129.3589324951172,
          126.44918060302734,
          128.28903198242188,
          125.59925842285156,
          117.57994079589844,
          119.35979461669922,
          107.99076080322266,
          106.20091247558594,
          107.2008285522461,
          102.82120513916016,
          106.46089172363281,
          108.09075164794922,
          116.9000015258789,
          119.13999938964844,
          119.0999984741211,
          116.77999877929688,
          115.58999633789062,
          113.37000274658203,
          117.87000274658203,
          116,
          116.26000213623047,
          120.87000274658203,
          123.51000213623047,
          124.04000091552734,
          121.4000015258789
         ],
         "yaxis": "y"
        }
       ],
       "layout": {
        "autosize": true,
        "legend": {
         "tracegroupgap": 0
        },
        "template": {
         "data": {
          "bar": [
           {
            "error_x": {
             "color": "#2a3f5f"
            },
            "error_y": {
             "color": "#2a3f5f"
            },
            "marker": {
             "line": {
              "color": "#E5ECF6",
              "width": 0.5
             },
             "pattern": {
              "fillmode": "overlay",
              "size": 10,
              "solidity": 0.2
             }
            },
            "type": "bar"
           }
          ],
          "barpolar": [
           {
            "marker": {
             "line": {
              "color": "#E5ECF6",
              "width": 0.5
             },
             "pattern": {
              "fillmode": "overlay",
              "size": 10,
              "solidity": 0.2
             }
            },
            "type": "barpolar"
           }
          ],
          "carpet": [
           {
            "aaxis": {
             "endlinecolor": "#2a3f5f",
             "gridcolor": "white",
             "linecolor": "white",
             "minorgridcolor": "white",
             "startlinecolor": "#2a3f5f"
            },
            "baxis": {
             "endlinecolor": "#2a3f5f",
             "gridcolor": "white",
             "linecolor": "white",
             "minorgridcolor": "white",
             "startlinecolor": "#2a3f5f"
            },
            "type": "carpet"
           }
          ],
          "choropleth": [
           {
            "colorbar": {
             "outlinewidth": 0,
             "ticks": ""
            },
            "type": "choropleth"
           }
          ],
          "contour": [
           {
            "colorbar": {
             "outlinewidth": 0,
             "ticks": ""
            },
            "colorscale": [
             [
              0,
              "#0d0887"
             ],
             [
              0.1111111111111111,
              "#46039f"
             ],
             [
              0.2222222222222222,
              "#7201a8"
             ],
             [
              0.3333333333333333,
              "#9c179e"
             ],
             [
              0.4444444444444444,
              "#bd3786"
             ],
             [
              0.5555555555555556,
              "#d8576b"
             ],
             [
              0.6666666666666666,
              "#ed7953"
             ],
             [
              0.7777777777777778,
              "#fb9f3a"
             ],
             [
              0.8888888888888888,
              "#fdca26"
             ],
             [
              1,
              "#f0f921"
             ]
            ],
            "type": "contour"
           }
          ],
          "contourcarpet": [
           {
            "colorbar": {
             "outlinewidth": 0,
             "ticks": ""
            },
            "type": "contourcarpet"
           }
          ],
          "heatmap": [
           {
            "colorbar": {
             "outlinewidth": 0,
             "ticks": ""
            },
            "colorscale": [
             [
              0,
              "#0d0887"
             ],
             [
              0.1111111111111111,
              "#46039f"
             ],
             [
              0.2222222222222222,
              "#7201a8"
             ],
             [
              0.3333333333333333,
              "#9c179e"
             ],
             [
              0.4444444444444444,
              "#bd3786"
             ],
             [
              0.5555555555555556,
              "#d8576b"
             ],
             [
              0.6666666666666666,
              "#ed7953"
             ],
             [
              0.7777777777777778,
              "#fb9f3a"
             ],
             [
              0.8888888888888888,
              "#fdca26"
             ],
             [
              1,
              "#f0f921"
             ]
            ],
            "type": "heatmap"
           }
          ],
          "heatmapgl": [
           {
            "colorbar": {
             "outlinewidth": 0,
             "ticks": ""
            },
            "colorscale": [
             [
              0,
              "#0d0887"
             ],
             [
              0.1111111111111111,
              "#46039f"
             ],
             [
              0.2222222222222222,
              "#7201a8"
             ],
             [
              0.3333333333333333,
              "#9c179e"
             ],
             [
              0.4444444444444444,
              "#bd3786"
             ],
             [
              0.5555555555555556,
              "#d8576b"
             ],
             [
              0.6666666666666666,
              "#ed7953"
             ],
             [
              0.7777777777777778,
              "#fb9f3a"
             ],
             [
              0.8888888888888888,
              "#fdca26"
             ],
             [
              1,
              "#f0f921"
             ]
            ],
            "type": "heatmapgl"
           }
          ],
          "histogram": [
           {
            "marker": {
             "pattern": {
              "fillmode": "overlay",
              "size": 10,
              "solidity": 0.2
             }
            },
            "type": "histogram"
           }
          ],
          "histogram2d": [
           {
            "colorbar": {
             "outlinewidth": 0,
             "ticks": ""
            },
            "colorscale": [
             [
              0,
              "#0d0887"
             ],
             [
              0.1111111111111111,
              "#46039f"
             ],
             [
              0.2222222222222222,
              "#7201a8"
             ],
             [
              0.3333333333333333,
              "#9c179e"
             ],
             [
              0.4444444444444444,
              "#bd3786"
             ],
             [
              0.5555555555555556,
              "#d8576b"
             ],
             [
              0.6666666666666666,
              "#ed7953"
             ],
             [
              0.7777777777777778,
              "#fb9f3a"
             ],
             [
              0.8888888888888888,
              "#fdca26"
             ],
             [
              1,
              "#f0f921"
             ]
            ],
            "type": "histogram2d"
           }
          ],
          "histogram2dcontour": [
           {
            "colorbar": {
             "outlinewidth": 0,
             "ticks": ""
            },
            "colorscale": [
             [
              0,
              "#0d0887"
             ],
             [
              0.1111111111111111,
              "#46039f"
             ],
             [
              0.2222222222222222,
              "#7201a8"
             ],
             [
              0.3333333333333333,
              "#9c179e"
             ],
             [
              0.4444444444444444,
              "#bd3786"
             ],
             [
              0.5555555555555556,
              "#d8576b"
             ],
             [
              0.6666666666666666,
              "#ed7953"
             ],
             [
              0.7777777777777778,
              "#fb9f3a"
             ],
             [
              0.8888888888888888,
              "#fdca26"
             ],
             [
              1,
              "#f0f921"
             ]
            ],
            "type": "histogram2dcontour"
           }
          ],
          "mesh3d": [
           {
            "colorbar": {
             "outlinewidth": 0,
             "ticks": ""
            },
            "type": "mesh3d"
           }
          ],
          "parcoords": [
           {
            "line": {
             "colorbar": {
              "outlinewidth": 0,
              "ticks": ""
             }
            },
            "type": "parcoords"
           }
          ],
          "pie": [
           {
            "automargin": true,
            "type": "pie"
           }
          ],
          "scatter": [
           {
            "fillpattern": {
             "fillmode": "overlay",
             "size": 10,
             "solidity": 0.2
            },
            "type": "scatter"
           }
          ],
          "scatter3d": [
           {
            "line": {
             "colorbar": {
              "outlinewidth": 0,
              "ticks": ""
             }
            },
            "marker": {
             "colorbar": {
              "outlinewidth": 0,
              "ticks": ""
             }
            },
            "type": "scatter3d"
           }
          ],
          "scattercarpet": [
           {
            "marker": {
             "colorbar": {
              "outlinewidth": 0,
              "ticks": ""
             }
            },
            "type": "scattercarpet"
           }
          ],
          "scattergeo": [
           {
            "marker": {
             "colorbar": {
              "outlinewidth": 0,
              "ticks": ""
             }
            },
            "type": "scattergeo"
           }
          ],
          "scattergl": [
           {
            "marker": {
             "colorbar": {
              "outlinewidth": 0,
              "ticks": ""
             }
            },
            "type": "scattergl"
           }
          ],
          "scattermapbox": [
           {
            "marker": {
             "colorbar": {
              "outlinewidth": 0,
              "ticks": ""
             }
            },
            "type": "scattermapbox"
           }
          ],
          "scatterpolar": [
           {
            "marker": {
             "colorbar": {
              "outlinewidth": 0,
              "ticks": ""
             }
            },
            "type": "scatterpolar"
           }
          ],
          "scatterpolargl": [
           {
            "marker": {
             "colorbar": {
              "outlinewidth": 0,
              "ticks": ""
             }
            },
            "type": "scatterpolargl"
           }
          ],
          "scatterternary": [
           {
            "marker": {
             "colorbar": {
              "outlinewidth": 0,
              "ticks": ""
             }
            },
            "type": "scatterternary"
           }
          ],
          "surface": [
           {
            "colorbar": {
             "outlinewidth": 0,
             "ticks": ""
            },
            "colorscale": [
             [
              0,
              "#0d0887"
             ],
             [
              0.1111111111111111,
              "#46039f"
             ],
             [
              0.2222222222222222,
              "#7201a8"
             ],
             [
              0.3333333333333333,
              "#9c179e"
             ],
             [
              0.4444444444444444,
              "#bd3786"
             ],
             [
              0.5555555555555556,
              "#d8576b"
             ],
             [
              0.6666666666666666,
              "#ed7953"
             ],
             [
              0.7777777777777778,
              "#fb9f3a"
             ],
             [
              0.8888888888888888,
              "#fdca26"
             ],
             [
              1,
              "#f0f921"
             ]
            ],
            "type": "surface"
           }
          ],
          "table": [
           {
            "cells": {
             "fill": {
              "color": "#EBF0F8"
             },
             "line": {
              "color": "white"
             }
            },
            "header": {
             "fill": {
              "color": "#C8D4E3"
             },
             "line": {
              "color": "white"
             }
            },
            "type": "table"
           }
          ]
         },
         "layout": {
          "annotationdefaults": {
           "arrowcolor": "#2a3f5f",
           "arrowhead": 0,
           "arrowwidth": 1
          },
          "autotypenumbers": "strict",
          "coloraxis": {
           "colorbar": {
            "outlinewidth": 0,
            "ticks": ""
           }
          },
          "colorscale": {
           "diverging": [
            [
             0,
             "#8e0152"
            ],
            [
             0.1,
             "#c51b7d"
            ],
            [
             0.2,
             "#de77ae"
            ],
            [
             0.3,
             "#f1b6da"
            ],
            [
             0.4,
             "#fde0ef"
            ],
            [
             0.5,
             "#f7f7f7"
            ],
            [
             0.6,
             "#e6f5d0"
            ],
            [
             0.7,
             "#b8e186"
            ],
            [
             0.8,
             "#7fbc41"
            ],
            [
             0.9,
             "#4d9221"
            ],
            [
             1,
             "#276419"
            ]
           ],
           "sequential": [
            [
             0,
             "#0d0887"
            ],
            [
             0.1111111111111111,
             "#46039f"
            ],
            [
             0.2222222222222222,
             "#7201a8"
            ],
            [
             0.3333333333333333,
             "#9c179e"
            ],
            [
             0.4444444444444444,
             "#bd3786"
            ],
            [
             0.5555555555555556,
             "#d8576b"
            ],
            [
             0.6666666666666666,
             "#ed7953"
            ],
            [
             0.7777777777777778,
             "#fb9f3a"
            ],
            [
             0.8888888888888888,
             "#fdca26"
            ],
            [
             1,
             "#f0f921"
            ]
           ],
           "sequentialminus": [
            [
             0,
             "#0d0887"
            ],
            [
             0.1111111111111111,
             "#46039f"
            ],
            [
             0.2222222222222222,
             "#7201a8"
            ],
            [
             0.3333333333333333,
             "#9c179e"
            ],
            [
             0.4444444444444444,
             "#bd3786"
            ],
            [
             0.5555555555555556,
             "#d8576b"
            ],
            [
             0.6666666666666666,
             "#ed7953"
            ],
            [
             0.7777777777777778,
             "#fb9f3a"
            ],
            [
             0.8888888888888888,
             "#fdca26"
            ],
            [
             1,
             "#f0f921"
            ]
           ]
          },
          "colorway": [
           "#636efa",
           "#EF553B",
           "#00cc96",
           "#ab63fa",
           "#FFA15A",
           "#19d3f3",
           "#FF6692",
           "#B6E880",
           "#FF97FF",
           "#FECB52"
          ],
          "font": {
           "color": "#2a3f5f"
          },
          "geo": {
           "bgcolor": "white",
           "lakecolor": "white",
           "landcolor": "#E5ECF6",
           "showlakes": true,
           "showland": true,
           "subunitcolor": "white"
          },
          "hoverlabel": {
           "align": "left"
          },
          "hovermode": "closest",
          "mapbox": {
           "style": "light"
          },
          "paper_bgcolor": "white",
          "plot_bgcolor": "#E5ECF6",
          "polar": {
           "angularaxis": {
            "gridcolor": "white",
            "linecolor": "white",
            "ticks": ""
           },
           "bgcolor": "#E5ECF6",
           "radialaxis": {
            "gridcolor": "white",
            "linecolor": "white",
            "ticks": ""
           }
          },
          "scene": {
           "xaxis": {
            "backgroundcolor": "#E5ECF6",
            "gridcolor": "white",
            "gridwidth": 2,
            "linecolor": "white",
            "showbackground": true,
            "ticks": "",
            "zerolinecolor": "white"
           },
           "yaxis": {
            "backgroundcolor": "#E5ECF6",
            "gridcolor": "white",
            "gridwidth": 2,
            "linecolor": "white",
            "showbackground": true,
            "ticks": "",
            "zerolinecolor": "white"
           },
           "zaxis": {
            "backgroundcolor": "#E5ECF6",
            "gridcolor": "white",
            "gridwidth": 2,
            "linecolor": "white",
            "showbackground": true,
            "ticks": "",
            "zerolinecolor": "white"
           }
          },
          "shapedefaults": {
           "line": {
            "color": "#2a3f5f"
           }
          },
          "ternary": {
           "aaxis": {
            "gridcolor": "white",
            "linecolor": "white",
            "ticks": ""
           },
           "baxis": {
            "gridcolor": "white",
            "linecolor": "white",
            "ticks": ""
           },
           "bgcolor": "#E5ECF6",
           "caxis": {
            "gridcolor": "white",
            "linecolor": "white",
            "ticks": ""
           }
          },
          "title": {
           "x": 0.05
          },
          "xaxis": {
           "automargin": true,
           "gridcolor": "white",
           "linecolor": "white",
           "ticks": "",
           "title": {
            "standoff": 15
           },
           "zerolinecolor": "white",
           "zerolinewidth": 2
          },
          "yaxis": {
           "automargin": true,
           "gridcolor": "white",
           "linecolor": "white",
           "ticks": "",
           "title": {
            "standoff": 15
           },
           "zerolinecolor": "white",
           "zerolinewidth": 2
          }
         }
        },
        "title": {
         "text": "Adjusted Close (Filled Area)"
        },
        "xaxis": {
         "anchor": "y",
         "autorange": true,
         "domain": [
          0,
          1
         ],
         "range": [
          "2024-06-28",
          "2024-09-27"
         ],
         "title": {
          "text": "Date"
         },
         "type": "date"
        },
        "yaxis": {
         "anchor": "x",
         "autorange": true,
         "domain": [
          0,
          1
         ],
         "range": [
          0,
          141.99838738692435
         ],
         "title": {
          "text": "Adj Close"
         },
         "type": "linear"
        }
       }
      },
      "image/png": "[encoded data removed]",
      "text/html": [
       "<div>                            <div id=\"e31c9974-72e4-4562-90ea-ede90c9e2ece\" class=\"plotly-graph-div\" style=\"height:525px; width:100%;\"></div>            <script type=\"text/javascript\">                require([\"plotly\"], function(Plotly) {                    window.PLOTLYENV=window.PLOTLYENV || {};                                    if (document.getElementById(\"e31c9974-72e4-4562-90ea-ede90c9e2ece\")) {                    Plotly.newPlot(                        \"e31c9974-72e4-4562-90ea-ede90c9e2ece\",                        [{\"fillpattern\":{\"shape\":\"\"},\"hovertemplate\":\"Date=%{x}\\u003cbr\\u003eAdj Close=%{y}\\u003cextra\\u003e\\u003c\\u002fextra\\u003e\",\"legendgroup\":\"\",\"line\":{\"color\":\"green\"},\"marker\":{\"symbol\":\"circle\"},\"mode\":\"lines\",\"name\":\"\",\"orientation\":\"v\",\"showlegend\":false,\"stackgroup\":\"1\",\"x\":[\"2024-06-28T00:00:00\",\"2024-07-01T00:00:00\",\"2024-07-02T00:00:00\",\"2024-07-03T00:00:00\",\"2024-07-05T00:00:00\",\"2024-07-08T00:00:00\",\"2024-07-09T00:00:00\",\"2024-07-10T00:00:00\",\"2024-07-11T00:00:00\",\"2024-07-12T00:00:00\",\"2024-07-15T00:00:00\",\"2024-07-16T00:00:00\",\"2024-07-17T00:00:00\",\"2024-07-18T00:00:00\",\"2024-07-19T00:00:00\",\"2024-07-22T00:00:00\",\"2024-07-23T00:00:00\",\"2024-07-24T00:00:00\",\"2024-07-25T00:00:00\",\"2024-07-26T00:00:00\",\"2024-07-29T00:00:00\",\"2024-07-30T00:00:00\",\"2024-07-31T00:00:00\",\"2024-08-01T00:00:00\",\"2024-08-02T00:00:00\",\"2024-08-05T00:00:00\",\"2024-08-06T00:00:00\",\"2024-08-07T00:00:00\",\"2024-08-08T00:00:00\",\"2024-08-09T00:00:00\",\"2024-08-12T00:00:00\",\"2024-08-13T00:00:00\",\"2024-08-14T00:00:00\",\"2024-08-15T00:00:00\",\"2024-08-16T00:00:00\",\"2024-08-19T00:00:00\",\"2024-08-20T00:00:00\",\"2024-08-21T00:00:00\",\"2024-08-22T00:00:00\",\"2024-08-23T00:00:00\",\"2024-08-26T00:00:00\",\"2024-08-27T00:00:00\",\"2024-08-28T00:00:00\",\"2024-08-29T00:00:00\",\"2024-08-30T00:00:00\",\"2024-09-03T00:00:00\",\"2024-09-04T00:00:00\",\"2024-09-05T00:00:00\",\"2024-09-06T00:00:00\",\"2024-09-09T00:00:00\",\"2024-09-10T00:00:00\",\"2024-09-11T00:00:00\",\"2024-09-12T00:00:00\",\"2024-09-13T00:00:00\",\"2024-09-16T00:00:00\",\"2024-09-17T00:00:00\",\"2024-09-18T00:00:00\",\"2024-09-19T00:00:00\",\"2024-09-20T00:00:00\",\"2024-09-23T00:00:00\",\"2024-09-24T00:00:00\",\"2024-09-25T00:00:00\",\"2024-09-26T00:00:00\",\"2024-09-27T00:00:00\"],\"xaxis\":\"x\",\"y\":[123.52943420410156,124.28936767578125,122.65950775146484,128.26902770996094,125.8192367553711,128.18902587890625,131.3687744140625,134.89846801757812,127.38910675048828,129.2289581298828,128.42901611328125,126.34918975830078,117.97990417480469,121.07963562011719,117.91991424560547,123.52943420410156,122.57951354980469,114.24022674560547,112.27039337158203,113.05032348632812,111.58045196533203,103.72113037109375,117.0099868774414,109.2006607055664,107.26081848144531,100.44140625,104.24108123779297,98.90154266357422,104.96102142333984,104.74104309082031,109.01067352294922,116.13006591796875,118.06990051269531,122.84949493408203,124.56934356689453,129.98887634277344,127.2391128540039,128.489013671875,123.72941589355469,129.3589324951172,126.44918060302734,128.28903198242188,125.59925842285156,117.57994079589844,119.35979461669922,107.99076080322266,106.20091247558594,107.2008285522461,102.82120513916016,106.46089172363281,108.09075164794922,116.9000015258789,119.13999938964844,119.0999984741211,116.77999877929688,115.58999633789062,113.37000274658203,117.87000274658203,116.0,116.26000213623047,120.87000274658203,123.51000213623047,124.04000091552734,121.4000015258789],\"yaxis\":\"y\",\"type\":\"scatter\"}],                        {\"template\":{\"data\":{\"histogram2dcontour\":[{\"type\":\"histogram2dcontour\",\"colorbar\":{\"outlinewidth\":0,\"ticks\":\"\"},\"colorscale\":[[0.0,\"#0d0887\"],[0.1111111111111111,\"#46039f\"],[0.2222222222222222,\"#7201a8\"],[0.3333333333333333,\"#9c179e\"],[0.4444444444444444,\"#bd3786\"],[0.5555555555555556,\"#d8576b\"],[0.6666666666666666,\"#ed7953\"],[0.7777777777777778,\"#fb9f3a\"],[0.8888888888888888,\"#fdca26\"],[1.0,\"#f0f921\"]]}],\"choropleth\":[{\"type\":\"choropleth\",\"colorbar\":{\"outlinewidth\":0,\"ticks\":\"\"}}],\"histogram2d\":[{\"type\":\"histogram2d\",\"colorbar\":{\"outlinewidth\":0,\"ticks\":\"\"},\"colorscale\":[[0.0,\"#0d0887\"],[0.1111111111111111,\"#46039f\"],[0.2222222222222222,\"#7201a8\"],[0.3333333333333333,\"#9c179e\"],[0.4444444444444444,\"#bd3786\"],[0.5555555555555556,\"#d8576b\"],[0.6666666666666666,\"#ed7953\"],[0.7777777777777778,\"#fb9f3a\"],[0.8888888888888888,\"#fdca26\"],[1.0,\"#f0f921\"]]}],\"heatmap\":[{\"type\":\"heatmap\",\"colorbar\":{\"outlinewidth\":0,\"ticks\":\"\"},\"colorscale\":[[0.0,\"#0d0887\"],[0.1111111111111111,\"#46039f\"],[0.2222222222222222,\"#7201a8\"],[0.3333333333333333,\"#9c179e\"],[0.4444444444444444,\"#bd3786\"],[0.5555555555555556,\"#d8576b\"],[0.6666666666666666,\"#ed7953\"],[0.7777777777777778,\"#fb9f3a\"],[0.8888888888888888,\"#fdca26\"],[1.0,\"#f0f921\"]]}],\"heatmapgl\":[{\"type\":\"heatmapgl\",\"colorbar\":{\"outlinewidth\":0,\"ticks\":\"\"},\"colorscale\":[[0.0,\"#0d0887\"],[0.1111111111111111,\"#46039f\"],[0.2222222222222222,\"#7201a8\"],[0.3333333333333333,\"#9c179e\"],[0.4444444444444444,\"#bd3786\"],[0.5555555555555556,\"#d8576b\"],[0.6666666666666666,\"#ed7953\"],[0.7777777777777778,\"#fb9f3a\"],[0.8888888888888888,\"#fdca26\"],[1.0,\"#f0f921\"]]}],\"contourcarpet\":[{\"type\":\"contourcarpet\",\"colorbar\":{\"outlinewidth\":0,\"ticks\":\"\"}}],\"contour\":[{\"type\":\"contour\",\"colorbar\":{\"outlinewidth\":0,\"ticks\":\"\"},\"colorscale\":[[0.0,\"#0d0887\"],[0.1111111111111111,\"#46039f\"],[0.2222222222222222,\"#7201a8\"],[0.3333333333333333,\"#9c179e\"],[0.4444444444444444,\"#bd3786\"],[0.5555555555555556,\"#d8576b\"],[0.6666666666666666,\"#ed7953\"],[0.7777777777777778,\"#fb9f3a\"],[0.8888888888888888,\"#fdca26\"],[1.0,\"#f0f921\"]]}],\"surface\":[{\"type\":\"surface\",\"colorbar\":{\"outlinewidth\":0,\"ticks\":\"\"},\"colorscale\":[[0.0,\"#0d0887\"],[0.1111111111111111,\"#46039f\"],[0.2222222222222222,\"#7201a8\"],[0.3333333333333333,\"#9c179e\"],[0.4444444444444444,\"#bd3786\"],[0.5555555555555556,\"#d8576b\"],[0.6666666666666666,\"#ed7953\"],[0.7777777777777778,\"#fb9f3a\"],[0.8888888888888888,\"#fdca26\"],[1.0,\"#f0f921\"]]}],\"mesh3d\":[{\"type\":\"mesh3d\",\"colorbar\":{\"outlinewidth\":0,\"ticks\":\"\"}}],\"scatter\":[{\"fillpattern\":{\"fillmode\":\"overlay\",\"size\":10,\"solidity\":0.2},\"type\":\"scatter\"}],\"parcoords\":[{\"type\":\"parcoords\",\"line\":{\"colorbar\":{\"outlinewidth\":0,\"ticks\":\"\"}}}],\"scatterpolargl\":[{\"type\":\"scatterpolargl\",\"marker\":{\"colorbar\":{\"outlinewidth\":0,\"ticks\":\"\"}}}],\"bar\":[{\"error_x\":{\"color\":\"#2a3f5f\"},\"error_y\":{\"color\":\"#2a3f5f\"},\"marker\":{\"line\":{\"color\":\"#E5ECF6\",\"width\":0.5},\"pattern\":{\"fillmode\":\"overlay\",\"size\":10,\"solidity\":0.2}},\"type\":\"bar\"}],\"scattergeo\":[{\"type\":\"scattergeo\",\"marker\":{\"colorbar\":{\"outlinewidth\":0,\"ticks\":\"\"}}}],\"scatterpolar\":[{\"type\":\"scatterpolar\",\"marker\":{\"colorbar\":{\"outlinewidth\":0,\"ticks\":\"\"}}}],\"histogram\":[{\"marker\":{\"pattern\":{\"fillmode\":\"overlay\",\"size\":10,\"solidity\":0.2}},\"type\":\"histogram\"}],\"scattergl\":[{\"type\":\"scattergl\",\"marker\":{\"colorbar\":{\"outlinewidth\":0,\"ticks\":\"\"}}}],\"scatter3d\":[{\"type\":\"scatter3d\",\"line\":{\"colorbar\":{\"outlinewidth\":0,\"ticks\":\"\"}},\"marker\":{\"colorbar\":{\"outlinewidth\":0,\"ticks\":\"\"}}}],\"scattermapbox\":[{\"type\":\"scattermapbox\",\"marker\":{\"colorbar\":{\"outlinewidth\":0,\"ticks\":\"\"}}}],\"scatterternary\":[{\"type\":\"scatterternary\",\"marker\":{\"colorbar\":{\"outlinewidth\":0,\"ticks\":\"\"}}}],\"scattercarpet\":[{\"type\":\"scattercarpet\",\"marker\":{\"colorbar\":{\"outlinewidth\":0,\"ticks\":\"\"}}}],\"carpet\":[{\"aaxis\":{\"endlinecolor\":\"#2a3f5f\",\"gridcolor\":\"white\",\"linecolor\":\"white\",\"minorgridcolor\":\"white\",\"startlinecolor\":\"#2a3f5f\"},\"baxis\":{\"endlinecolor\":\"#2a3f5f\",\"gridcolor\":\"white\",\"linecolor\":\"white\",\"minorgridcolor\":\"white\",\"startlinecolor\":\"#2a3f5f\"},\"type\":\"carpet\"}],\"table\":[{\"cells\":{\"fill\":{\"color\":\"#EBF0F8\"},\"line\":{\"color\":\"white\"}},\"header\":{\"fill\":{\"color\":\"#C8D4E3\"},\"line\":{\"color\":\"white\"}},\"type\":\"table\"}],\"barpolar\":[{\"marker\":{\"line\":{\"color\":\"#E5ECF6\",\"width\":0.5},\"pattern\":{\"fillmode\":\"overlay\",\"size\":10,\"solidity\":0.2}},\"type\":\"barpolar\"}],\"pie\":[{\"automargin\":true,\"type\":\"pie\"}]},\"layout\":{\"autotypenumbers\":\"strict\",\"colorway\":[\"#636efa\",\"#EF553B\",\"#00cc96\",\"#ab63fa\",\"#FFA15A\",\"#19d3f3\",\"#FF6692\",\"#B6E880\",\"#FF97FF\",\"#FECB52\"],\"font\":{\"color\":\"#2a3f5f\"},\"hovermode\":\"closest\",\"hoverlabel\":{\"align\":\"left\"},\"paper_bgcolor\":\"white\",\"plot_bgcolor\":\"#E5ECF6\",\"polar\":{\"bgcolor\":\"#E5ECF6\",\"angularaxis\":{\"gridcolor\":\"white\",\"linecolor\":\"white\",\"ticks\":\"\"},\"radialaxis\":{\"gridcolor\":\"white\",\"linecolor\":\"white\",\"ticks\":\"\"}},\"ternary\":{\"bgcolor\":\"#E5ECF6\",\"aaxis\":{\"gridcolor\":\"white\",\"linecolor\":\"white\",\"ticks\":\"\"},\"baxis\":{\"gridcolor\":\"white\",\"linecolor\":\"white\",\"ticks\":\"\"},\"caxis\":{\"gridcolor\":\"white\",\"linecolor\":\"white\",\"ticks\":\"\"}},\"coloraxis\":{\"colorbar\":{\"outlinewidth\":0,\"ticks\":\"\"}},\"colorscale\":{\"sequential\":[[0.0,\"#0d0887\"],[0.1111111111111111,\"#46039f\"],[0.2222222222222222,\"#7201a8\"],[0.3333333333333333,\"#9c179e\"],[0.4444444444444444,\"#bd3786\"],[0.5555555555555556,\"#d8576b\"],[0.6666666666666666,\"#ed7953\"],[0.7777777777777778,\"#fb9f3a\"],[0.8888888888888888,\"#fdca26\"],[1.0,\"#f0f921\"]],\"sequentialminus\":[[0.0,\"#0d0887\"],[0.1111111111111111,\"#46039f\"],[0.2222222222222222,\"#7201a8\"],[0.3333333333333333,\"#9c179e\"],[0.4444444444444444,\"#bd3786\"],[0.5555555555555556,\"#d8576b\"],[0.6666666666666666,\"#ed7953\"],[0.7777777777777778,\"#fb9f3a\"],[0.8888888888888888,\"#fdca26\"],[1.0,\"#f0f921\"]],\"diverging\":[[0,\"#8e0152\"],[0.1,\"#c51b7d\"],[0.2,\"#de77ae\"],[0.3,\"#f1b6da\"],[0.4,\"#fde0ef\"],[0.5,\"#f7f7f7\"],[0.6,\"#e6f5d0\"],[0.7,\"#b8e186\"],[0.8,\"#7fbc41\"],[0.9,\"#4d9221\"],[1,\"#276419\"]]},\"xaxis\":{\"gridcolor\":\"white\",\"linecolor\":\"white\",\"ticks\":\"\",\"title\":{\"standoff\":15},\"zerolinecolor\":\"white\",\"automargin\":true,\"zerolinewidth\":2},\"yaxis\":{\"gridcolor\":\"white\",\"linecolor\":\"white\",\"ticks\":\"\",\"title\":{\"standoff\":15},\"zerolinecolor\":\"white\",\"automargin\":true,\"zerolinewidth\":2},\"scene\":{\"xaxis\":{\"backgroundcolor\":\"#E5ECF6\",\"gridcolor\":\"white\",\"linecolor\":\"white\",\"showbackground\":true,\"ticks\":\"\",\"zerolinecolor\":\"white\",\"gridwidth\":2},\"yaxis\":{\"backgroundcolor\":\"#E5ECF6\",\"gridcolor\":\"white\",\"linecolor\":\"white\",\"showbackground\":true,\"ticks\":\"\",\"zerolinecolor\":\"white\",\"gridwidth\":2},\"zaxis\":{\"backgroundcolor\":\"#E5ECF6\",\"gridcolor\":\"white\",\"linecolor\":\"white\",\"showbackground\":true,\"ticks\":\"\",\"zerolinecolor\":\"white\",\"gridwidth\":2}},\"shapedefaults\":{\"line\":{\"color\":\"#2a3f5f\"}},\"annotationdefaults\":{\"arrowcolor\":\"#2a3f5f\",\"arrowhead\":0,\"arrowwidth\":1},\"geo\":{\"bgcolor\":\"white\",\"landcolor\":\"#E5ECF6\",\"subunitcolor\":\"white\",\"showland\":true,\"showlakes\":true,\"lakecolor\":\"white\"},\"title\":{\"x\":0.05},\"mapbox\":{\"style\":\"light\"}}},\"xaxis\":{\"anchor\":\"y\",\"domain\":[0.0,1.0],\"title\":{\"text\":\"Date\"}},\"yaxis\":{\"anchor\":\"x\",\"domain\":[0.0,1.0],\"title\":{\"text\":\"Adj Close\"}},\"legend\":{\"tracegroupgap\":0},\"title\":{\"text\":\"Adjusted Close (Filled Area)\"}},                        {\"responsive\": true}                    ).then(function(){\n",
       "                            \n",
       "var gd = document.getElementById('e31c9974-72e4-4562-90ea-ede90c9e2ece');\n",
       "var x = new MutationObserver(function (mutations, observer) {{\n",
       "        var display = window.getComputedStyle(gd).display;\n",
       "        if (!display || display === 'none') {{\n",
       "            console.log([gd, 'removed!']);\n",
       "            Plotly.purge(gd);\n",
       "            observer.disconnect();\n",
       "        }}\n",
       "}});\n",
       "\n",
       "// Listen for the removal of the full notebook cells\n",
       "var notebookContainer = gd.closest('#notebook-container');\n",
       "if (notebookContainer) {{\n",
       "    x.observe(notebookContainer, {childList: true});\n",
       "}}\n",
       "\n",
       "// Listen for the clearing of the current output cell\n",
       "var outputEl = gd.closest('.output');\n",
       "if (outputEl) {{\n",
       "    x.observe(outputEl, {childList: true});\n",
       "}}\n",
       "\n",
       "                        })                };                });            </script>        </div>"
      ]
     },
     "metadata": {},
     "output_type": "display_data"
    }
   ],
   "source": [
    "# Create and display an interactive filled area plot of NVDA's Adjusted Close Prices\n",
    "area_filled = px.area(stock_data, x=stock_data.index, y='Adj Close', \n",
    "              title='Adjusted Close (Filled Area)', \n",
    "              color_discrete_sequence=['green'])\n",
    "area_filled.show()"
   ]
  },
  {
   "cell_type": "code",
   "execution_count": 14,
   "id": "27e7a64e-2185-403d-8df7-ddc565809468",
   "metadata": {},
   "outputs": [
    {
     "data": {
      "application/vnd.plotly.v1+json": {
       "config": {
        "plotlyServerURL": "https://plot.ly"
       },
       "data": [
        {
         "hovertemplate": "Date=%{x}<br>Returns=%{y}<extra></extra>",
         "legendgroup": "",
         "marker": {
          "color": "green",
          "symbol": "circle"
         },
         "mode": "markers",
         "name": "",
         "orientation": "v",
         "showlegend": false,
         "type": "scatter",
         "x": [
          "2024-06-28T00:00:00",
          "2024-07-01T00:00:00",
          "2024-07-02T00:00:00",
          "2024-07-03T00:00:00",
          "2024-07-05T00:00:00",
          "2024-07-08T00:00:00",
          "2024-07-09T00:00:00",
          "2024-07-10T00:00:00",
          "2024-07-11T00:00:00",
          "2024-07-12T00:00:00",
          "2024-07-15T00:00:00",
          "2024-07-16T00:00:00",
          "2024-07-17T00:00:00",
          "2024-07-18T00:00:00",
          "2024-07-19T00:00:00",
          "2024-07-22T00:00:00",
          "2024-07-23T00:00:00",
          "2024-07-24T00:00:00",
          "2024-07-25T00:00:00",
          "2024-07-26T00:00:00",
          "2024-07-29T00:00:00",
          "2024-07-30T00:00:00",
          "2024-07-31T00:00:00",
          "2024-08-01T00:00:00",
          "2024-08-02T00:00:00",
          "2024-08-05T00:00:00",
          "2024-08-06T00:00:00",
          "2024-08-07T00:00:00",
          "2024-08-08T00:00:00",
          "2024-08-09T00:00:00",
          "2024-08-12T00:00:00",
          "2024-08-13T00:00:00",
          "2024-08-14T00:00:00",
          "2024-08-15T00:00:00",
          "2024-08-16T00:00:00",
          "2024-08-19T00:00:00",
          "2024-08-20T00:00:00",
          "2024-08-21T00:00:00",
          "2024-08-22T00:00:00",
          "2024-08-23T00:00:00",
          "2024-08-26T00:00:00",
          "2024-08-27T00:00:00",
          "2024-08-28T00:00:00",
          "2024-08-29T00:00:00",
          "2024-08-30T00:00:00",
          "2024-09-03T00:00:00",
          "2024-09-04T00:00:00",
          "2024-09-05T00:00:00",
          "2024-09-06T00:00:00",
          "2024-09-09T00:00:00",
          "2024-09-10T00:00:00",
          "2024-09-11T00:00:00",
          "2024-09-12T00:00:00",
          "2024-09-13T00:00:00",
          "2024-09-16T00:00:00",
          "2024-09-17T00:00:00",
          "2024-09-18T00:00:00",
          "2024-09-19T00:00:00",
          "2024-09-20T00:00:00",
          "2024-09-23T00:00:00",
          "2024-09-24T00:00:00",
          "2024-09-25T00:00:00",
          "2024-09-26T00:00:00",
          "2024-09-27T00:00:00"
         ],
         "xaxis": "x",
         "y": [
          null,
          0.006151841272292069,
          -0.013113430012517413,
          0.04573245124921099,
          -0.01909885027061453,
          0.018834871237875195,
          0.024805154055542955,
          0.02686858897221911,
          -0.055666764622644416,
          0.01444276850922721,
          -0.00619011426059457,
          -0.016194364933434957,
          -0.06623932927077802,
          0.026273385005634475,
          -0.02609622467336481,
          0.04757059055192747,
          -0.0076898324712422195,
          -0.06803165196777294,
          -0.017242904974356654,
          0.006946890371754222,
          -0.01300192229148156,
          -0.07043636636890638,
          0.1281210150603136,
          -0.06674068069125283,
          -0.017764015451805837,
          -0.06357785002941196,
          0.03782976692237394,
          -0.05122297764773076,
          0.06126778811102773,
          -0.002095809754292466,
          0.04076368065598435,
          0.0653091313441041,
          0.016703982550882346,
          0.04048105741287378,
          0.013999639426562682,
          0.043506151840388974,
          -0.021153836898463174,
          0.009823243732493214,
          -0.03704283846769185,
          0.045498611311683756,
          -0.022493629438382068,
          0.014550124964198385,
          -0.02096651224197299,
          -0.06384844725718608,
          0.015137393408713784,
          -0.0952501120665129,
          -0.016574087582345354,
          0.009415324721339102,
          -0.040854380252774436,
          0.03539820973258023,
          0.015309470904559364,
          0.08149864575483146,
          0.019161658122593295,
          -0.0003357471523608435,
          -0.019479426738433836,
          -0.010190122057247453,
          -0.019205758816871588,
          0.03969303952526948,
          -0.015864958878490043,
          0.0022413977261246387,
          0.03965250753177929,
          0.021841642505655345,
          0.004291140556473172,
          -0.02128345187167735
         ],
         "yaxis": "y"
        },
        {
         "hovertemplate": "<b>OLS trendline</b><br>Returns = 9.14083e-10 * Date + -1.57499<br>R<sup>2</sup>=0.002575<br><br>Date=%{x}<br>Returns=%{y} <b>(trend)</b><extra></extra>",
         "legendgroup": "",
         "line": {
          "color": "black"
         },
         "marker": {
          "color": "green",
          "symbol": "circle"
         },
         "mode": "lines",
         "name": "",
         "showlegend": false,
         "type": "scatter",
         "x": [
          "2024-07-01T00:00:00",
          "2024-07-02T00:00:00",
          "2024-07-03T00:00:00",
          "2024-07-05T00:00:00",
          "2024-07-08T00:00:00",
          "2024-07-09T00:00:00",
          "2024-07-10T00:00:00",
          "2024-07-11T00:00:00",
          "2024-07-12T00:00:00",
          "2024-07-15T00:00:00",
          "2024-07-16T00:00:00",
          "2024-07-17T00:00:00",
          "2024-07-18T00:00:00",
          "2024-07-19T00:00:00",
          "2024-07-22T00:00:00",
          "2024-07-23T00:00:00",
          "2024-07-24T00:00:00",
          "2024-07-25T00:00:00",
          "2024-07-26T00:00:00",
          "2024-07-29T00:00:00",
          "2024-07-30T00:00:00",
          "2024-07-31T00:00:00",
          "2024-08-01T00:00:00",
          "2024-08-02T00:00:00",
          "2024-08-05T00:00:00",
          "2024-08-06T00:00:00",
          "2024-08-07T00:00:00",
          "2024-08-08T00:00:00",
          "2024-08-09T00:00:00",
          "2024-08-12T00:00:00",
          "2024-08-13T00:00:00",
          "2024-08-14T00:00:00",
          "2024-08-15T00:00:00",
          "2024-08-16T00:00:00",
          "2024-08-19T00:00:00",
          "2024-08-20T00:00:00",
          "2024-08-21T00:00:00",
          "2024-08-22T00:00:00",
          "2024-08-23T00:00:00",
          "2024-08-26T00:00:00",
          "2024-08-27T00:00:00",
          "2024-08-28T00:00:00",
          "2024-08-29T00:00:00",
          "2024-08-30T00:00:00",
          "2024-09-03T00:00:00",
          "2024-09-04T00:00:00",
          "2024-09-05T00:00:00",
          "2024-09-06T00:00:00",
          "2024-09-09T00:00:00",
          "2024-09-10T00:00:00",
          "2024-09-11T00:00:00",
          "2024-09-12T00:00:00",
          "2024-09-13T00:00:00",
          "2024-09-16T00:00:00",
          "2024-09-17T00:00:00",
          "2024-09-18T00:00:00",
          "2024-09-19T00:00:00",
          "2024-09-20T00:00:00",
          "2024-09-23T00:00:00",
          "2024-09-24T00:00:00",
          "2024-09-25T00:00:00",
          "2024-09-26T00:00:00",
          "2024-09-27T00:00:00"
         ],
         "xaxis": "x",
         "y": [
          -0.002960100201252258,
          -0.0028811234373600225,
          -0.002802146673468009,
          -0.0026441931456837597,
          -0.002407262854007275,
          -0.0023282860901150393,
          -0.0022493093262230257,
          -0.00217033256233079,
          -0.0020913557984385545,
          -0.0018544255067620696,
          -0.001775448742870056,
          -0.0016964719789778204,
          -0.0016174952150858068,
          -0.0015385184511935712,
          -0.0013015881595170864,
          -0.0012226113956250728,
          -0.0011436346317328372,
          -0.0010646578678406016,
          -0.000985681103948588,
          -0.0007487508122721032,
          -0.0006697740483798675,
          -0.000590797284487854,
          -0.0005118205205956183,
          -0.0004328437567033827,
          -0.00019591346502711993,
          -0.0001169367011348843,
          -0.00003795993724264868,
          0.0000410168266493649,
          0.00011999359054160053,
          0.00035692388221808535,
          0.00043590064611009893,
          0.0005148774100023346,
          0.0005938541738945702,
          0.0006728309377865838,
          0.0009097612294630686,
          0.0009887379933553042,
          0.0010677147572473178,
          0.0011466915211395534,
          0.001225668285031789,
          0.0014625985767080518,
          0.0015415753406002874,
          0.001620552104492523,
          0.0016995288683845367,
          0.0017785056322767723,
          0.0020944126878452707,
          0.0021733894517375063,
          0.002252366215629742,
          0.0023313429795217555,
          0.0025682732711982403,
          0.002647250035090476,
          0.0027262267989824895,
          0.002805203562874725,
          0.0028841803267667387,
          0.0031211106184432236,
          0.003200087382335459,
          0.003279064146227695,
          0.0033580409101197084,
          0.003437017674011944,
          0.003673947965688429,
          0.0037529247295804424,
          0.003831901493472678,
          0.003910878257364692,
          0.003989855021256927
         ],
         "yaxis": "y"
        }
       ],
       "layout": {
        "autosize": true,
        "legend": {
         "tracegroupgap": 0
        },
        "template": {
         "data": {
          "bar": [
           {
            "error_x": {
             "color": "#2a3f5f"
            },
            "error_y": {
             "color": "#2a3f5f"
            },
            "marker": {
             "line": {
              "color": "#E5ECF6",
              "width": 0.5
             },
             "pattern": {
              "fillmode": "overlay",
              "size": 10,
              "solidity": 0.2
             }
            },
            "type": "bar"
           }
          ],
          "barpolar": [
           {
            "marker": {
             "line": {
              "color": "#E5ECF6",
              "width": 0.5
             },
             "pattern": {
              "fillmode": "overlay",
              "size": 10,
              "solidity": 0.2
             }
            },
            "type": "barpolar"
           }
          ],
          "carpet": [
           {
            "aaxis": {
             "endlinecolor": "#2a3f5f",
             "gridcolor": "white",
             "linecolor": "white",
             "minorgridcolor": "white",
             "startlinecolor": "#2a3f5f"
            },
            "baxis": {
             "endlinecolor": "#2a3f5f",
             "gridcolor": "white",
             "linecolor": "white",
             "minorgridcolor": "white",
             "startlinecolor": "#2a3f5f"
            },
            "type": "carpet"
           }
          ],
          "choropleth": [
           {
            "colorbar": {
             "outlinewidth": 0,
             "ticks": ""
            },
            "type": "choropleth"
           }
          ],
          "contour": [
           {
            "colorbar": {
             "outlinewidth": 0,
             "ticks": ""
            },
            "colorscale": [
             [
              0,
              "#0d0887"
             ],
             [
              0.1111111111111111,
              "#46039f"
             ],
             [
              0.2222222222222222,
              "#7201a8"
             ],
             [
              0.3333333333333333,
              "#9c179e"
             ],
             [
              0.4444444444444444,
              "#bd3786"
             ],
             [
              0.5555555555555556,
              "#d8576b"
             ],
             [
              0.6666666666666666,
              "#ed7953"
             ],
             [
              0.7777777777777778,
              "#fb9f3a"
             ],
             [
              0.8888888888888888,
              "#fdca26"
             ],
             [
              1,
              "#f0f921"
             ]
            ],
            "type": "contour"
           }
          ],
          "contourcarpet": [
           {
            "colorbar": {
             "outlinewidth": 0,
             "ticks": ""
            },
            "type": "contourcarpet"
           }
          ],
          "heatmap": [
           {
            "colorbar": {
             "outlinewidth": 0,
             "ticks": ""
            },
            "colorscale": [
             [
              0,
              "#0d0887"
             ],
             [
              0.1111111111111111,
              "#46039f"
             ],
             [
              0.2222222222222222,
              "#7201a8"
             ],
             [
              0.3333333333333333,
              "#9c179e"
             ],
             [
              0.4444444444444444,
              "#bd3786"
             ],
             [
              0.5555555555555556,
              "#d8576b"
             ],
             [
              0.6666666666666666,
              "#ed7953"
             ],
             [
              0.7777777777777778,
              "#fb9f3a"
             ],
             [
              0.8888888888888888,
              "#fdca26"
             ],
             [
              1,
              "#f0f921"
             ]
            ],
            "type": "heatmap"
           }
          ],
          "heatmapgl": [
           {
            "colorbar": {
             "outlinewidth": 0,
             "ticks": ""
            },
            "colorscale": [
             [
              0,
              "#0d0887"
             ],
             [
              0.1111111111111111,
              "#46039f"
             ],
             [
              0.2222222222222222,
              "#7201a8"
             ],
             [
              0.3333333333333333,
              "#9c179e"
             ],
             [
              0.4444444444444444,
              "#bd3786"
             ],
             [
              0.5555555555555556,
              "#d8576b"
             ],
             [
              0.6666666666666666,
              "#ed7953"
             ],
             [
              0.7777777777777778,
              "#fb9f3a"
             ],
             [
              0.8888888888888888,
              "#fdca26"
             ],
             [
              1,
              "#f0f921"
             ]
            ],
            "type": "heatmapgl"
           }
          ],
          "histogram": [
           {
            "marker": {
             "pattern": {
              "fillmode": "overlay",
              "size": 10,
              "solidity": 0.2
             }
            },
            "type": "histogram"
           }
          ],
          "histogram2d": [
           {
            "colorbar": {
             "outlinewidth": 0,
             "ticks": ""
            },
            "colorscale": [
             [
              0,
              "#0d0887"
             ],
             [
              0.1111111111111111,
              "#46039f"
             ],
             [
              0.2222222222222222,
              "#7201a8"
             ],
             [
              0.3333333333333333,
              "#9c179e"
             ],
             [
              0.4444444444444444,
              "#bd3786"
             ],
             [
              0.5555555555555556,
              "#d8576b"
             ],
             [
              0.6666666666666666,
              "#ed7953"
             ],
             [
              0.7777777777777778,
              "#fb9f3a"
             ],
             [
              0.8888888888888888,
              "#fdca26"
             ],
             [
              1,
              "#f0f921"
             ]
            ],
            "type": "histogram2d"
           }
          ],
          "histogram2dcontour": [
           {
            "colorbar": {
             "outlinewidth": 0,
             "ticks": ""
            },
            "colorscale": [
             [
              0,
              "#0d0887"
             ],
             [
              0.1111111111111111,
              "#46039f"
             ],
             [
              0.2222222222222222,
              "#7201a8"
             ],
             [
              0.3333333333333333,
              "#9c179e"
             ],
             [
              0.4444444444444444,
              "#bd3786"
             ],
             [
              0.5555555555555556,
              "#d8576b"
             ],
             [
              0.6666666666666666,
              "#ed7953"
             ],
             [
              0.7777777777777778,
              "#fb9f3a"
             ],
             [
              0.8888888888888888,
              "#fdca26"
             ],
             [
              1,
              "#f0f921"
             ]
            ],
            "type": "histogram2dcontour"
           }
          ],
          "mesh3d": [
           {
            "colorbar": {
             "outlinewidth": 0,
             "ticks": ""
            },
            "type": "mesh3d"
           }
          ],
          "parcoords": [
           {
            "line": {
             "colorbar": {
              "outlinewidth": 0,
              "ticks": ""
             }
            },
            "type": "parcoords"
           }
          ],
          "pie": [
           {
            "automargin": true,
            "type": "pie"
           }
          ],
          "scatter": [
           {
            "fillpattern": {
             "fillmode": "overlay",
             "size": 10,
             "solidity": 0.2
            },
            "type": "scatter"
           }
          ],
          "scatter3d": [
           {
            "line": {
             "colorbar": {
              "outlinewidth": 0,
              "ticks": ""
             }
            },
            "marker": {
             "colorbar": {
              "outlinewidth": 0,
              "ticks": ""
             }
            },
            "type": "scatter3d"
           }
          ],
          "scattercarpet": [
           {
            "marker": {
             "colorbar": {
              "outlinewidth": 0,
              "ticks": ""
             }
            },
            "type": "scattercarpet"
           }
          ],
          "scattergeo": [
           {
            "marker": {
             "colorbar": {
              "outlinewidth": 0,
              "ticks": ""
             }
            },
            "type": "scattergeo"
           }
          ],
          "scattergl": [
           {
            "marker": {
             "colorbar": {
              "outlinewidth": 0,
              "ticks": ""
             }
            },
            "type": "scattergl"
           }
          ],
          "scattermapbox": [
           {
            "marker": {
             "colorbar": {
              "outlinewidth": 0,
              "ticks": ""
             }
            },
            "type": "scattermapbox"
           }
          ],
          "scatterpolar": [
           {
            "marker": {
             "colorbar": {
              "outlinewidth": 0,
              "ticks": ""
             }
            },
            "type": "scatterpolar"
           }
          ],
          "scatterpolargl": [
           {
            "marker": {
             "colorbar": {
              "outlinewidth": 0,
              "ticks": ""
             }
            },
            "type": "scatterpolargl"
           }
          ],
          "scatterternary": [
           {
            "marker": {
             "colorbar": {
              "outlinewidth": 0,
              "ticks": ""
             }
            },
            "type": "scatterternary"
           }
          ],
          "surface": [
           {
            "colorbar": {
             "outlinewidth": 0,
             "ticks": ""
            },
            "colorscale": [
             [
              0,
              "#0d0887"
             ],
             [
              0.1111111111111111,
              "#46039f"
             ],
             [
              0.2222222222222222,
              "#7201a8"
             ],
             [
              0.3333333333333333,
              "#9c179e"
             ],
             [
              0.4444444444444444,
              "#bd3786"
             ],
             [
              0.5555555555555556,
              "#d8576b"
             ],
             [
              0.6666666666666666,
              "#ed7953"
             ],
             [
              0.7777777777777778,
              "#fb9f3a"
             ],
             [
              0.8888888888888888,
              "#fdca26"
             ],
             [
              1,
              "#f0f921"
             ]
            ],
            "type": "surface"
           }
          ],
          "table": [
           {
            "cells": {
             "fill": {
              "color": "#EBF0F8"
             },
             "line": {
              "color": "white"
             }
            },
            "header": {
             "fill": {
              "color": "#C8D4E3"
             },
             "line": {
              "color": "white"
             }
            },
            "type": "table"
           }
          ]
         },
         "layout": {
          "annotationdefaults": {
           "arrowcolor": "#2a3f5f",
           "arrowhead": 0,
           "arrowwidth": 1
          },
          "autotypenumbers": "strict",
          "coloraxis": {
           "colorbar": {
            "outlinewidth": 0,
            "ticks": ""
           }
          },
          "colorscale": {
           "diverging": [
            [
             0,
             "#8e0152"
            ],
            [
             0.1,
             "#c51b7d"
            ],
            [
             0.2,
             "#de77ae"
            ],
            [
             0.3,
             "#f1b6da"
            ],
            [
             0.4,
             "#fde0ef"
            ],
            [
             0.5,
             "#f7f7f7"
            ],
            [
             0.6,
             "#e6f5d0"
            ],
            [
             0.7,
             "#b8e186"
            ],
            [
             0.8,
             "#7fbc41"
            ],
            [
             0.9,
             "#4d9221"
            ],
            [
             1,
             "#276419"
            ]
           ],
           "sequential": [
            [
             0,
             "#0d0887"
            ],
            [
             0.1111111111111111,
             "#46039f"
            ],
            [
             0.2222222222222222,
             "#7201a8"
            ],
            [
             0.3333333333333333,
             "#9c179e"
            ],
            [
             0.4444444444444444,
             "#bd3786"
            ],
            [
             0.5555555555555556,
             "#d8576b"
            ],
            [
             0.6666666666666666,
             "#ed7953"
            ],
            [
             0.7777777777777778,
             "#fb9f3a"
            ],
            [
             0.8888888888888888,
             "#fdca26"
            ],
            [
             1,
             "#f0f921"
            ]
           ],
           "sequentialminus": [
            [
             0,
             "#0d0887"
            ],
            [
             0.1111111111111111,
             "#46039f"
            ],
            [
             0.2222222222222222,
             "#7201a8"
            ],
            [
             0.3333333333333333,
             "#9c179e"
            ],
            [
             0.4444444444444444,
             "#bd3786"
            ],
            [
             0.5555555555555556,
             "#d8576b"
            ],
            [
             0.6666666666666666,
             "#ed7953"
            ],
            [
             0.7777777777777778,
             "#fb9f3a"
            ],
            [
             0.8888888888888888,
             "#fdca26"
            ],
            [
             1,
             "#f0f921"
            ]
           ]
          },
          "colorway": [
           "#636efa",
           "#EF553B",
           "#00cc96",
           "#ab63fa",
           "#FFA15A",
           "#19d3f3",
           "#FF6692",
           "#B6E880",
           "#FF97FF",
           "#FECB52"
          ],
          "font": {
           "color": "#2a3f5f"
          },
          "geo": {
           "bgcolor": "white",
           "lakecolor": "white",
           "landcolor": "#E5ECF6",
           "showlakes": true,
           "showland": true,
           "subunitcolor": "white"
          },
          "hoverlabel": {
           "align": "left"
          },
          "hovermode": "closest",
          "mapbox": {
           "style": "light"
          },
          "paper_bgcolor": "white",
          "plot_bgcolor": "#E5ECF6",
          "polar": {
           "angularaxis": {
            "gridcolor": "white",
            "linecolor": "white",
            "ticks": ""
           },
           "bgcolor": "#E5ECF6",
           "radialaxis": {
            "gridcolor": "white",
            "linecolor": "white",
            "ticks": ""
           }
          },
          "scene": {
           "xaxis": {
            "backgroundcolor": "#E5ECF6",
            "gridcolor": "white",
            "gridwidth": 2,
            "linecolor": "white",
            "showbackground": true,
            "ticks": "",
            "zerolinecolor": "white"
           },
           "yaxis": {
            "backgroundcolor": "#E5ECF6",
            "gridcolor": "white",
            "gridwidth": 2,
            "linecolor": "white",
            "showbackground": true,
            "ticks": "",
            "zerolinecolor": "white"
           },
           "zaxis": {
            "backgroundcolor": "#E5ECF6",
            "gridcolor": "white",
            "gridwidth": 2,
            "linecolor": "white",
            "showbackground": true,
            "ticks": "",
            "zerolinecolor": "white"
           }
          },
          "shapedefaults": {
           "line": {
            "color": "#2a3f5f"
           }
          },
          "ternary": {
           "aaxis": {
            "gridcolor": "white",
            "linecolor": "white",
            "ticks": ""
           },
           "baxis": {
            "gridcolor": "white",
            "linecolor": "white",
            "ticks": ""
           },
           "bgcolor": "#E5ECF6",
           "caxis": {
            "gridcolor": "white",
            "linecolor": "white",
            "ticks": ""
           }
          },
          "title": {
           "x": 0.05
          },
          "xaxis": {
           "automargin": true,
           "gridcolor": "white",
           "linecolor": "white",
           "ticks": "",
           "title": {
            "standoff": 15
           },
           "zerolinecolor": "white",
           "zerolinewidth": 2
          },
          "yaxis": {
           "automargin": true,
           "gridcolor": "white",
           "linecolor": "white",
           "ticks": "",
           "title": {
            "standoff": 15
           },
           "zerolinecolor": "white",
           "zerolinewidth": 2
          }
         }
        },
        "title": {
         "text": "Returns with Best-Fit Line"
        },
        "xaxis": {
         "anchor": "y",
         "autorange": true,
         "domain": [
          0,
          1
         ],
         "range": [
          "2024-06-22 14:02:13.1437",
          "2024-10-02 09:57:46.8563"
         ],
         "title": {
          "text": "Date"
         },
         "type": "date"
        },
        "yaxis": {
         "anchor": "x",
         "autorange": true,
         "domain": [
          0,
          1
         ],
         "range": [
          -0.11368365168377528,
          0.14655455467757597
         ],
         "title": {
          "text": "Returns"
         },
         "type": "linear"
        }
       }
      },
      "image/png": "[encoded data removed]",
      "text/html": [
       "<div>                            <div id=\"381a1648-b57b-462b-88e4-97bcf829a604\" class=\"plotly-graph-div\" style=\"height:525px; width:100%;\"></div>            <script type=\"text/javascript\">                require([\"plotly\"], function(Plotly) {                    window.PLOTLYENV=window.PLOTLYENV || {};                                    if (document.getElementById(\"381a1648-b57b-462b-88e4-97bcf829a604\")) {                    Plotly.newPlot(                        \"381a1648-b57b-462b-88e4-97bcf829a604\",                        [{\"hovertemplate\":\"Date=%{x}\\u003cbr\\u003eReturns=%{y}\\u003cextra\\u003e\\u003c\\u002fextra\\u003e\",\"legendgroup\":\"\",\"marker\":{\"color\":\"green\",\"symbol\":\"circle\"},\"mode\":\"markers\",\"name\":\"\",\"orientation\":\"v\",\"showlegend\":false,\"x\":[\"2024-06-28T00:00:00\",\"2024-07-01T00:00:00\",\"2024-07-02T00:00:00\",\"2024-07-03T00:00:00\",\"2024-07-05T00:00:00\",\"2024-07-08T00:00:00\",\"2024-07-09T00:00:00\",\"2024-07-10T00:00:00\",\"2024-07-11T00:00:00\",\"2024-07-12T00:00:00\",\"2024-07-15T00:00:00\",\"2024-07-16T00:00:00\",\"2024-07-17T00:00:00\",\"2024-07-18T00:00:00\",\"2024-07-19T00:00:00\",\"2024-07-22T00:00:00\",\"2024-07-23T00:00:00\",\"2024-07-24T00:00:00\",\"2024-07-25T00:00:00\",\"2024-07-26T00:00:00\",\"2024-07-29T00:00:00\",\"2024-07-30T00:00:00\",\"2024-07-31T00:00:00\",\"2024-08-01T00:00:00\",\"2024-08-02T00:00:00\",\"2024-08-05T00:00:00\",\"2024-08-06T00:00:00\",\"2024-08-07T00:00:00\",\"2024-08-08T00:00:00\",\"2024-08-09T00:00:00\",\"2024-08-12T00:00:00\",\"2024-08-13T00:00:00\",\"2024-08-14T00:00:00\",\"2024-08-15T00:00:00\",\"2024-08-16T00:00:00\",\"2024-08-19T00:00:00\",\"2024-08-20T00:00:00\",\"2024-08-21T00:00:00\",\"2024-08-22T00:00:00\",\"2024-08-23T00:00:00\",\"2024-08-26T00:00:00\",\"2024-08-27T00:00:00\",\"2024-08-28T00:00:00\",\"2024-08-29T00:00:00\",\"2024-08-30T00:00:00\",\"2024-09-03T00:00:00\",\"2024-09-04T00:00:00\",\"2024-09-05T00:00:00\",\"2024-09-06T00:00:00\",\"2024-09-09T00:00:00\",\"2024-09-10T00:00:00\",\"2024-09-11T00:00:00\",\"2024-09-12T00:00:00\",\"2024-09-13T00:00:00\",\"2024-09-16T00:00:00\",\"2024-09-17T00:00:00\",\"2024-09-18T00:00:00\",\"2024-09-19T00:00:00\",\"2024-09-20T00:00:00\",\"2024-09-23T00:00:00\",\"2024-09-24T00:00:00\",\"2024-09-25T00:00:00\",\"2024-09-26T00:00:00\",\"2024-09-27T00:00:00\"],\"xaxis\":\"x\",\"y\":[null,0.006151841272292069,-0.013113430012517413,0.04573245124921099,-0.01909885027061453,0.018834871237875195,0.024805154055542955,0.02686858897221911,-0.055666764622644416,0.01444276850922721,-0.00619011426059457,-0.016194364933434957,-0.06623932927077802,0.026273385005634475,-0.02609622467336481,0.04757059055192747,-0.0076898324712422195,-0.06803165196777294,-0.017242904974356654,0.006946890371754222,-0.01300192229148156,-0.07043636636890638,0.1281210150603136,-0.06674068069125283,-0.017764015451805837,-0.06357785002941196,0.03782976692237394,-0.05122297764773076,0.06126778811102773,-0.002095809754292466,0.04076368065598435,0.0653091313441041,0.016703982550882346,0.04048105741287378,0.013999639426562682,0.043506151840388974,-0.021153836898463174,0.009823243732493214,-0.03704283846769185,0.045498611311683756,-0.022493629438382068,0.014550124964198385,-0.02096651224197299,-0.06384844725718608,0.015137393408713784,-0.0952501120665129,-0.016574087582345354,0.009415324721339102,-0.040854380252774436,0.03539820973258023,0.015309470904559364,0.08149864575483146,0.019161658122593295,-0.0003357471523608435,-0.019479426738433836,-0.010190122057247453,-0.019205758816871588,0.03969303952526948,-0.015864958878490043,0.0022413977261246387,0.03965250753177929,0.021841642505655345,0.004291140556473172,-0.02128345187167735],\"yaxis\":\"y\",\"type\":\"scatter\"},{\"hovertemplate\":\"\\u003cb\\u003eOLS trendline\\u003c\\u002fb\\u003e\\u003cbr\\u003eReturns = 9.14083e-10 * Date + -1.57499\\u003cbr\\u003eR\\u003csup\\u003e2\\u003c\\u002fsup\\u003e=0.002575\\u003cbr\\u003e\\u003cbr\\u003eDate=%{x}\\u003cbr\\u003eReturns=%{y} \\u003cb\\u003e(trend)\\u003c\\u002fb\\u003e\\u003cextra\\u003e\\u003c\\u002fextra\\u003e\",\"legendgroup\":\"\",\"marker\":{\"color\":\"green\",\"symbol\":\"circle\"},\"mode\":\"lines\",\"name\":\"\",\"showlegend\":false,\"x\":[\"2024-07-01T00:00:00\",\"2024-07-02T00:00:00\",\"2024-07-03T00:00:00\",\"2024-07-05T00:00:00\",\"2024-07-08T00:00:00\",\"2024-07-09T00:00:00\",\"2024-07-10T00:00:00\",\"2024-07-11T00:00:00\",\"2024-07-12T00:00:00\",\"2024-07-15T00:00:00\",\"2024-07-16T00:00:00\",\"2024-07-17T00:00:00\",\"2024-07-18T00:00:00\",\"2024-07-19T00:00:00\",\"2024-07-22T00:00:00\",\"2024-07-23T00:00:00\",\"2024-07-24T00:00:00\",\"2024-07-25T00:00:00\",\"2024-07-26T00:00:00\",\"2024-07-29T00:00:00\",\"2024-07-30T00:00:00\",\"2024-07-31T00:00:00\",\"2024-08-01T00:00:00\",\"2024-08-02T00:00:00\",\"2024-08-05T00:00:00\",\"2024-08-06T00:00:00\",\"2024-08-07T00:00:00\",\"2024-08-08T00:00:00\",\"2024-08-09T00:00:00\",\"2024-08-12T00:00:00\",\"2024-08-13T00:00:00\",\"2024-08-14T00:00:00\",\"2024-08-15T00:00:00\",\"2024-08-16T00:00:00\",\"2024-08-19T00:00:00\",\"2024-08-20T00:00:00\",\"2024-08-21T00:00:00\",\"2024-08-22T00:00:00\",\"2024-08-23T00:00:00\",\"2024-08-26T00:00:00\",\"2024-08-27T00:00:00\",\"2024-08-28T00:00:00\",\"2024-08-29T00:00:00\",\"2024-08-30T00:00:00\",\"2024-09-03T00:00:00\",\"2024-09-04T00:00:00\",\"2024-09-05T00:00:00\",\"2024-09-06T00:00:00\",\"2024-09-09T00:00:00\",\"2024-09-10T00:00:00\",\"2024-09-11T00:00:00\",\"2024-09-12T00:00:00\",\"2024-09-13T00:00:00\",\"2024-09-16T00:00:00\",\"2024-09-17T00:00:00\",\"2024-09-18T00:00:00\",\"2024-09-19T00:00:00\",\"2024-09-20T00:00:00\",\"2024-09-23T00:00:00\",\"2024-09-24T00:00:00\",\"2024-09-25T00:00:00\",\"2024-09-26T00:00:00\",\"2024-09-27T00:00:00\"],\"xaxis\":\"x\",\"y\":[-0.002960100201252258,-0.0028811234373600225,-0.002802146673468009,-0.0026441931456837597,-0.002407262854007275,-0.0023282860901150393,-0.0022493093262230257,-0.00217033256233079,-0.0020913557984385545,-0.0018544255067620696,-0.001775448742870056,-0.0016964719789778204,-0.0016174952150858068,-0.0015385184511935712,-0.0013015881595170864,-0.0012226113956250728,-0.0011436346317328372,-0.0010646578678406016,-0.000985681103948588,-0.0007487508122721032,-0.0006697740483798675,-0.000590797284487854,-0.0005118205205956183,-0.0004328437567033827,-0.00019591346502711993,-0.0001169367011348843,-3.795993724264868e-05,4.10168266493649e-05,0.00011999359054160053,0.00035692388221808535,0.00043590064611009893,0.0005148774100023346,0.0005938541738945702,0.0006728309377865838,0.0009097612294630686,0.0009887379933553042,0.0010677147572473178,0.0011466915211395534,0.001225668285031789,0.0014625985767080518,0.0015415753406002874,0.001620552104492523,0.0016995288683845367,0.0017785056322767723,0.0020944126878452707,0.0021733894517375063,0.002252366215629742,0.0023313429795217555,0.0025682732711982403,0.002647250035090476,0.0027262267989824895,0.002805203562874725,0.0028841803267667387,0.0031211106184432236,0.003200087382335459,0.003279064146227695,0.0033580409101197084,0.003437017674011944,0.003673947965688429,0.0037529247295804424,0.003831901493472678,0.003910878257364692,0.003989855021256927],\"yaxis\":\"y\",\"type\":\"scatter\",\"line\":{\"color\":\"black\"}}],                        {\"template\":{\"data\":{\"histogram2dcontour\":[{\"type\":\"histogram2dcontour\",\"colorbar\":{\"outlinewidth\":0,\"ticks\":\"\"},\"colorscale\":[[0.0,\"#0d0887\"],[0.1111111111111111,\"#46039f\"],[0.2222222222222222,\"#7201a8\"],[0.3333333333333333,\"#9c179e\"],[0.4444444444444444,\"#bd3786\"],[0.5555555555555556,\"#d8576b\"],[0.6666666666666666,\"#ed7953\"],[0.7777777777777778,\"#fb9f3a\"],[0.8888888888888888,\"#fdca26\"],[1.0,\"#f0f921\"]]}],\"choropleth\":[{\"type\":\"choropleth\",\"colorbar\":{\"outlinewidth\":0,\"ticks\":\"\"}}],\"histogram2d\":[{\"type\":\"histogram2d\",\"colorbar\":{\"outlinewidth\":0,\"ticks\":\"\"},\"colorscale\":[[0.0,\"#0d0887\"],[0.1111111111111111,\"#46039f\"],[0.2222222222222222,\"#7201a8\"],[0.3333333333333333,\"#9c179e\"],[0.4444444444444444,\"#bd3786\"],[0.5555555555555556,\"#d8576b\"],[0.6666666666666666,\"#ed7953\"],[0.7777777777777778,\"#fb9f3a\"],[0.8888888888888888,\"#fdca26\"],[1.0,\"#f0f921\"]]}],\"heatmap\":[{\"type\":\"heatmap\",\"colorbar\":{\"outlinewidth\":0,\"ticks\":\"\"},\"colorscale\":[[0.0,\"#0d0887\"],[0.1111111111111111,\"#46039f\"],[0.2222222222222222,\"#7201a8\"],[0.3333333333333333,\"#9c179e\"],[0.4444444444444444,\"#bd3786\"],[0.5555555555555556,\"#d8576b\"],[0.6666666666666666,\"#ed7953\"],[0.7777777777777778,\"#fb9f3a\"],[0.8888888888888888,\"#fdca26\"],[1.0,\"#f0f921\"]]}],\"heatmapgl\":[{\"type\":\"heatmapgl\",\"colorbar\":{\"outlinewidth\":0,\"ticks\":\"\"},\"colorscale\":[[0.0,\"#0d0887\"],[0.1111111111111111,\"#46039f\"],[0.2222222222222222,\"#7201a8\"],[0.3333333333333333,\"#9c179e\"],[0.4444444444444444,\"#bd3786\"],[0.5555555555555556,\"#d8576b\"],[0.6666666666666666,\"#ed7953\"],[0.7777777777777778,\"#fb9f3a\"],[0.8888888888888888,\"#fdca26\"],[1.0,\"#f0f921\"]]}],\"contourcarpet\":[{\"type\":\"contourcarpet\",\"colorbar\":{\"outlinewidth\":0,\"ticks\":\"\"}}],\"contour\":[{\"type\":\"contour\",\"colorbar\":{\"outlinewidth\":0,\"ticks\":\"\"},\"colorscale\":[[0.0,\"#0d0887\"],[0.1111111111111111,\"#46039f\"],[0.2222222222222222,\"#7201a8\"],[0.3333333333333333,\"#9c179e\"],[0.4444444444444444,\"#bd3786\"],[0.5555555555555556,\"#d8576b\"],[0.6666666666666666,\"#ed7953\"],[0.7777777777777778,\"#fb9f3a\"],[0.8888888888888888,\"#fdca26\"],[1.0,\"#f0f921\"]]}],\"surface\":[{\"type\":\"surface\",\"colorbar\":{\"outlinewidth\":0,\"ticks\":\"\"},\"colorscale\":[[0.0,\"#0d0887\"],[0.1111111111111111,\"#46039f\"],[0.2222222222222222,\"#7201a8\"],[0.3333333333333333,\"#9c179e\"],[0.4444444444444444,\"#bd3786\"],[0.5555555555555556,\"#d8576b\"],[0.6666666666666666,\"#ed7953\"],[0.7777777777777778,\"#fb9f3a\"],[0.8888888888888888,\"#fdca26\"],[1.0,\"#f0f921\"]]}],\"mesh3d\":[{\"type\":\"mesh3d\",\"colorbar\":{\"outlinewidth\":0,\"ticks\":\"\"}}],\"scatter\":[{\"fillpattern\":{\"fillmode\":\"overlay\",\"size\":10,\"solidity\":0.2},\"type\":\"scatter\"}],\"parcoords\":[{\"type\":\"parcoords\",\"line\":{\"colorbar\":{\"outlinewidth\":0,\"ticks\":\"\"}}}],\"scatterpolargl\":[{\"type\":\"scatterpolargl\",\"marker\":{\"colorbar\":{\"outlinewidth\":0,\"ticks\":\"\"}}}],\"bar\":[{\"error_x\":{\"color\":\"#2a3f5f\"},\"error_y\":{\"color\":\"#2a3f5f\"},\"marker\":{\"line\":{\"color\":\"#E5ECF6\",\"width\":0.5},\"pattern\":{\"fillmode\":\"overlay\",\"size\":10,\"solidity\":0.2}},\"type\":\"bar\"}],\"scattergeo\":[{\"type\":\"scattergeo\",\"marker\":{\"colorbar\":{\"outlinewidth\":0,\"ticks\":\"\"}}}],\"scatterpolar\":[{\"type\":\"scatterpolar\",\"marker\":{\"colorbar\":{\"outlinewidth\":0,\"ticks\":\"\"}}}],\"histogram\":[{\"marker\":{\"pattern\":{\"fillmode\":\"overlay\",\"size\":10,\"solidity\":0.2}},\"type\":\"histogram\"}],\"scattergl\":[{\"type\":\"scattergl\",\"marker\":{\"colorbar\":{\"outlinewidth\":0,\"ticks\":\"\"}}}],\"scatter3d\":[{\"type\":\"scatter3d\",\"line\":{\"colorbar\":{\"outlinewidth\":0,\"ticks\":\"\"}},\"marker\":{\"colorbar\":{\"outlinewidth\":0,\"ticks\":\"\"}}}],\"scattermapbox\":[{\"type\":\"scattermapbox\",\"marker\":{\"colorbar\":{\"outlinewidth\":0,\"ticks\":\"\"}}}],\"scatterternary\":[{\"type\":\"scatterternary\",\"marker\":{\"colorbar\":{\"outlinewidth\":0,\"ticks\":\"\"}}}],\"scattercarpet\":[{\"type\":\"scattercarpet\",\"marker\":{\"colorbar\":{\"outlinewidth\":0,\"ticks\":\"\"}}}],\"carpet\":[{\"aaxis\":{\"endlinecolor\":\"#2a3f5f\",\"gridcolor\":\"white\",\"linecolor\":\"white\",\"minorgridcolor\":\"white\",\"startlinecolor\":\"#2a3f5f\"},\"baxis\":{\"endlinecolor\":\"#2a3f5f\",\"gridcolor\":\"white\",\"linecolor\":\"white\",\"minorgridcolor\":\"white\",\"startlinecolor\":\"#2a3f5f\"},\"type\":\"carpet\"}],\"table\":[{\"cells\":{\"fill\":{\"color\":\"#EBF0F8\"},\"line\":{\"color\":\"white\"}},\"header\":{\"fill\":{\"color\":\"#C8D4E3\"},\"line\":{\"color\":\"white\"}},\"type\":\"table\"}],\"barpolar\":[{\"marker\":{\"line\":{\"color\":\"#E5ECF6\",\"width\":0.5},\"pattern\":{\"fillmode\":\"overlay\",\"size\":10,\"solidity\":0.2}},\"type\":\"barpolar\"}],\"pie\":[{\"automargin\":true,\"type\":\"pie\"}]},\"layout\":{\"autotypenumbers\":\"strict\",\"colorway\":[\"#636efa\",\"#EF553B\",\"#00cc96\",\"#ab63fa\",\"#FFA15A\",\"#19d3f3\",\"#FF6692\",\"#B6E880\",\"#FF97FF\",\"#FECB52\"],\"font\":{\"color\":\"#2a3f5f\"},\"hovermode\":\"closest\",\"hoverlabel\":{\"align\":\"left\"},\"paper_bgcolor\":\"white\",\"plot_bgcolor\":\"#E5ECF6\",\"polar\":{\"bgcolor\":\"#E5ECF6\",\"angularaxis\":{\"gridcolor\":\"white\",\"linecolor\":\"white\",\"ticks\":\"\"},\"radialaxis\":{\"gridcolor\":\"white\",\"linecolor\":\"white\",\"ticks\":\"\"}},\"ternary\":{\"bgcolor\":\"#E5ECF6\",\"aaxis\":{\"gridcolor\":\"white\",\"linecolor\":\"white\",\"ticks\":\"\"},\"baxis\":{\"gridcolor\":\"white\",\"linecolor\":\"white\",\"ticks\":\"\"},\"caxis\":{\"gridcolor\":\"white\",\"linecolor\":\"white\",\"ticks\":\"\"}},\"coloraxis\":{\"colorbar\":{\"outlinewidth\":0,\"ticks\":\"\"}},\"colorscale\":{\"sequential\":[[0.0,\"#0d0887\"],[0.1111111111111111,\"#46039f\"],[0.2222222222222222,\"#7201a8\"],[0.3333333333333333,\"#9c179e\"],[0.4444444444444444,\"#bd3786\"],[0.5555555555555556,\"#d8576b\"],[0.6666666666666666,\"#ed7953\"],[0.7777777777777778,\"#fb9f3a\"],[0.8888888888888888,\"#fdca26\"],[1.0,\"#f0f921\"]],\"sequentialminus\":[[0.0,\"#0d0887\"],[0.1111111111111111,\"#46039f\"],[0.2222222222222222,\"#7201a8\"],[0.3333333333333333,\"#9c179e\"],[0.4444444444444444,\"#bd3786\"],[0.5555555555555556,\"#d8576b\"],[0.6666666666666666,\"#ed7953\"],[0.7777777777777778,\"#fb9f3a\"],[0.8888888888888888,\"#fdca26\"],[1.0,\"#f0f921\"]],\"diverging\":[[0,\"#8e0152\"],[0.1,\"#c51b7d\"],[0.2,\"#de77ae\"],[0.3,\"#f1b6da\"],[0.4,\"#fde0ef\"],[0.5,\"#f7f7f7\"],[0.6,\"#e6f5d0\"],[0.7,\"#b8e186\"],[0.8,\"#7fbc41\"],[0.9,\"#4d9221\"],[1,\"#276419\"]]},\"xaxis\":{\"gridcolor\":\"white\",\"linecolor\":\"white\",\"ticks\":\"\",\"title\":{\"standoff\":15},\"zerolinecolor\":\"white\",\"automargin\":true,\"zerolinewidth\":2},\"yaxis\":{\"gridcolor\":\"white\",\"linecolor\":\"white\",\"ticks\":\"\",\"title\":{\"standoff\":15},\"zerolinecolor\":\"white\",\"automargin\":true,\"zerolinewidth\":2},\"scene\":{\"xaxis\":{\"backgroundcolor\":\"#E5ECF6\",\"gridcolor\":\"white\",\"linecolor\":\"white\",\"showbackground\":true,\"ticks\":\"\",\"zerolinecolor\":\"white\",\"gridwidth\":2},\"yaxis\":{\"backgroundcolor\":\"#E5ECF6\",\"gridcolor\":\"white\",\"linecolor\":\"white\",\"showbackground\":true,\"ticks\":\"\",\"zerolinecolor\":\"white\",\"gridwidth\":2},\"zaxis\":{\"backgroundcolor\":\"#E5ECF6\",\"gridcolor\":\"white\",\"linecolor\":\"white\",\"showbackground\":true,\"ticks\":\"\",\"zerolinecolor\":\"white\",\"gridwidth\":2}},\"shapedefaults\":{\"line\":{\"color\":\"#2a3f5f\"}},\"annotationdefaults\":{\"arrowcolor\":\"#2a3f5f\",\"arrowhead\":0,\"arrowwidth\":1},\"geo\":{\"bgcolor\":\"white\",\"landcolor\":\"#E5ECF6\",\"subunitcolor\":\"white\",\"showland\":true,\"showlakes\":true,\"lakecolor\":\"white\"},\"title\":{\"x\":0.05},\"mapbox\":{\"style\":\"light\"}}},\"xaxis\":{\"anchor\":\"y\",\"domain\":[0.0,1.0],\"title\":{\"text\":\"Date\"}},\"yaxis\":{\"anchor\":\"x\",\"domain\":[0.0,1.0],\"title\":{\"text\":\"Returns\"}},\"legend\":{\"tracegroupgap\":0},\"title\":{\"text\":\"Returns with Best-Fit Line\"}},                        {\"responsive\": true}                    ).then(function(){\n",
       "                            \n",
       "var gd = document.getElementById('381a1648-b57b-462b-88e4-97bcf829a604');\n",
       "var x = new MutationObserver(function (mutations, observer) {{\n",
       "        var display = window.getComputedStyle(gd).display;\n",
       "        if (!display || display === 'none') {{\n",
       "            console.log([gd, 'removed!']);\n",
       "            Plotly.purge(gd);\n",
       "            observer.disconnect();\n",
       "        }}\n",
       "}});\n",
       "\n",
       "// Listen for the removal of the full notebook cells\n",
       "var notebookContainer = gd.closest('#notebook-container');\n",
       "if (notebookContainer) {{\n",
       "    x.observe(notebookContainer, {childList: true});\n",
       "}}\n",
       "\n",
       "// Listen for the clearing of the current output cell\n",
       "var outputEl = gd.closest('.output');\n",
       "if (outputEl) {{\n",
       "    x.observe(outputEl, {childList: true});\n",
       "}}\n",
       "\n",
       "                        })                };                });            </script>        </div>"
      ]
     },
     "metadata": {},
     "output_type": "display_data"
    }
   ],
   "source": [
    "# Create and display an interactive line plot of NVDA's Returns with a best-fit line\n",
    "stock_data['Returns'] = stock_data['Adj Close'].pct_change()\n",
    "\n",
    "# Create a scatter plot with a trendline (best-fit line)\n",
    "returns_plot = px.scatter(stock_data, x=stock_data.index, y='Returns',\n",
    "                          title='Returns with Best-Fit Line',\n",
    "                          trendline='ols',  # Add Ordinary Least Squares (OLS) trendline\n",
    "                          color_discrete_sequence=['green'])\n",
    "\n",
    "# Customize the trendline color by manually updating the figure\n",
    "returns_plot.update_traces(marker=dict(color='green'))  # Change point color\n",
    "returns_plot.data[1].line.color = 'black'  # Change trendline color\n",
    "\n",
    "# Show the plot\n",
    "returns_plot.show()"
   ]
  },
  {
   "cell_type": "code",
   "execution_count": 15,
   "id": "a41e22d6-57cb-4a4f-912b-3f20515072d9",
   "metadata": {},
   "outputs": [
    {
     "data": {
      "application/vnd.plotly.v1+json": {
       "config": {
        "plotlyServerURL": "https://plot.ly"
       },
       "data": [
        {
         "mode": "lines",
         "name": "Adj Close",
         "type": "scatter",
         "x": [
          "2024-07-26T00:00:00",
          "2024-07-29T00:00:00",
          "2024-07-30T00:00:00",
          "2024-07-31T00:00:00",
          "2024-08-01T00:00:00",
          "2024-08-02T00:00:00",
          "2024-08-05T00:00:00",
          "2024-08-06T00:00:00",
          "2024-08-07T00:00:00",
          "2024-08-08T00:00:00",
          "2024-08-09T00:00:00",
          "2024-08-12T00:00:00",
          "2024-08-13T00:00:00",
          "2024-08-14T00:00:00",
          "2024-08-15T00:00:00",
          "2024-08-16T00:00:00",
          "2024-08-19T00:00:00",
          "2024-08-20T00:00:00",
          "2024-08-21T00:00:00",
          "2024-08-22T00:00:00",
          "2024-08-23T00:00:00",
          "2024-08-26T00:00:00",
          "2024-08-27T00:00:00",
          "2024-08-28T00:00:00",
          "2024-08-29T00:00:00",
          "2024-08-30T00:00:00",
          "2024-09-03T00:00:00",
          "2024-09-04T00:00:00",
          "2024-09-05T00:00:00",
          "2024-09-06T00:00:00",
          "2024-09-09T00:00:00",
          "2024-09-10T00:00:00",
          "2024-09-11T00:00:00",
          "2024-09-12T00:00:00",
          "2024-09-13T00:00:00",
          "2024-09-16T00:00:00",
          "2024-09-17T00:00:00",
          "2024-09-18T00:00:00",
          "2024-09-19T00:00:00",
          "2024-09-20T00:00:00",
          "2024-09-23T00:00:00",
          "2024-09-24T00:00:00",
          "2024-09-25T00:00:00",
          "2024-09-26T00:00:00",
          "2024-09-27T00:00:00"
         ],
         "y": [
          113.05032348632812,
          111.58045196533203,
          103.72113037109375,
          117.0099868774414,
          109.2006607055664,
          107.26081848144531,
          100.44140625,
          104.24108123779297,
          98.90154266357422,
          104.96102142333984,
          104.74104309082031,
          109.01067352294922,
          116.13006591796875,
          118.06990051269531,
          122.84949493408203,
          124.56934356689453,
          129.98887634277344,
          127.2391128540039,
          128.489013671875,
          123.72941589355469,
          129.3589324951172,
          126.44918060302734,
          128.28903198242188,
          125.59925842285156,
          117.57994079589844,
          119.35979461669922,
          107.99076080322266,
          106.20091247558594,
          107.2008285522461,
          102.82120513916016,
          106.46089172363281,
          108.09075164794922,
          116.9000015258789,
          119.13999938964844,
          119.0999984741211,
          116.77999877929688,
          115.58999633789062,
          113.37000274658203,
          117.87000274658203,
          116,
          116.26000213623047,
          120.87000274658203,
          123.51000213623047,
          124.04000091552734,
          121.4000015258789
         ]
        },
        {
         "line": {
          "color": "green"
         },
         "mode": "lines",
         "name": "SMA 10",
         "type": "scatter",
         "x": [
          "2024-07-26T00:00:00",
          "2024-07-29T00:00:00",
          "2024-07-30T00:00:00",
          "2024-07-31T00:00:00",
          "2024-08-01T00:00:00",
          "2024-08-02T00:00:00",
          "2024-08-05T00:00:00",
          "2024-08-06T00:00:00",
          "2024-08-07T00:00:00",
          "2024-08-08T00:00:00",
          "2024-08-09T00:00:00",
          "2024-08-12T00:00:00",
          "2024-08-13T00:00:00",
          "2024-08-14T00:00:00",
          "2024-08-15T00:00:00",
          "2024-08-16T00:00:00",
          "2024-08-19T00:00:00",
          "2024-08-20T00:00:00",
          "2024-08-21T00:00:00",
          "2024-08-22T00:00:00",
          "2024-08-23T00:00:00",
          "2024-08-26T00:00:00",
          "2024-08-27T00:00:00",
          "2024-08-28T00:00:00",
          "2024-08-29T00:00:00",
          "2024-08-30T00:00:00",
          "2024-09-03T00:00:00",
          "2024-09-04T00:00:00",
          "2024-09-05T00:00:00",
          "2024-09-06T00:00:00",
          "2024-09-09T00:00:00",
          "2024-09-10T00:00:00",
          "2024-09-11T00:00:00",
          "2024-09-12T00:00:00",
          "2024-09-13T00:00:00",
          "2024-09-16T00:00:00",
          "2024-09-17T00:00:00",
          "2024-09-18T00:00:00",
          "2024-09-19T00:00:00",
          "2024-09-20T00:00:00",
          "2024-09-23T00:00:00",
          "2024-09-24T00:00:00",
          "2024-09-25T00:00:00",
          "2024-09-26T00:00:00",
          "2024-09-27T00:00:00"
         ],
         "y": [
          119.74275512695313,
          118.0578987121582,
          115.7950927734375,
          115.69810104370117,
          114.5102035522461,
          113.44429397583008,
          111.13549118041992,
          109.30164794921875,
          107.76777954101563,
          107.0368423461914,
          106.20591430664062,
          105.94893646240234,
          107.18983001708985,
          107.29582138061524,
          108.6607048034668,
          110.39155731201171,
          113.34630432128907,
          115.64610748291015,
          118.60485458374023,
          120.48169403076172,
          122.9434829711914,
          124.68733367919921,
          125.90323028564453,
          126.65616607666016,
          126.1292106628418,
          125.60825576782227,
          123.40844421386718,
          121.30462417602538,
          119.1758056640625,
          117.08498458862304,
          114.79518051147461,
          112.9593376159668,
          111.8204345703125,
          111.17450866699218,
          111.32651443481446,
          111.06853485107422,
          111.82845840454101,
          112.54536743164063,
          113.61228485107422,
          114.9301643371582,
          115.91007537841797,
          117.18800048828125,
          117.8490005493164,
          118.3390007019043,
          118.56900100708008
         ]
        },
        {
         "line": {
          "color": "lightgreen"
         },
         "mode": "lines",
         "name": "SMA 20",
         "type": "scatter",
         "x": [
          "2024-07-26T00:00:00",
          "2024-07-29T00:00:00",
          "2024-07-30T00:00:00",
          "2024-07-31T00:00:00",
          "2024-08-01T00:00:00",
          "2024-08-02T00:00:00",
          "2024-08-05T00:00:00",
          "2024-08-06T00:00:00",
          "2024-08-07T00:00:00",
          "2024-08-08T00:00:00",
          "2024-08-09T00:00:00",
          "2024-08-12T00:00:00",
          "2024-08-13T00:00:00",
          "2024-08-14T00:00:00",
          "2024-08-15T00:00:00",
          "2024-08-16T00:00:00",
          "2024-08-19T00:00:00",
          "2024-08-20T00:00:00",
          "2024-08-21T00:00:00",
          "2024-08-22T00:00:00",
          "2024-08-23T00:00:00",
          "2024-08-26T00:00:00",
          "2024-08-27T00:00:00",
          "2024-08-28T00:00:00",
          "2024-08-29T00:00:00",
          "2024-08-30T00:00:00",
          "2024-09-03T00:00:00",
          "2024-09-04T00:00:00",
          "2024-09-05T00:00:00",
          "2024-09-06T00:00:00",
          "2024-09-09T00:00:00",
          "2024-09-10T00:00:00",
          "2024-09-11T00:00:00",
          "2024-09-12T00:00:00",
          "2024-09-13T00:00:00",
          "2024-09-16T00:00:00",
          "2024-09-17T00:00:00",
          "2024-09-18T00:00:00",
          "2024-09-19T00:00:00",
          "2024-09-20T00:00:00",
          "2024-09-23T00:00:00",
          "2024-09-24T00:00:00",
          "2024-09-25T00:00:00",
          "2024-09-26T00:00:00",
          "2024-09-27T00:00:00"
         ],
         "y": [
          123.65342292785644,
          123.05597381591797,
          122.02756195068359,
          121.74508590698242,
          120.79166755676269,
          119.8637466430664,
          118.47636566162109,
          117.11998100280762,
          115.32013473510742,
          114.19873046875,
          112.97433471679688,
          112.00341758728027,
          111.49246139526367,
          111.4969612121582,
          111.58545417785645,
          111.9179256439209,
          112.24089775085449,
          112.47387771606445,
          113.18631706237792,
          113.75926818847657,
          114.57469863891602,
          115.31813507080078,
          116.5465301513672,
          116.97599372863769,
          117.3949577331543,
          117.99990653991699,
          118.37737426757812,
          118.47536582946778,
          118.89033012390136,
          118.78333930969238,
          118.86933174133301,
          118.82333564758301,
          118.86183242797851,
          118.91533737182617,
          118.72786254882813,
          118.33839530944825,
          117.6184513092041,
          116.92499580383301,
          116.39404525756837,
          116.00757446289063,
          115.35262794494629,
          115.07366905212402,
          114.83471755981445,
          114.75675468444824,
          114.94775772094727
         ]
        },
        {
         "line": {
          "color": "red"
         },
         "mode": "lines",
         "name": "Upper Band",
         "type": "scatter",
         "x": [
          "2024-07-26T00:00:00",
          "2024-07-29T00:00:00",
          "2024-07-30T00:00:00",
          "2024-07-31T00:00:00",
          "2024-08-01T00:00:00",
          "2024-08-02T00:00:00",
          "2024-08-05T00:00:00",
          "2024-08-06T00:00:00",
          "2024-08-07T00:00:00",
          "2024-08-08T00:00:00",
          "2024-08-09T00:00:00",
          "2024-08-12T00:00:00",
          "2024-08-13T00:00:00",
          "2024-08-14T00:00:00",
          "2024-08-15T00:00:00",
          "2024-08-16T00:00:00",
          "2024-08-19T00:00:00",
          "2024-08-20T00:00:00",
          "2024-08-21T00:00:00",
          "2024-08-22T00:00:00",
          "2024-08-23T00:00:00",
          "2024-08-26T00:00:00",
          "2024-08-27T00:00:00",
          "2024-08-28T00:00:00",
          "2024-08-29T00:00:00",
          "2024-08-30T00:00:00",
          "2024-09-03T00:00:00",
          "2024-09-04T00:00:00",
          "2024-09-05T00:00:00",
          "2024-09-06T00:00:00",
          "2024-09-09T00:00:00",
          "2024-09-10T00:00:00",
          "2024-09-11T00:00:00",
          "2024-09-12T00:00:00",
          "2024-09-13T00:00:00",
          "2024-09-16T00:00:00",
          "2024-09-17T00:00:00",
          "2024-09-18T00:00:00",
          "2024-09-19T00:00:00",
          "2024-09-20T00:00:00",
          "2024-09-23T00:00:00",
          "2024-09-24T00:00:00",
          "2024-09-25T00:00:00",
          "2024-09-26T00:00:00",
          "2024-09-27T00:00:00"
         ],
         "y": [
          135.9011234219009,
          136.44199669874024,
          137.93713491973566,
          137.80729904733312,
          137.47506893950055,
          137.41176868349524,
          137.57226012536682,
          136.21385526349468,
          134.14220535268942,
          132.66226105778907,
          130.46322759171343,
          127.96950901155195,
          126.12377518782662,
          126.13672873416024,
          126.488149237657,
          127.68714465483677,
          129.22894421391453,
          130.17189466626726,
          132.27617252874012,
          133.4128995395579,
          135.421549758445,
          136.76717902843134,
          138.01310941954435,
          138.8219372940581,
          138.93226084561508,
          139.01195228255258,
          138.30453765469085,
          138.1272072449587,
          137.09942193926028,
          137.3585041880653,
          137.18488912713946,
          137.24743677012833,
          137.26544481703021,
          137.315477375358,
          137.03539933748635,
          136.45309198132838,
          134.90933250815317,
          133.69592174815935,
          132.27208142879854,
          131.50557141941232,
          129.52538483980703,
          128.52823206628295,
          127.44427079074413,
          127.10259815899545,
          127.59209906645249
         ]
        },
        {
         "line": {
          "color": "red"
         },
         "mode": "lines",
         "name": "Lower Band",
         "type": "scatter",
         "x": [
          "2024-07-26T00:00:00",
          "2024-07-29T00:00:00",
          "2024-07-30T00:00:00",
          "2024-07-31T00:00:00",
          "2024-08-01T00:00:00",
          "2024-08-02T00:00:00",
          "2024-08-05T00:00:00",
          "2024-08-06T00:00:00",
          "2024-08-07T00:00:00",
          "2024-08-08T00:00:00",
          "2024-08-09T00:00:00",
          "2024-08-12T00:00:00",
          "2024-08-13T00:00:00",
          "2024-08-14T00:00:00",
          "2024-08-15T00:00:00",
          "2024-08-16T00:00:00",
          "2024-08-19T00:00:00",
          "2024-08-20T00:00:00",
          "2024-08-21T00:00:00",
          "2024-08-22T00:00:00",
          "2024-08-23T00:00:00",
          "2024-08-26T00:00:00",
          "2024-08-27T00:00:00",
          "2024-08-28T00:00:00",
          "2024-08-29T00:00:00",
          "2024-08-30T00:00:00",
          "2024-09-03T00:00:00",
          "2024-09-04T00:00:00",
          "2024-09-05T00:00:00",
          "2024-09-06T00:00:00",
          "2024-09-09T00:00:00",
          "2024-09-10T00:00:00",
          "2024-09-11T00:00:00",
          "2024-09-12T00:00:00",
          "2024-09-13T00:00:00",
          "2024-09-16T00:00:00",
          "2024-09-17T00:00:00",
          "2024-09-18T00:00:00",
          "2024-09-19T00:00:00",
          "2024-09-20T00:00:00",
          "2024-09-23T00:00:00",
          "2024-09-24T00:00:00",
          "2024-09-25T00:00:00",
          "2024-09-26T00:00:00",
          "2024-09-27T00:00:00"
         ],
         "y": [
          111.40572243381197,
          109.66995093309569,
          106.11798898163151,
          105.68287276663173,
          104.10826617402482,
          102.31572460263757,
          99.38047119787535,
          98.02610674212055,
          96.49806411752542,
          95.73519987971093,
          95.48544184188032,
          96.03732616300859,
          96.86114760270073,
          96.85719369015615,
          96.6827591180559,
          96.14870663300502,
          95.25285128779444,
          94.77586076586162,
          94.09646159601574,
          94.10563683739522,
          93.72784751938703,
          93.86909111317021,
          95.07995088319005,
          95.13005016321729,
          95.85765462069352,
          96.9878607972814,
          98.45021088046539,
          98.82352441397686,
          100.68123830854245,
          100.20817443131948,
          100.55377435552656,
          100.3992345250377,
          100.45822003892681,
          100.51519736829434,
          100.4203257601699,
          100.2236986375681,
          100.32757011025505,
          100.15406985950668,
          100.51600908633819,
          100.50957750636893,
          101.17987105008555,
          101.61910603796508,
          102.22516432888477,
          102.41091120990103,
          102.30341637544204
         ]
        },
        {
         "name": "Volume",
         "opacity": 0.3,
         "type": "bar",
         "x": [
          "2024-07-26T00:00:00",
          "2024-07-29T00:00:00",
          "2024-07-30T00:00:00",
          "2024-07-31T00:00:00",
          "2024-08-01T00:00:00",
          "2024-08-02T00:00:00",
          "2024-08-05T00:00:00",
          "2024-08-06T00:00:00",
          "2024-08-07T00:00:00",
          "2024-08-08T00:00:00",
          "2024-08-09T00:00:00",
          "2024-08-12T00:00:00",
          "2024-08-13T00:00:00",
          "2024-08-14T00:00:00",
          "2024-08-15T00:00:00",
          "2024-08-16T00:00:00",
          "2024-08-19T00:00:00",
          "2024-08-20T00:00:00",
          "2024-08-21T00:00:00",
          "2024-08-22T00:00:00",
          "2024-08-23T00:00:00",
          "2024-08-26T00:00:00",
          "2024-08-27T00:00:00",
          "2024-08-28T00:00:00",
          "2024-08-29T00:00:00",
          "2024-08-30T00:00:00",
          "2024-09-03T00:00:00",
          "2024-09-04T00:00:00",
          "2024-09-05T00:00:00",
          "2024-09-06T00:00:00",
          "2024-09-09T00:00:00",
          "2024-09-10T00:00:00",
          "2024-09-11T00:00:00",
          "2024-09-12T00:00:00",
          "2024-09-13T00:00:00",
          "2024-09-16T00:00:00",
          "2024-09-17T00:00:00",
          "2024-09-18T00:00:00",
          "2024-09-19T00:00:00",
          "2024-09-20T00:00:00",
          "2024-09-23T00:00:00",
          "2024-09-24T00:00:00",
          "2024-09-25T00:00:00",
          "2024-09-26T00:00:00",
          "2024-09-27T00:00:00"
         ],
         "y": [
          293399100,
          248152100,
          486833300,
          473174200,
          523462300,
          482027500,
          552842400,
          409012100,
          411440400,
          391910000,
          290844200,
          325559900,
          312646700,
          339246400,
          318086700,
          302589900,
          318333600,
          300087400,
          257883600,
          376189100,
          323230300,
          331964700,
          303134600,
          448101100,
          453023300,
          333751600,
          477155100,
          372470300,
          306850700,
          413638100,
          273912000,
          268283700,
          441422400,
          367100500,
          238358300,
          248772300,
          231925900,
          310318900,
          293506400,
          382462400,
          206228500,
          354966800,
          284692900,
          302582900,
          270161000
         ],
         "yaxis": "y2"
        }
       ],
       "layout": {
        "autosize": true,
        "legend": {
         "orientation": "h",
         "x": 0,
         "y": 1.1
        },
        "template": {
         "data": {
          "bar": [
           {
            "error_x": {
             "color": "#2a3f5f"
            },
            "error_y": {
             "color": "#2a3f5f"
            },
            "marker": {
             "line": {
              "color": "#E5ECF6",
              "width": 0.5
             },
             "pattern": {
              "fillmode": "overlay",
              "size": 10,
              "solidity": 0.2
             }
            },
            "type": "bar"
           }
          ],
          "barpolar": [
           {
            "marker": {
             "line": {
              "color": "#E5ECF6",
              "width": 0.5
             },
             "pattern": {
              "fillmode": "overlay",
              "size": 10,
              "solidity": 0.2
             }
            },
            "type": "barpolar"
           }
          ],
          "carpet": [
           {
            "aaxis": {
             "endlinecolor": "#2a3f5f",
             "gridcolor": "white",
             "linecolor": "white",
             "minorgridcolor": "white",
             "startlinecolor": "#2a3f5f"
            },
            "baxis": {
             "endlinecolor": "#2a3f5f",
             "gridcolor": "white",
             "linecolor": "white",
             "minorgridcolor": "white",
             "startlinecolor": "#2a3f5f"
            },
            "type": "carpet"
           }
          ],
          "choropleth": [
           {
            "colorbar": {
             "outlinewidth": 0,
             "ticks": ""
            },
            "type": "choropleth"
           }
          ],
          "contour": [
           {
            "colorbar": {
             "outlinewidth": 0,
             "ticks": ""
            },
            "colorscale": [
             [
              0,
              "#0d0887"
             ],
             [
              0.1111111111111111,
              "#46039f"
             ],
             [
              0.2222222222222222,
              "#7201a8"
             ],
             [
              0.3333333333333333,
              "#9c179e"
             ],
             [
              0.4444444444444444,
              "#bd3786"
             ],
             [
              0.5555555555555556,
              "#d8576b"
             ],
             [
              0.6666666666666666,
              "#ed7953"
             ],
             [
              0.7777777777777778,
              "#fb9f3a"
             ],
             [
              0.8888888888888888,
              "#fdca26"
             ],
             [
              1,
              "#f0f921"
             ]
            ],
            "type": "contour"
           }
          ],
          "contourcarpet": [
           {
            "colorbar": {
             "outlinewidth": 0,
             "ticks": ""
            },
            "type": "contourcarpet"
           }
          ],
          "heatmap": [
           {
            "colorbar": {
             "outlinewidth": 0,
             "ticks": ""
            },
            "colorscale": [
             [
              0,
              "#0d0887"
             ],
             [
              0.1111111111111111,
              "#46039f"
             ],
             [
              0.2222222222222222,
              "#7201a8"
             ],
             [
              0.3333333333333333,
              "#9c179e"
             ],
             [
              0.4444444444444444,
              "#bd3786"
             ],
             [
              0.5555555555555556,
              "#d8576b"
             ],
             [
              0.6666666666666666,
              "#ed7953"
             ],
             [
              0.7777777777777778,
              "#fb9f3a"
             ],
             [
              0.8888888888888888,
              "#fdca26"
             ],
             [
              1,
              "#f0f921"
             ]
            ],
            "type": "heatmap"
           }
          ],
          "heatmapgl": [
           {
            "colorbar": {
             "outlinewidth": 0,
             "ticks": ""
            },
            "colorscale": [
             [
              0,
              "#0d0887"
             ],
             [
              0.1111111111111111,
              "#46039f"
             ],
             [
              0.2222222222222222,
              "#7201a8"
             ],
             [
              0.3333333333333333,
              "#9c179e"
             ],
             [
              0.4444444444444444,
              "#bd3786"
             ],
             [
              0.5555555555555556,
              "#d8576b"
             ],
             [
              0.6666666666666666,
              "#ed7953"
             ],
             [
              0.7777777777777778,
              "#fb9f3a"
             ],
             [
              0.8888888888888888,
              "#fdca26"
             ],
             [
              1,
              "#f0f921"
             ]
            ],
            "type": "heatmapgl"
           }
          ],
          "histogram": [
           {
            "marker": {
             "pattern": {
              "fillmode": "overlay",
              "size": 10,
              "solidity": 0.2
             }
            },
            "type": "histogram"
           }
          ],
          "histogram2d": [
           {
            "colorbar": {
             "outlinewidth": 0,
             "ticks": ""
            },
            "colorscale": [
             [
              0,
              "#0d0887"
             ],
             [
              0.1111111111111111,
              "#46039f"
             ],
             [
              0.2222222222222222,
              "#7201a8"
             ],
             [
              0.3333333333333333,
              "#9c179e"
             ],
             [
              0.4444444444444444,
              "#bd3786"
             ],
             [
              0.5555555555555556,
              "#d8576b"
             ],
             [
              0.6666666666666666,
              "#ed7953"
             ],
             [
              0.7777777777777778,
              "#fb9f3a"
             ],
             [
              0.8888888888888888,
              "#fdca26"
             ],
             [
              1,
              "#f0f921"
             ]
            ],
            "type": "histogram2d"
           }
          ],
          "histogram2dcontour": [
           {
            "colorbar": {
             "outlinewidth": 0,
             "ticks": ""
            },
            "colorscale": [
             [
              0,
              "#0d0887"
             ],
             [
              0.1111111111111111,
              "#46039f"
             ],
             [
              0.2222222222222222,
              "#7201a8"
             ],
             [
              0.3333333333333333,
              "#9c179e"
             ],
             [
              0.4444444444444444,
              "#bd3786"
             ],
             [
              0.5555555555555556,
              "#d8576b"
             ],
             [
              0.6666666666666666,
              "#ed7953"
             ],
             [
              0.7777777777777778,
              "#fb9f3a"
             ],
             [
              0.8888888888888888,
              "#fdca26"
             ],
             [
              1,
              "#f0f921"
             ]
            ],
            "type": "histogram2dcontour"
           }
          ],
          "mesh3d": [
           {
            "colorbar": {
             "outlinewidth": 0,
             "ticks": ""
            },
            "type": "mesh3d"
           }
          ],
          "parcoords": [
           {
            "line": {
             "colorbar": {
              "outlinewidth": 0,
              "ticks": ""
             }
            },
            "type": "parcoords"
           }
          ],
          "pie": [
           {
            "automargin": true,
            "type": "pie"
           }
          ],
          "scatter": [
           {
            "fillpattern": {
             "fillmode": "overlay",
             "size": 10,
             "solidity": 0.2
            },
            "type": "scatter"
           }
          ],
          "scatter3d": [
           {
            "line": {
             "colorbar": {
              "outlinewidth": 0,
              "ticks": ""
             }
            },
            "marker": {
             "colorbar": {
              "outlinewidth": 0,
              "ticks": ""
             }
            },
            "type": "scatter3d"
           }
          ],
          "scattercarpet": [
           {
            "marker": {
             "colorbar": {
              "outlinewidth": 0,
              "ticks": ""
             }
            },
            "type": "scattercarpet"
           }
          ],
          "scattergeo": [
           {
            "marker": {
             "colorbar": {
              "outlinewidth": 0,
              "ticks": ""
             }
            },
            "type": "scattergeo"
           }
          ],
          "scattergl": [
           {
            "marker": {
             "colorbar": {
              "outlinewidth": 0,
              "ticks": ""
             }
            },
            "type": "scattergl"
           }
          ],
          "scattermapbox": [
           {
            "marker": {
             "colorbar": {
              "outlinewidth": 0,
              "ticks": ""
             }
            },
            "type": "scattermapbox"
           }
          ],
          "scatterpolar": [
           {
            "marker": {
             "colorbar": {
              "outlinewidth": 0,
              "ticks": ""
             }
            },
            "type": "scatterpolar"
           }
          ],
          "scatterpolargl": [
           {
            "marker": {
             "colorbar": {
              "outlinewidth": 0,
              "ticks": ""
             }
            },
            "type": "scatterpolargl"
           }
          ],
          "scatterternary": [
           {
            "marker": {
             "colorbar": {
              "outlinewidth": 0,
              "ticks": ""
             }
            },
            "type": "scatterternary"
           }
          ],
          "surface": [
           {
            "colorbar": {
             "outlinewidth": 0,
             "ticks": ""
            },
            "colorscale": [
             [
              0,
              "#0d0887"
             ],
             [
              0.1111111111111111,
              "#46039f"
             ],
             [
              0.2222222222222222,
              "#7201a8"
             ],
             [
              0.3333333333333333,
              "#9c179e"
             ],
             [
              0.4444444444444444,
              "#bd3786"
             ],
             [
              0.5555555555555556,
              "#d8576b"
             ],
             [
              0.6666666666666666,
              "#ed7953"
             ],
             [
              0.7777777777777778,
              "#fb9f3a"
             ],
             [
              0.8888888888888888,
              "#fdca26"
             ],
             [
              1,
              "#f0f921"
             ]
            ],
            "type": "surface"
           }
          ],
          "table": [
           {
            "cells": {
             "fill": {
              "color": "#EBF0F8"
             },
             "line": {
              "color": "white"
             }
            },
            "header": {
             "fill": {
              "color": "#C8D4E3"
             },
             "line": {
              "color": "white"
             }
            },
            "type": "table"
           }
          ]
         },
         "layout": {
          "annotationdefaults": {
           "arrowcolor": "#2a3f5f",
           "arrowhead": 0,
           "arrowwidth": 1
          },
          "autotypenumbers": "strict",
          "coloraxis": {
           "colorbar": {
            "outlinewidth": 0,
            "ticks": ""
           }
          },
          "colorscale": {
           "diverging": [
            [
             0,
             "#8e0152"
            ],
            [
             0.1,
             "#c51b7d"
            ],
            [
             0.2,
             "#de77ae"
            ],
            [
             0.3,
             "#f1b6da"
            ],
            [
             0.4,
             "#fde0ef"
            ],
            [
             0.5,
             "#f7f7f7"
            ],
            [
             0.6,
             "#e6f5d0"
            ],
            [
             0.7,
             "#b8e186"
            ],
            [
             0.8,
             "#7fbc41"
            ],
            [
             0.9,
             "#4d9221"
            ],
            [
             1,
             "#276419"
            ]
           ],
           "sequential": [
            [
             0,
             "#0d0887"
            ],
            [
             0.1111111111111111,
             "#46039f"
            ],
            [
             0.2222222222222222,
             "#7201a8"
            ],
            [
             0.3333333333333333,
             "#9c179e"
            ],
            [
             0.4444444444444444,
             "#bd3786"
            ],
            [
             0.5555555555555556,
             "#d8576b"
            ],
            [
             0.6666666666666666,
             "#ed7953"
            ],
            [
             0.7777777777777778,
             "#fb9f3a"
            ],
            [
             0.8888888888888888,
             "#fdca26"
            ],
            [
             1,
             "#f0f921"
            ]
           ],
           "sequentialminus": [
            [
             0,
             "#0d0887"
            ],
            [
             0.1111111111111111,
             "#46039f"
            ],
            [
             0.2222222222222222,
             "#7201a8"
            ],
            [
             0.3333333333333333,
             "#9c179e"
            ],
            [
             0.4444444444444444,
             "#bd3786"
            ],
            [
             0.5555555555555556,
             "#d8576b"
            ],
            [
             0.6666666666666666,
             "#ed7953"
            ],
            [
             0.7777777777777778,
             "#fb9f3a"
            ],
            [
             0.8888888888888888,
             "#fdca26"
            ],
            [
             1,
             "#f0f921"
            ]
           ]
          },
          "colorway": [
           "#636efa",
           "#EF553B",
           "#00cc96",
           "#ab63fa",
           "#FFA15A",
           "#19d3f3",
           "#FF6692",
           "#B6E880",
           "#FF97FF",
           "#FECB52"
          ],
          "font": {
           "color": "#2a3f5f"
          },
          "geo": {
           "bgcolor": "white",
           "lakecolor": "white",
           "landcolor": "#E5ECF6",
           "showlakes": true,
           "showland": true,
           "subunitcolor": "white"
          },
          "hoverlabel": {
           "align": "left"
          },
          "hovermode": "closest",
          "mapbox": {
           "style": "light"
          },
          "paper_bgcolor": "white",
          "plot_bgcolor": "#E5ECF6",
          "polar": {
           "angularaxis": {
            "gridcolor": "white",
            "linecolor": "white",
            "ticks": ""
           },
           "bgcolor": "#E5ECF6",
           "radialaxis": {
            "gridcolor": "white",
            "linecolor": "white",
            "ticks": ""
           }
          },
          "scene": {
           "xaxis": {
            "backgroundcolor": "#E5ECF6",
            "gridcolor": "white",
            "gridwidth": 2,
            "linecolor": "white",
            "showbackground": true,
            "ticks": "",
            "zerolinecolor": "white"
           },
           "yaxis": {
            "backgroundcolor": "#E5ECF6",
            "gridcolor": "white",
            "gridwidth": 2,
            "linecolor": "white",
            "showbackground": true,
            "ticks": "",
            "zerolinecolor": "white"
           },
           "zaxis": {
            "backgroundcolor": "#E5ECF6",
            "gridcolor": "white",
            "gridwidth": 2,
            "linecolor": "white",
            "showbackground": true,
            "ticks": "",
            "zerolinecolor": "white"
           }
          },
          "shapedefaults": {
           "line": {
            "color": "#2a3f5f"
           }
          },
          "ternary": {
           "aaxis": {
            "gridcolor": "white",
            "linecolor": "white",
            "ticks": ""
           },
           "baxis": {
            "gridcolor": "white",
            "linecolor": "white",
            "ticks": ""
           },
           "bgcolor": "#E5ECF6",
           "caxis": {
            "gridcolor": "white",
            "linecolor": "white",
            "ticks": ""
           }
          },
          "title": {
           "x": 0.05
          },
          "xaxis": {
           "automargin": true,
           "gridcolor": "white",
           "linecolor": "white",
           "ticks": "",
           "title": {
            "standoff": 15
           },
           "zerolinecolor": "white",
           "zerolinewidth": 2
          },
          "yaxis": {
           "automargin": true,
           "gridcolor": "white",
           "linecolor": "white",
           "ticks": "",
           "title": {
            "standoff": 15
           },
           "zerolinecolor": "white",
           "zerolinewidth": 2
          }
         }
        },
        "title": {
         "text": "Quantitative Figure for NVDA"
        },
        "xaxis": {
         "autorange": true,
         "range": [
          "2024-07-25 12:00",
          "2024-09-27 12:00"
         ],
         "type": "date"
        },
        "yaxis": {
         "autorange": true,
         "range": [
          91.21206392143338,
          141.5277358805062
         ],
         "title": {
          "text": "Price"
         },
         "type": "linear"
        },
        "yaxis2": {
         "autorange": true,
         "overlaying": "y",
         "range": [
          0,
          581939368.4210526
         ],
         "side": "right",
         "title": {
          "text": "Volume"
         },
         "type": "linear"
        }
       }
      },
      "image/png": "[encoded data removed]",
      "text/html": [
       "<div>                            <div id=\"8a3c9324-4200-4fa3-9ead-efee436d7720\" class=\"plotly-graph-div\" style=\"height:525px; width:100%;\"></div>            <script type=\"text/javascript\">                require([\"plotly\"], function(Plotly) {                    window.PLOTLYENV=window.PLOTLYENV || {};                                    if (document.getElementById(\"8a3c9324-4200-4fa3-9ead-efee436d7720\")) {                    Plotly.newPlot(                        \"8a3c9324-4200-4fa3-9ead-efee436d7720\",                        [{\"mode\":\"lines\",\"name\":\"Adj Close\",\"x\":[\"2024-07-26T00:00:00\",\"2024-07-29T00:00:00\",\"2024-07-30T00:00:00\",\"2024-07-31T00:00:00\",\"2024-08-01T00:00:00\",\"2024-08-02T00:00:00\",\"2024-08-05T00:00:00\",\"2024-08-06T00:00:00\",\"2024-08-07T00:00:00\",\"2024-08-08T00:00:00\",\"2024-08-09T00:00:00\",\"2024-08-12T00:00:00\",\"2024-08-13T00:00:00\",\"2024-08-14T00:00:00\",\"2024-08-15T00:00:00\",\"2024-08-16T00:00:00\",\"2024-08-19T00:00:00\",\"2024-08-20T00:00:00\",\"2024-08-21T00:00:00\",\"2024-08-22T00:00:00\",\"2024-08-23T00:00:00\",\"2024-08-26T00:00:00\",\"2024-08-27T00:00:00\",\"2024-08-28T00:00:00\",\"2024-08-29T00:00:00\",\"2024-08-30T00:00:00\",\"2024-09-03T00:00:00\",\"2024-09-04T00:00:00\",\"2024-09-05T00:00:00\",\"2024-09-06T00:00:00\",\"2024-09-09T00:00:00\",\"2024-09-10T00:00:00\",\"2024-09-11T00:00:00\",\"2024-09-12T00:00:00\",\"2024-09-13T00:00:00\",\"2024-09-16T00:00:00\",\"2024-09-17T00:00:00\",\"2024-09-18T00:00:00\",\"2024-09-19T00:00:00\",\"2024-09-20T00:00:00\",\"2024-09-23T00:00:00\",\"2024-09-24T00:00:00\",\"2024-09-25T00:00:00\",\"2024-09-26T00:00:00\",\"2024-09-27T00:00:00\"],\"y\":[113.05032348632812,111.58045196533203,103.72113037109375,117.0099868774414,109.2006607055664,107.26081848144531,100.44140625,104.24108123779297,98.90154266357422,104.96102142333984,104.74104309082031,109.01067352294922,116.13006591796875,118.06990051269531,122.84949493408203,124.56934356689453,129.98887634277344,127.2391128540039,128.489013671875,123.72941589355469,129.3589324951172,126.44918060302734,128.28903198242188,125.59925842285156,117.57994079589844,119.35979461669922,107.99076080322266,106.20091247558594,107.2008285522461,102.82120513916016,106.46089172363281,108.09075164794922,116.9000015258789,119.13999938964844,119.0999984741211,116.77999877929688,115.58999633789062,113.37000274658203,117.87000274658203,116.0,116.26000213623047,120.87000274658203,123.51000213623047,124.04000091552734,121.4000015258789],\"type\":\"scatter\"},{\"line\":{\"color\":\"green\"},\"mode\":\"lines\",\"name\":\"SMA 10\",\"x\":[\"2024-07-26T00:00:00\",\"2024-07-29T00:00:00\",\"2024-07-30T00:00:00\",\"2024-07-31T00:00:00\",\"2024-08-01T00:00:00\",\"2024-08-02T00:00:00\",\"2024-08-05T00:00:00\",\"2024-08-06T00:00:00\",\"2024-08-07T00:00:00\",\"2024-08-08T00:00:00\",\"2024-08-09T00:00:00\",\"2024-08-12T00:00:00\",\"2024-08-13T00:00:00\",\"2024-08-14T00:00:00\",\"2024-08-15T00:00:00\",\"2024-08-16T00:00:00\",\"2024-08-19T00:00:00\",\"2024-08-20T00:00:00\",\"2024-08-21T00:00:00\",\"2024-08-22T00:00:00\",\"2024-08-23T00:00:00\",\"2024-08-26T00:00:00\",\"2024-08-27T00:00:00\",\"2024-08-28T00:00:00\",\"2024-08-29T00:00:00\",\"2024-08-30T00:00:00\",\"2024-09-03T00:00:00\",\"2024-09-04T00:00:00\",\"2024-09-05T00:00:00\",\"2024-09-06T00:00:00\",\"2024-09-09T00:00:00\",\"2024-09-10T00:00:00\",\"2024-09-11T00:00:00\",\"2024-09-12T00:00:00\",\"2024-09-13T00:00:00\",\"2024-09-16T00:00:00\",\"2024-09-17T00:00:00\",\"2024-09-18T00:00:00\",\"2024-09-19T00:00:00\",\"2024-09-20T00:00:00\",\"2024-09-23T00:00:00\",\"2024-09-24T00:00:00\",\"2024-09-25T00:00:00\",\"2024-09-26T00:00:00\",\"2024-09-27T00:00:00\"],\"y\":[119.74275512695313,118.0578987121582,115.7950927734375,115.69810104370117,114.5102035522461,113.44429397583008,111.13549118041992,109.30164794921875,107.76777954101563,107.0368423461914,106.20591430664062,105.94893646240234,107.18983001708985,107.29582138061524,108.6607048034668,110.39155731201171,113.34630432128907,115.64610748291015,118.60485458374023,120.48169403076172,122.9434829711914,124.68733367919921,125.90323028564453,126.65616607666016,126.1292106628418,125.60825576782227,123.40844421386718,121.30462417602538,119.1758056640625,117.08498458862304,114.79518051147461,112.9593376159668,111.8204345703125,111.17450866699218,111.32651443481446,111.06853485107422,111.82845840454101,112.54536743164063,113.61228485107422,114.9301643371582,115.91007537841797,117.18800048828125,117.8490005493164,118.3390007019043,118.56900100708008],\"type\":\"scatter\"},{\"line\":{\"color\":\"lightgreen\"},\"mode\":\"lines\",\"name\":\"SMA 20\",\"x\":[\"2024-07-26T00:00:00\",\"2024-07-29T00:00:00\",\"2024-07-30T00:00:00\",\"2024-07-31T00:00:00\",\"2024-08-01T00:00:00\",\"2024-08-02T00:00:00\",\"2024-08-05T00:00:00\",\"2024-08-06T00:00:00\",\"2024-08-07T00:00:00\",\"2024-08-08T00:00:00\",\"2024-08-09T00:00:00\",\"2024-08-12T00:00:00\",\"2024-08-13T00:00:00\",\"2024-08-14T00:00:00\",\"2024-08-15T00:00:00\",\"2024-08-16T00:00:00\",\"2024-08-19T00:00:00\",\"2024-08-20T00:00:00\",\"2024-08-21T00:00:00\",\"2024-08-22T00:00:00\",\"2024-08-23T00:00:00\",\"2024-08-26T00:00:00\",\"2024-08-27T00:00:00\",\"2024-08-28T00:00:00\",\"2024-08-29T00:00:00\",\"2024-08-30T00:00:00\",\"2024-09-03T00:00:00\",\"2024-09-04T00:00:00\",\"2024-09-05T00:00:00\",\"2024-09-06T00:00:00\",\"2024-09-09T00:00:00\",\"2024-09-10T00:00:00\",\"2024-09-11T00:00:00\",\"2024-09-12T00:00:00\",\"2024-09-13T00:00:00\",\"2024-09-16T00:00:00\",\"2024-09-17T00:00:00\",\"2024-09-18T00:00:00\",\"2024-09-19T00:00:00\",\"2024-09-20T00:00:00\",\"2024-09-23T00:00:00\",\"2024-09-24T00:00:00\",\"2024-09-25T00:00:00\",\"2024-09-26T00:00:00\",\"2024-09-27T00:00:00\"],\"y\":[123.65342292785644,123.05597381591797,122.02756195068359,121.74508590698242,120.79166755676269,119.8637466430664,118.47636566162109,117.11998100280762,115.32013473510742,114.19873046875,112.97433471679688,112.00341758728027,111.49246139526367,111.4969612121582,111.58545417785645,111.9179256439209,112.24089775085449,112.47387771606445,113.18631706237792,113.75926818847657,114.57469863891602,115.31813507080078,116.5465301513672,116.97599372863769,117.3949577331543,117.99990653991699,118.37737426757812,118.47536582946778,118.89033012390136,118.78333930969238,118.86933174133301,118.82333564758301,118.86183242797851,118.91533737182617,118.72786254882813,118.33839530944825,117.6184513092041,116.92499580383301,116.39404525756837,116.00757446289063,115.35262794494629,115.07366905212402,114.83471755981445,114.75675468444824,114.94775772094727],\"type\":\"scatter\"},{\"line\":{\"color\":\"red\"},\"mode\":\"lines\",\"name\":\"Upper Band\",\"x\":[\"2024-07-26T00:00:00\",\"2024-07-29T00:00:00\",\"2024-07-30T00:00:00\",\"2024-07-31T00:00:00\",\"2024-08-01T00:00:00\",\"2024-08-02T00:00:00\",\"2024-08-05T00:00:00\",\"2024-08-06T00:00:00\",\"2024-08-07T00:00:00\",\"2024-08-08T00:00:00\",\"2024-08-09T00:00:00\",\"2024-08-12T00:00:00\",\"2024-08-13T00:00:00\",\"2024-08-14T00:00:00\",\"2024-08-15T00:00:00\",\"2024-08-16T00:00:00\",\"2024-08-19T00:00:00\",\"2024-08-20T00:00:00\",\"2024-08-21T00:00:00\",\"2024-08-22T00:00:00\",\"2024-08-23T00:00:00\",\"2024-08-26T00:00:00\",\"2024-08-27T00:00:00\",\"2024-08-28T00:00:00\",\"2024-08-29T00:00:00\",\"2024-08-30T00:00:00\",\"2024-09-03T00:00:00\",\"2024-09-04T00:00:00\",\"2024-09-05T00:00:00\",\"2024-09-06T00:00:00\",\"2024-09-09T00:00:00\",\"2024-09-10T00:00:00\",\"2024-09-11T00:00:00\",\"2024-09-12T00:00:00\",\"2024-09-13T00:00:00\",\"2024-09-16T00:00:00\",\"2024-09-17T00:00:00\",\"2024-09-18T00:00:00\",\"2024-09-19T00:00:00\",\"2024-09-20T00:00:00\",\"2024-09-23T00:00:00\",\"2024-09-24T00:00:00\",\"2024-09-25T00:00:00\",\"2024-09-26T00:00:00\",\"2024-09-27T00:00:00\"],\"y\":[135.9011234219009,136.44199669874024,137.93713491973566,137.80729904733312,137.47506893950055,137.41176868349524,137.57226012536682,136.21385526349468,134.14220535268942,132.66226105778907,130.46322759171343,127.96950901155195,126.12377518782662,126.13672873416024,126.488149237657,127.68714465483677,129.22894421391453,130.17189466626726,132.27617252874012,133.4128995395579,135.421549758445,136.76717902843134,138.01310941954435,138.8219372940581,138.93226084561508,139.01195228255258,138.30453765469085,138.1272072449587,137.09942193926028,137.3585041880653,137.18488912713946,137.24743677012833,137.26544481703021,137.315477375358,137.03539933748635,136.45309198132838,134.90933250815317,133.69592174815935,132.27208142879854,131.50557141941232,129.52538483980703,128.52823206628295,127.44427079074413,127.10259815899545,127.59209906645249],\"type\":\"scatter\"},{\"line\":{\"color\":\"red\"},\"mode\":\"lines\",\"name\":\"Lower Band\",\"x\":[\"2024-07-26T00:00:00\",\"2024-07-29T00:00:00\",\"2024-07-30T00:00:00\",\"2024-07-31T00:00:00\",\"2024-08-01T00:00:00\",\"2024-08-02T00:00:00\",\"2024-08-05T00:00:00\",\"2024-08-06T00:00:00\",\"2024-08-07T00:00:00\",\"2024-08-08T00:00:00\",\"2024-08-09T00:00:00\",\"2024-08-12T00:00:00\",\"2024-08-13T00:00:00\",\"2024-08-14T00:00:00\",\"2024-08-15T00:00:00\",\"2024-08-16T00:00:00\",\"2024-08-19T00:00:00\",\"2024-08-20T00:00:00\",\"2024-08-21T00:00:00\",\"2024-08-22T00:00:00\",\"2024-08-23T00:00:00\",\"2024-08-26T00:00:00\",\"2024-08-27T00:00:00\",\"2024-08-28T00:00:00\",\"2024-08-29T00:00:00\",\"2024-08-30T00:00:00\",\"2024-09-03T00:00:00\",\"2024-09-04T00:00:00\",\"2024-09-05T00:00:00\",\"2024-09-06T00:00:00\",\"2024-09-09T00:00:00\",\"2024-09-10T00:00:00\",\"2024-09-11T00:00:00\",\"2024-09-12T00:00:00\",\"2024-09-13T00:00:00\",\"2024-09-16T00:00:00\",\"2024-09-17T00:00:00\",\"2024-09-18T00:00:00\",\"2024-09-19T00:00:00\",\"2024-09-20T00:00:00\",\"2024-09-23T00:00:00\",\"2024-09-24T00:00:00\",\"2024-09-25T00:00:00\",\"2024-09-26T00:00:00\",\"2024-09-27T00:00:00\"],\"y\":[111.40572243381197,109.66995093309569,106.11798898163151,105.68287276663173,104.10826617402482,102.31572460263757,99.38047119787535,98.02610674212055,96.49806411752542,95.73519987971093,95.48544184188032,96.03732616300859,96.86114760270073,96.85719369015615,96.6827591180559,96.14870663300502,95.25285128779444,94.77586076586162,94.09646159601574,94.10563683739522,93.72784751938703,93.86909111317021,95.07995088319005,95.13005016321729,95.85765462069352,96.9878607972814,98.45021088046539,98.82352441397686,100.68123830854245,100.20817443131948,100.55377435552656,100.3992345250377,100.45822003892681,100.51519736829434,100.4203257601699,100.2236986375681,100.32757011025505,100.15406985950668,100.51600908633819,100.50957750636893,101.17987105008555,101.61910603796508,102.22516432888477,102.41091120990103,102.30341637544204],\"type\":\"scatter\"},{\"name\":\"Volume\",\"opacity\":0.3,\"x\":[\"2024-07-26T00:00:00\",\"2024-07-29T00:00:00\",\"2024-07-30T00:00:00\",\"2024-07-31T00:00:00\",\"2024-08-01T00:00:00\",\"2024-08-02T00:00:00\",\"2024-08-05T00:00:00\",\"2024-08-06T00:00:00\",\"2024-08-07T00:00:00\",\"2024-08-08T00:00:00\",\"2024-08-09T00:00:00\",\"2024-08-12T00:00:00\",\"2024-08-13T00:00:00\",\"2024-08-14T00:00:00\",\"2024-08-15T00:00:00\",\"2024-08-16T00:00:00\",\"2024-08-19T00:00:00\",\"2024-08-20T00:00:00\",\"2024-08-21T00:00:00\",\"2024-08-22T00:00:00\",\"2024-08-23T00:00:00\",\"2024-08-26T00:00:00\",\"2024-08-27T00:00:00\",\"2024-08-28T00:00:00\",\"2024-08-29T00:00:00\",\"2024-08-30T00:00:00\",\"2024-09-03T00:00:00\",\"2024-09-04T00:00:00\",\"2024-09-05T00:00:00\",\"2024-09-06T00:00:00\",\"2024-09-09T00:00:00\",\"2024-09-10T00:00:00\",\"2024-09-11T00:00:00\",\"2024-09-12T00:00:00\",\"2024-09-13T00:00:00\",\"2024-09-16T00:00:00\",\"2024-09-17T00:00:00\",\"2024-09-18T00:00:00\",\"2024-09-19T00:00:00\",\"2024-09-20T00:00:00\",\"2024-09-23T00:00:00\",\"2024-09-24T00:00:00\",\"2024-09-25T00:00:00\",\"2024-09-26T00:00:00\",\"2024-09-27T00:00:00\"],\"y\":[293399100,248152100,486833300,473174200,523462300,482027500,552842400,409012100,411440400,391910000,290844200,325559900,312646700,339246400,318086700,302589900,318333600,300087400,257883600,376189100,323230300,331964700,303134600,448101100,453023300,333751600,477155100,372470300,306850700,413638100,273912000,268283700,441422400,367100500,238358300,248772300,231925900,310318900,293506400,382462400,206228500,354966800,284692900,302582900,270161000],\"yaxis\":\"y2\",\"type\":\"bar\"}],                        {\"template\":{\"data\":{\"histogram2dcontour\":[{\"type\":\"histogram2dcontour\",\"colorbar\":{\"outlinewidth\":0,\"ticks\":\"\"},\"colorscale\":[[0.0,\"#0d0887\"],[0.1111111111111111,\"#46039f\"],[0.2222222222222222,\"#7201a8\"],[0.3333333333333333,\"#9c179e\"],[0.4444444444444444,\"#bd3786\"],[0.5555555555555556,\"#d8576b\"],[0.6666666666666666,\"#ed7953\"],[0.7777777777777778,\"#fb9f3a\"],[0.8888888888888888,\"#fdca26\"],[1.0,\"#f0f921\"]]}],\"choropleth\":[{\"type\":\"choropleth\",\"colorbar\":{\"outlinewidth\":0,\"ticks\":\"\"}}],\"histogram2d\":[{\"type\":\"histogram2d\",\"colorbar\":{\"outlinewidth\":0,\"ticks\":\"\"},\"colorscale\":[[0.0,\"#0d0887\"],[0.1111111111111111,\"#46039f\"],[0.2222222222222222,\"#7201a8\"],[0.3333333333333333,\"#9c179e\"],[0.4444444444444444,\"#bd3786\"],[0.5555555555555556,\"#d8576b\"],[0.6666666666666666,\"#ed7953\"],[0.7777777777777778,\"#fb9f3a\"],[0.8888888888888888,\"#fdca26\"],[1.0,\"#f0f921\"]]}],\"heatmap\":[{\"type\":\"heatmap\",\"colorbar\":{\"outlinewidth\":0,\"ticks\":\"\"},\"colorscale\":[[0.0,\"#0d0887\"],[0.1111111111111111,\"#46039f\"],[0.2222222222222222,\"#7201a8\"],[0.3333333333333333,\"#9c179e\"],[0.4444444444444444,\"#bd3786\"],[0.5555555555555556,\"#d8576b\"],[0.6666666666666666,\"#ed7953\"],[0.7777777777777778,\"#fb9f3a\"],[0.8888888888888888,\"#fdca26\"],[1.0,\"#f0f921\"]]}],\"heatmapgl\":[{\"type\":\"heatmapgl\",\"colorbar\":{\"outlinewidth\":0,\"ticks\":\"\"},\"colorscale\":[[0.0,\"#0d0887\"],[0.1111111111111111,\"#46039f\"],[0.2222222222222222,\"#7201a8\"],[0.3333333333333333,\"#9c179e\"],[0.4444444444444444,\"#bd3786\"],[0.5555555555555556,\"#d8576b\"],[0.6666666666666666,\"#ed7953\"],[0.7777777777777778,\"#fb9f3a\"],[0.8888888888888888,\"#fdca26\"],[1.0,\"#f0f921\"]]}],\"contourcarpet\":[{\"type\":\"contourcarpet\",\"colorbar\":{\"outlinewidth\":0,\"ticks\":\"\"}}],\"contour\":[{\"type\":\"contour\",\"colorbar\":{\"outlinewidth\":0,\"ticks\":\"\"},\"colorscale\":[[0.0,\"#0d0887\"],[0.1111111111111111,\"#46039f\"],[0.2222222222222222,\"#7201a8\"],[0.3333333333333333,\"#9c179e\"],[0.4444444444444444,\"#bd3786\"],[0.5555555555555556,\"#d8576b\"],[0.6666666666666666,\"#ed7953\"],[0.7777777777777778,\"#fb9f3a\"],[0.8888888888888888,\"#fdca26\"],[1.0,\"#f0f921\"]]}],\"surface\":[{\"type\":\"surface\",\"colorbar\":{\"outlinewidth\":0,\"ticks\":\"\"},\"colorscale\":[[0.0,\"#0d0887\"],[0.1111111111111111,\"#46039f\"],[0.2222222222222222,\"#7201a8\"],[0.3333333333333333,\"#9c179e\"],[0.4444444444444444,\"#bd3786\"],[0.5555555555555556,\"#d8576b\"],[0.6666666666666666,\"#ed7953\"],[0.7777777777777778,\"#fb9f3a\"],[0.8888888888888888,\"#fdca26\"],[1.0,\"#f0f921\"]]}],\"mesh3d\":[{\"type\":\"mesh3d\",\"colorbar\":{\"outlinewidth\":0,\"ticks\":\"\"}}],\"scatter\":[{\"fillpattern\":{\"fillmode\":\"overlay\",\"size\":10,\"solidity\":0.2},\"type\":\"scatter\"}],\"parcoords\":[{\"type\":\"parcoords\",\"line\":{\"colorbar\":{\"outlinewidth\":0,\"ticks\":\"\"}}}],\"scatterpolargl\":[{\"type\":\"scatterpolargl\",\"marker\":{\"colorbar\":{\"outlinewidth\":0,\"ticks\":\"\"}}}],\"bar\":[{\"error_x\":{\"color\":\"#2a3f5f\"},\"error_y\":{\"color\":\"#2a3f5f\"},\"marker\":{\"line\":{\"color\":\"#E5ECF6\",\"width\":0.5},\"pattern\":{\"fillmode\":\"overlay\",\"size\":10,\"solidity\":0.2}},\"type\":\"bar\"}],\"scattergeo\":[{\"type\":\"scattergeo\",\"marker\":{\"colorbar\":{\"outlinewidth\":0,\"ticks\":\"\"}}}],\"scatterpolar\":[{\"type\":\"scatterpolar\",\"marker\":{\"colorbar\":{\"outlinewidth\":0,\"ticks\":\"\"}}}],\"histogram\":[{\"marker\":{\"pattern\":{\"fillmode\":\"overlay\",\"size\":10,\"solidity\":0.2}},\"type\":\"histogram\"}],\"scattergl\":[{\"type\":\"scattergl\",\"marker\":{\"colorbar\":{\"outlinewidth\":0,\"ticks\":\"\"}}}],\"scatter3d\":[{\"type\":\"scatter3d\",\"line\":{\"colorbar\":{\"outlinewidth\":0,\"ticks\":\"\"}},\"marker\":{\"colorbar\":{\"outlinewidth\":0,\"ticks\":\"\"}}}],\"scattermapbox\":[{\"type\":\"scattermapbox\",\"marker\":{\"colorbar\":{\"outlinewidth\":0,\"ticks\":\"\"}}}],\"scatterternary\":[{\"type\":\"scatterternary\",\"marker\":{\"colorbar\":{\"outlinewidth\":0,\"ticks\":\"\"}}}],\"scattercarpet\":[{\"type\":\"scattercarpet\",\"marker\":{\"colorbar\":{\"outlinewidth\":0,\"ticks\":\"\"}}}],\"carpet\":[{\"aaxis\":{\"endlinecolor\":\"#2a3f5f\",\"gridcolor\":\"white\",\"linecolor\":\"white\",\"minorgridcolor\":\"white\",\"startlinecolor\":\"#2a3f5f\"},\"baxis\":{\"endlinecolor\":\"#2a3f5f\",\"gridcolor\":\"white\",\"linecolor\":\"white\",\"minorgridcolor\":\"white\",\"startlinecolor\":\"#2a3f5f\"},\"type\":\"carpet\"}],\"table\":[{\"cells\":{\"fill\":{\"color\":\"#EBF0F8\"},\"line\":{\"color\":\"white\"}},\"header\":{\"fill\":{\"color\":\"#C8D4E3\"},\"line\":{\"color\":\"white\"}},\"type\":\"table\"}],\"barpolar\":[{\"marker\":{\"line\":{\"color\":\"#E5ECF6\",\"width\":0.5},\"pattern\":{\"fillmode\":\"overlay\",\"size\":10,\"solidity\":0.2}},\"type\":\"barpolar\"}],\"pie\":[{\"automargin\":true,\"type\":\"pie\"}]},\"layout\":{\"autotypenumbers\":\"strict\",\"colorway\":[\"#636efa\",\"#EF553B\",\"#00cc96\",\"#ab63fa\",\"#FFA15A\",\"#19d3f3\",\"#FF6692\",\"#B6E880\",\"#FF97FF\",\"#FECB52\"],\"font\":{\"color\":\"#2a3f5f\"},\"hovermode\":\"closest\",\"hoverlabel\":{\"align\":\"left\"},\"paper_bgcolor\":\"white\",\"plot_bgcolor\":\"#E5ECF6\",\"polar\":{\"bgcolor\":\"#E5ECF6\",\"angularaxis\":{\"gridcolor\":\"white\",\"linecolor\":\"white\",\"ticks\":\"\"},\"radialaxis\":{\"gridcolor\":\"white\",\"linecolor\":\"white\",\"ticks\":\"\"}},\"ternary\":{\"bgcolor\":\"#E5ECF6\",\"aaxis\":{\"gridcolor\":\"white\",\"linecolor\":\"white\",\"ticks\":\"\"},\"baxis\":{\"gridcolor\":\"white\",\"linecolor\":\"white\",\"ticks\":\"\"},\"caxis\":{\"gridcolor\":\"white\",\"linecolor\":\"white\",\"ticks\":\"\"}},\"coloraxis\":{\"colorbar\":{\"outlinewidth\":0,\"ticks\":\"\"}},\"colorscale\":{\"sequential\":[[0.0,\"#0d0887\"],[0.1111111111111111,\"#46039f\"],[0.2222222222222222,\"#7201a8\"],[0.3333333333333333,\"#9c179e\"],[0.4444444444444444,\"#bd3786\"],[0.5555555555555556,\"#d8576b\"],[0.6666666666666666,\"#ed7953\"],[0.7777777777777778,\"#fb9f3a\"],[0.8888888888888888,\"#fdca26\"],[1.0,\"#f0f921\"]],\"sequentialminus\":[[0.0,\"#0d0887\"],[0.1111111111111111,\"#46039f\"],[0.2222222222222222,\"#7201a8\"],[0.3333333333333333,\"#9c179e\"],[0.4444444444444444,\"#bd3786\"],[0.5555555555555556,\"#d8576b\"],[0.6666666666666666,\"#ed7953\"],[0.7777777777777778,\"#fb9f3a\"],[0.8888888888888888,\"#fdca26\"],[1.0,\"#f0f921\"]],\"diverging\":[[0,\"#8e0152\"],[0.1,\"#c51b7d\"],[0.2,\"#de77ae\"],[0.3,\"#f1b6da\"],[0.4,\"#fde0ef\"],[0.5,\"#f7f7f7\"],[0.6,\"#e6f5d0\"],[0.7,\"#b8e186\"],[0.8,\"#7fbc41\"],[0.9,\"#4d9221\"],[1,\"#276419\"]]},\"xaxis\":{\"gridcolor\":\"white\",\"linecolor\":\"white\",\"ticks\":\"\",\"title\":{\"standoff\":15},\"zerolinecolor\":\"white\",\"automargin\":true,\"zerolinewidth\":2},\"yaxis\":{\"gridcolor\":\"white\",\"linecolor\":\"white\",\"ticks\":\"\",\"title\":{\"standoff\":15},\"zerolinecolor\":\"white\",\"automargin\":true,\"zerolinewidth\":2},\"scene\":{\"xaxis\":{\"backgroundcolor\":\"#E5ECF6\",\"gridcolor\":\"white\",\"linecolor\":\"white\",\"showbackground\":true,\"ticks\":\"\",\"zerolinecolor\":\"white\",\"gridwidth\":2},\"yaxis\":{\"backgroundcolor\":\"#E5ECF6\",\"gridcolor\":\"white\",\"linecolor\":\"white\",\"showbackground\":true,\"ticks\":\"\",\"zerolinecolor\":\"white\",\"gridwidth\":2},\"zaxis\":{\"backgroundcolor\":\"#E5ECF6\",\"gridcolor\":\"white\",\"linecolor\":\"white\",\"showbackground\":true,\"ticks\":\"\",\"zerolinecolor\":\"white\",\"gridwidth\":2}},\"shapedefaults\":{\"line\":{\"color\":\"#2a3f5f\"}},\"annotationdefaults\":{\"arrowcolor\":\"#2a3f5f\",\"arrowhead\":0,\"arrowwidth\":1},\"geo\":{\"bgcolor\":\"white\",\"landcolor\":\"#E5ECF6\",\"subunitcolor\":\"white\",\"showland\":true,\"showlakes\":true,\"lakecolor\":\"white\"},\"title\":{\"x\":0.05},\"mapbox\":{\"style\":\"light\"}}},\"yaxis2\":{\"title\":{\"text\":\"Volume\"},\"overlaying\":\"y\",\"side\":\"right\"},\"legend\":{\"orientation\":\"h\",\"x\":0,\"y\":1.1},\"title\":{\"text\":\"Quantitative Figure for NVDA\"},\"yaxis\":{\"title\":{\"text\":\"Price\"}}},                        {\"responsive\": true}                    ).then(function(){\n",
       "                            \n",
       "var gd = document.getElementById('8a3c9324-4200-4fa3-9ead-efee436d7720');\n",
       "var x = new MutationObserver(function (mutations, observer) {{\n",
       "        var display = window.getComputedStyle(gd).display;\n",
       "        if (!display || display === 'none') {{\n",
       "            console.log([gd, 'removed!']);\n",
       "            Plotly.purge(gd);\n",
       "            observer.disconnect();\n",
       "        }}\n",
       "}});\n",
       "\n",
       "// Listen for the removal of the full notebook cells\n",
       "var notebookContainer = gd.closest('#notebook-container');\n",
       "if (notebookContainer) {{\n",
       "    x.observe(notebookContainer, {childList: true});\n",
       "}}\n",
       "\n",
       "// Listen for the clearing of the current output cell\n",
       "var outputEl = gd.closest('.output');\n",
       "if (outputEl) {{\n",
       "    x.observe(outputEl, {childList: true});\n",
       "}}\n",
       "\n",
       "                        })                };                });            </script>        </div>"
      ]
     },
     "metadata": {},
     "output_type": "display_data"
    }
   ],
   "source": [
    "# Create a Quantitative Figure (QuantFig) for the NVDA stock data\n",
    "import plotly.graph_objects as go\n",
    "import pandas as pd\n",
    "\n",
    "# Assuming stock_data is a DataFrame with 'Adj Close' and 'Volume' columns\n",
    "ticker = 'NVDA'  # Change this to your actual ticker\n",
    "\n",
    "# Calculate Moving Averages\n",
    "stock_data['SMA_10'] = stock_data['Adj Close'].rolling(window=10).mean()\n",
    "stock_data['SMA_20'] = stock_data['Adj Close'].rolling(window=20).mean()\n",
    "\n",
    "# Calculate Bollinger Bands\n",
    "stock_data['Upper Band'] = stock_data['SMA_20'] + (stock_data['Adj Close'].rolling(window=20).std() * 2)\n",
    "stock_data['Lower Band'] = stock_data['SMA_20'] - (stock_data['Adj Close'].rolling(window=20).std() * 2)\n",
    "\n",
    "# Drop rows with NaN values (optional)\n",
    "stock_data = stock_data.dropna()\n",
    "\n",
    "# Create the figure\n",
    "qf = go.Figure()\n",
    "\n",
    "# Add Adjusted Close line\n",
    "qf.add_trace(go.Scatter(x=stock_data.index, y=stock_data['Adj Close'],\n",
    "                         mode='lines', name='Adj Close'))\n",
    "\n",
    "# Add Moving Averages\n",
    "qf.add_trace(go.Scatter(x=stock_data.index, y=stock_data['SMA_10'],\n",
    "                         mode='lines', name='SMA 10', line=dict(color='green')))\n",
    "qf.add_trace(go.Scatter(x=stock_data.index, y=stock_data['SMA_20'],\n",
    "                         mode='lines', name='SMA 20', line=dict(color='lightgreen')))\n",
    "\n",
    "# Add Bollinger Bands\n",
    "qf.add_trace(go.Scatter(x=stock_data.index, y=stock_data['Upper Band'],\n",
    "                         mode='lines', name='Upper Band', line=dict(color='red')))\n",
    "qf.add_trace(go.Scatter(x=stock_data.index, y=stock_data['Lower Band'],\n",
    "                         mode='lines', name='Lower Band', line=dict(color='red')))\n",
    "\n",
    "# Add volume bars\n",
    "qf.add_trace(go.Bar(x=stock_data.index, y=stock_data['Volume'], name='Volume', \n",
    "                     yaxis='y2', opacity=0.3))\n",
    "\n",
    "# Update layout\n",
    "qf.update_layout(title=f'Quantitative Figure for {ticker}',\n",
    "                  yaxis_title='Price',\n",
    "                  yaxis2=dict(title='Volume', overlaying='y', side='right'),\n",
    "                  legend=dict(orientation='h', x=0, y=1.1))\n",
    "\n",
    "# Show the plot\n",
    "qf.show()\n"
   ]
  },
  {
   "cell_type": "code",
   "execution_count": 16,
   "id": "6b63edaf-dcc4-4ca2-ac87-4eb6429e1868",
   "metadata": {},
   "outputs": [
    {
     "name": "stderr",
     "output_type": "stream",
     "text": [
      "[*********************100%***********************]  5 of 5 completed\n"
     ]
    },
    {
     "data": {
      "text/html": [
       "<div>\n",
       "<style scoped>\n",
       "    .dataframe tbody tr th:only-of-type {\n",
       "        vertical-align: middle;\n",
       "    }\n",
       "\n",
       "    .dataframe tbody tr th {\n",
       "        vertical-align: top;\n",
       "    }\n",
       "\n",
       "    .dataframe thead tr th {\n",
       "        text-align: left;\n",
       "    }\n",
       "\n",
       "    .dataframe thead tr:last-of-type th {\n",
       "        text-align: right;\n",
       "    }\n",
       "</style>\n",
       "<table border=\"1\" class=\"dataframe\">\n",
       "  <thead>\n",
       "    <tr>\n",
       "      <th>Price</th>\n",
       "      <th colspan=\"5\" halign=\"left\">Adj Close</th>\n",
       "      <th colspan=\"5\" halign=\"left\">Close</th>\n",
       "      <th>...</th>\n",
       "      <th colspan=\"5\" halign=\"left\">Open</th>\n",
       "      <th colspan=\"5\" halign=\"left\">Volume</th>\n",
       "    </tr>\n",
       "    <tr>\n",
       "      <th>Ticker</th>\n",
       "      <th>AMD</th>\n",
       "      <th>INTC</th>\n",
       "      <th>MU</th>\n",
       "      <th>NVDA</th>\n",
       "      <th>TSM</th>\n",
       "      <th>AMD</th>\n",
       "      <th>INTC</th>\n",
       "      <th>MU</th>\n",
       "      <th>NVDA</th>\n",
       "      <th>TSM</th>\n",
       "      <th>...</th>\n",
       "      <th>AMD</th>\n",
       "      <th>INTC</th>\n",
       "      <th>MU</th>\n",
       "      <th>NVDA</th>\n",
       "      <th>TSM</th>\n",
       "      <th>AMD</th>\n",
       "      <th>INTC</th>\n",
       "      <th>MU</th>\n",
       "      <th>NVDA</th>\n",
       "      <th>TSM</th>\n",
       "    </tr>\n",
       "    <tr>\n",
       "      <th>Date</th>\n",
       "      <th></th>\n",
       "      <th></th>\n",
       "      <th></th>\n",
       "      <th></th>\n",
       "      <th></th>\n",
       "      <th></th>\n",
       "      <th></th>\n",
       "      <th></th>\n",
       "      <th></th>\n",
       "      <th></th>\n",
       "      <th></th>\n",
       "      <th></th>\n",
       "      <th></th>\n",
       "      <th></th>\n",
       "      <th></th>\n",
       "      <th></th>\n",
       "      <th></th>\n",
       "      <th></th>\n",
       "      <th></th>\n",
       "      <th></th>\n",
       "      <th></th>\n",
       "    </tr>\n",
       "  </thead>\n",
       "  <tbody>\n",
       "    <tr>\n",
       "      <th>2024-06-28 00:00:00+00:00</th>\n",
       "      <td>162.210007</td>\n",
       "      <td>30.774776</td>\n",
       "      <td>131.415054</td>\n",
       "      <td>123.529434</td>\n",
       "      <td>173.170837</td>\n",
       "      <td>162.210007</td>\n",
       "      <td>30.969999</td>\n",
       "      <td>131.529999</td>\n",
       "      <td>123.540001</td>\n",
       "      <td>173.809998</td>\n",
       "      <td>...</td>\n",
       "      <td>160.229996</td>\n",
       "      <td>30.750000</td>\n",
       "      <td>132.820007</td>\n",
       "      <td>124.580002</td>\n",
       "      <td>172.809998</td>\n",
       "      <td>56204600</td>\n",
       "      <td>41467700</td>\n",
       "      <td>38140600</td>\n",
       "      <td>315516700</td>\n",
       "      <td>11216100</td>\n",
       "    </tr>\n",
       "    <tr>\n",
       "      <th>2024-07-01 00:00:00+00:00</th>\n",
       "      <td>157.690002</td>\n",
       "      <td>30.645597</td>\n",
       "      <td>131.405075</td>\n",
       "      <td>124.289368</td>\n",
       "      <td>171.696274</td>\n",
       "      <td>157.690002</td>\n",
       "      <td>30.840000</td>\n",
       "      <td>131.520004</td>\n",
       "      <td>124.300003</td>\n",
       "      <td>172.330002</td>\n",
       "      <td>...</td>\n",
       "      <td>161.250000</td>\n",
       "      <td>30.910000</td>\n",
       "      <td>130.500000</td>\n",
       "      <td>123.470001</td>\n",
       "      <td>174.240005</td>\n",
       "      <td>50436700</td>\n",
       "      <td>32401800</td>\n",
       "      <td>24749000</td>\n",
       "      <td>284885500</td>\n",
       "      <td>10717000</td>\n",
       "    </tr>\n",
       "    <tr>\n",
       "      <th>2024-07-02 00:00:00+00:00</th>\n",
       "      <td>164.309998</td>\n",
       "      <td>30.874147</td>\n",
       "      <td>132.474136</td>\n",
       "      <td>122.659508</td>\n",
       "      <td>175.053879</td>\n",
       "      <td>164.309998</td>\n",
       "      <td>31.070000</td>\n",
       "      <td>132.589996</td>\n",
       "      <td>122.669998</td>\n",
       "      <td>175.699997</td>\n",
       "      <td>...</td>\n",
       "      <td>157.039993</td>\n",
       "      <td>30.860001</td>\n",
       "      <td>129.910004</td>\n",
       "      <td>121.129997</td>\n",
       "      <td>171.130005</td>\n",
       "      <td>57838600</td>\n",
       "      <td>35999300</td>\n",
       "      <td>20776000</td>\n",
       "      <td>218374000</td>\n",
       "      <td>10655500</td>\n",
       "    </tr>\n",
       "    <tr>\n",
       "      <th>2024-07-03 00:00:00+00:00</th>\n",
       "      <td>163.899994</td>\n",
       "      <td>31.033138</td>\n",
       "      <td>136.700439</td>\n",
       "      <td>128.269028</td>\n",
       "      <td>181.818924</td>\n",
       "      <td>163.899994</td>\n",
       "      <td>31.230000</td>\n",
       "      <td>136.820007</td>\n",
       "      <td>128.279999</td>\n",
       "      <td>182.490005</td>\n",
       "      <td>...</td>\n",
       "      <td>164.199997</td>\n",
       "      <td>31.120001</td>\n",
       "      <td>132.660004</td>\n",
       "      <td>121.660004</td>\n",
       "      <td>177.990005</td>\n",
       "      <td>26980900</td>\n",
       "      <td>24065700</td>\n",
       "      <td>14507100</td>\n",
       "      <td>215749000</td>\n",
       "      <td>11808700</td>\n",
       "    </tr>\n",
       "    <tr>\n",
       "      <th>2024-07-05 00:00:00+00:00</th>\n",
       "      <td>171.899994</td>\n",
       "      <td>31.818159</td>\n",
       "      <td>131.485001</td>\n",
       "      <td>125.819237</td>\n",
       "      <td>183.313400</td>\n",
       "      <td>171.899994</td>\n",
       "      <td>32.020000</td>\n",
       "      <td>131.600006</td>\n",
       "      <td>125.830002</td>\n",
       "      <td>183.990005</td>\n",
       "      <td>...</td>\n",
       "      <td>165.970001</td>\n",
       "      <td>31.400000</td>\n",
       "      <td>136.820007</td>\n",
       "      <td>127.379997</td>\n",
       "      <td>184.139999</td>\n",
       "      <td>61857100</td>\n",
       "      <td>45309400</td>\n",
       "      <td>30104600</td>\n",
       "      <td>214176700</td>\n",
       "      <td>11372900</td>\n",
       "    </tr>\n",
       "    <tr>\n",
       "      <th>...</th>\n",
       "      <td>...</td>\n",
       "      <td>...</td>\n",
       "      <td>...</td>\n",
       "      <td>...</td>\n",
       "      <td>...</td>\n",
       "      <td>...</td>\n",
       "      <td>...</td>\n",
       "      <td>...</td>\n",
       "      <td>...</td>\n",
       "      <td>...</td>\n",
       "      <td>...</td>\n",
       "      <td>...</td>\n",
       "      <td>...</td>\n",
       "      <td>...</td>\n",
       "      <td>...</td>\n",
       "      <td>...</td>\n",
       "      <td>...</td>\n",
       "      <td>...</td>\n",
       "      <td>...</td>\n",
       "      <td>...</td>\n",
       "      <td>...</td>\n",
       "    </tr>\n",
       "    <tr>\n",
       "      <th>2024-09-23 00:00:00+00:00</th>\n",
       "      <td>156.750000</td>\n",
       "      <td>22.559999</td>\n",
       "      <td>93.570000</td>\n",
       "      <td>116.260002</td>\n",
       "      <td>174.759995</td>\n",
       "      <td>156.750000</td>\n",
       "      <td>22.559999</td>\n",
       "      <td>93.570000</td>\n",
       "      <td>116.260002</td>\n",
       "      <td>174.759995</td>\n",
       "      <td>...</td>\n",
       "      <td>156.449997</td>\n",
       "      <td>22.430000</td>\n",
       "      <td>92.680000</td>\n",
       "      <td>116.550003</td>\n",
       "      <td>174.839996</td>\n",
       "      <td>21728500</td>\n",
       "      <td>184439100</td>\n",
       "      <td>23394100</td>\n",
       "      <td>206228500</td>\n",
       "      <td>5794200</td>\n",
       "    </tr>\n",
       "    <tr>\n",
       "      <th>2024-09-24 00:00:00+00:00</th>\n",
       "      <td>158.320007</td>\n",
       "      <td>22.809999</td>\n",
       "      <td>94.000000</td>\n",
       "      <td>120.870003</td>\n",
       "      <td>181.970001</td>\n",
       "      <td>158.320007</td>\n",
       "      <td>22.809999</td>\n",
       "      <td>94.000000</td>\n",
       "      <td>120.870003</td>\n",
       "      <td>181.970001</td>\n",
       "      <td>...</td>\n",
       "      <td>157.460007</td>\n",
       "      <td>22.530001</td>\n",
       "      <td>94.730003</td>\n",
       "      <td>116.519997</td>\n",
       "      <td>179.500000</td>\n",
       "      <td>27531200</td>\n",
       "      <td>113082500</td>\n",
       "      <td>23043200</td>\n",
       "      <td>354966800</td>\n",
       "      <td>14576100</td>\n",
       "    </tr>\n",
       "    <tr>\n",
       "      <th>2024-09-25 00:00:00+00:00</th>\n",
       "      <td>162.020004</td>\n",
       "      <td>23.540001</td>\n",
       "      <td>95.769997</td>\n",
       "      <td>123.510002</td>\n",
       "      <td>182.350006</td>\n",
       "      <td>162.020004</td>\n",
       "      <td>23.540001</td>\n",
       "      <td>95.769997</td>\n",
       "      <td>123.510002</td>\n",
       "      <td>182.350006</td>\n",
       "      <td>...</td>\n",
       "      <td>158.500000</td>\n",
       "      <td>22.799999</td>\n",
       "      <td>94.160004</td>\n",
       "      <td>122.019997</td>\n",
       "      <td>181.520004</td>\n",
       "      <td>35233300</td>\n",
       "      <td>117013400</td>\n",
       "      <td>54762900</td>\n",
       "      <td>284692900</td>\n",
       "      <td>8280900</td>\n",
       "    </tr>\n",
       "    <tr>\n",
       "      <th>2024-09-26 00:00:00+00:00</th>\n",
       "      <td>167.490005</td>\n",
       "      <td>23.920000</td>\n",
       "      <td>109.879997</td>\n",
       "      <td>124.040001</td>\n",
       "      <td>186.830002</td>\n",
       "      <td>167.490005</td>\n",
       "      <td>23.920000</td>\n",
       "      <td>109.879997</td>\n",
       "      <td>124.040001</td>\n",
       "      <td>186.830002</td>\n",
       "      <td>...</td>\n",
       "      <td>167.059998</td>\n",
       "      <td>24.280001</td>\n",
       "      <td>113.099998</td>\n",
       "      <td>126.800003</td>\n",
       "      <td>188.500000</td>\n",
       "      <td>38044900</td>\n",
       "      <td>95416900</td>\n",
       "      <td>107965900</td>\n",
       "      <td>302582900</td>\n",
       "      <td>15103400</td>\n",
       "    </tr>\n",
       "    <tr>\n",
       "      <th>2024-09-27 00:00:00+00:00</th>\n",
       "      <td>164.350006</td>\n",
       "      <td>23.910000</td>\n",
       "      <td>107.500000</td>\n",
       "      <td>121.400002</td>\n",
       "      <td>177.970001</td>\n",
       "      <td>164.350006</td>\n",
       "      <td>23.910000</td>\n",
       "      <td>107.500000</td>\n",
       "      <td>121.400002</td>\n",
       "      <td>177.970001</td>\n",
       "      <td>...</td>\n",
       "      <td>167.479996</td>\n",
       "      <td>24.160000</td>\n",
       "      <td>110.500000</td>\n",
       "      <td>123.970001</td>\n",
       "      <td>185.839996</td>\n",
       "      <td>27839100</td>\n",
       "      <td>85713900</td>\n",
       "      <td>42870700</td>\n",
       "      <td>270161000</td>\n",
       "      <td>17883500</td>\n",
       "    </tr>\n",
       "  </tbody>\n",
       "</table>\n",
       "<p>64 rows × 30 columns</p>\n",
       "</div>"
      ],
      "text/plain": [
       "Price                       Adj Close                                     \\\n",
       "Ticker                            AMD       INTC          MU        NVDA   \n",
       "Date                                                                       \n",
       "2024-06-28 00:00:00+00:00  162.210007  30.774776  131.415054  123.529434   \n",
       "2024-07-01 00:00:00+00:00  157.690002  30.645597  131.405075  124.289368   \n",
       "2024-07-02 00:00:00+00:00  164.309998  30.874147  132.474136  122.659508   \n",
       "2024-07-03 00:00:00+00:00  163.899994  31.033138  136.700439  128.269028   \n",
       "2024-07-05 00:00:00+00:00  171.899994  31.818159  131.485001  125.819237   \n",
       "...                               ...        ...         ...         ...   \n",
       "2024-09-23 00:00:00+00:00  156.750000  22.559999   93.570000  116.260002   \n",
       "2024-09-24 00:00:00+00:00  158.320007  22.809999   94.000000  120.870003   \n",
       "2024-09-25 00:00:00+00:00  162.020004  23.540001   95.769997  123.510002   \n",
       "2024-09-26 00:00:00+00:00  167.490005  23.920000  109.879997  124.040001   \n",
       "2024-09-27 00:00:00+00:00  164.350006  23.910000  107.500000  121.400002   \n",
       "\n",
       "Price                                       Close                         \\\n",
       "Ticker                            TSM         AMD       INTC          MU   \n",
       "Date                                                                       \n",
       "2024-06-28 00:00:00+00:00  173.170837  162.210007  30.969999  131.529999   \n",
       "2024-07-01 00:00:00+00:00  171.696274  157.690002  30.840000  131.520004   \n",
       "2024-07-02 00:00:00+00:00  175.053879  164.309998  31.070000  132.589996   \n",
       "2024-07-03 00:00:00+00:00  181.818924  163.899994  31.230000  136.820007   \n",
       "2024-07-05 00:00:00+00:00  183.313400  171.899994  32.020000  131.600006   \n",
       "...                               ...         ...        ...         ...   \n",
       "2024-09-23 00:00:00+00:00  174.759995  156.750000  22.559999   93.570000   \n",
       "2024-09-24 00:00:00+00:00  181.970001  158.320007  22.809999   94.000000   \n",
       "2024-09-25 00:00:00+00:00  182.350006  162.020004  23.540001   95.769997   \n",
       "2024-09-26 00:00:00+00:00  186.830002  167.490005  23.920000  109.879997   \n",
       "2024-09-27 00:00:00+00:00  177.970001  164.350006  23.910000  107.500000   \n",
       "\n",
       "Price                                              ...        Open             \\\n",
       "Ticker                           NVDA         TSM  ...         AMD       INTC   \n",
       "Date                                               ...                          \n",
       "2024-06-28 00:00:00+00:00  123.540001  173.809998  ...  160.229996  30.750000   \n",
       "2024-07-01 00:00:00+00:00  124.300003  172.330002  ...  161.250000  30.910000   \n",
       "2024-07-02 00:00:00+00:00  122.669998  175.699997  ...  157.039993  30.860001   \n",
       "2024-07-03 00:00:00+00:00  128.279999  182.490005  ...  164.199997  31.120001   \n",
       "2024-07-05 00:00:00+00:00  125.830002  183.990005  ...  165.970001  31.400000   \n",
       "...                               ...         ...  ...         ...        ...   \n",
       "2024-09-23 00:00:00+00:00  116.260002  174.759995  ...  156.449997  22.430000   \n",
       "2024-09-24 00:00:00+00:00  120.870003  181.970001  ...  157.460007  22.530001   \n",
       "2024-09-25 00:00:00+00:00  123.510002  182.350006  ...  158.500000  22.799999   \n",
       "2024-09-26 00:00:00+00:00  124.040001  186.830002  ...  167.059998  24.280001   \n",
       "2024-09-27 00:00:00+00:00  121.400002  177.970001  ...  167.479996  24.160000   \n",
       "\n",
       "Price                                                            Volume  \\\n",
       "Ticker                             MU        NVDA         TSM       AMD   \n",
       "Date                                                                      \n",
       "2024-06-28 00:00:00+00:00  132.820007  124.580002  172.809998  56204600   \n",
       "2024-07-01 00:00:00+00:00  130.500000  123.470001  174.240005  50436700   \n",
       "2024-07-02 00:00:00+00:00  129.910004  121.129997  171.130005  57838600   \n",
       "2024-07-03 00:00:00+00:00  132.660004  121.660004  177.990005  26980900   \n",
       "2024-07-05 00:00:00+00:00  136.820007  127.379997  184.139999  61857100   \n",
       "...                               ...         ...         ...       ...   \n",
       "2024-09-23 00:00:00+00:00   92.680000  116.550003  174.839996  21728500   \n",
       "2024-09-24 00:00:00+00:00   94.730003  116.519997  179.500000  27531200   \n",
       "2024-09-25 00:00:00+00:00   94.160004  122.019997  181.520004  35233300   \n",
       "2024-09-26 00:00:00+00:00  113.099998  126.800003  188.500000  38044900   \n",
       "2024-09-27 00:00:00+00:00  110.500000  123.970001  185.839996  27839100   \n",
       "\n",
       "Price                                                                 \n",
       "Ticker                          INTC         MU       NVDA       TSM  \n",
       "Date                                                                  \n",
       "2024-06-28 00:00:00+00:00   41467700   38140600  315516700  11216100  \n",
       "2024-07-01 00:00:00+00:00   32401800   24749000  284885500  10717000  \n",
       "2024-07-02 00:00:00+00:00   35999300   20776000  218374000  10655500  \n",
       "2024-07-03 00:00:00+00:00   24065700   14507100  215749000  11808700  \n",
       "2024-07-05 00:00:00+00:00   45309400   30104600  214176700  11372900  \n",
       "...                              ...        ...        ...       ...  \n",
       "2024-09-23 00:00:00+00:00  184439100   23394100  206228500   5794200  \n",
       "2024-09-24 00:00:00+00:00  113082500   23043200  354966800  14576100  \n",
       "2024-09-25 00:00:00+00:00  117013400   54762900  284692900   8280900  \n",
       "2024-09-26 00:00:00+00:00   95416900  107965900  302582900  15103400  \n",
       "2024-09-27 00:00:00+00:00   85713900   42870700  270161000  17883500  \n",
       "\n",
       "[64 rows x 30 columns]"
      ]
     },
     "execution_count": 16,
     "metadata": {},
     "output_type": "execute_result"
    }
   ],
   "source": [
    "# Download stock data for semiconductor companies\n",
    "semiconductor_tickers = ['NVDA', 'INTC', 'AMD', 'TSM', 'MU']\n",
    "semiconductor_data = yf.download(semiconductor_tickers, start=date.today() - relativedelta(months=+period.value), end=date.today())\n",
    "semiconductor_data"
   ]
  },
  {
   "cell_type": "code",
   "execution_count": 18,
   "id": "17a6d4b1-f966-474f-bfe9-e83ef0dd83fc",
   "metadata": {},
   "outputs": [
    {
     "data": {
      "application/vnd.plotly.v1+json": {
       "config": {
        "plotlyServerURL": "https://plot.ly"
       },
       "data": [
        {
         "line": {
          "color": "blue"
         },
         "mode": "lines",
         "name": "Adjusted Close",
         "type": "scatter",
         "x": [
          "2024-06-28T00:00:00+00:00",
          "2024-07-01T00:00:00+00:00",
          "2024-07-02T00:00:00+00:00",
          "2024-07-03T00:00:00+00:00",
          "2024-07-05T00:00:00+00:00",
          "2024-07-08T00:00:00+00:00",
          "2024-07-09T00:00:00+00:00",
          "2024-07-10T00:00:00+00:00",
          "2024-07-11T00:00:00+00:00",
          "2024-07-12T00:00:00+00:00",
          "2024-07-15T00:00:00+00:00",
          "2024-07-16T00:00:00+00:00",
          "2024-07-17T00:00:00+00:00",
          "2024-07-18T00:00:00+00:00",
          "2024-07-19T00:00:00+00:00",
          "2024-07-22T00:00:00+00:00",
          "2024-07-23T00:00:00+00:00",
          "2024-07-24T00:00:00+00:00",
          "2024-07-25T00:00:00+00:00",
          "2024-07-26T00:00:00+00:00",
          "2024-07-29T00:00:00+00:00",
          "2024-07-30T00:00:00+00:00",
          "2024-07-31T00:00:00+00:00",
          "2024-08-01T00:00:00+00:00",
          "2024-08-02T00:00:00+00:00",
          "2024-08-05T00:00:00+00:00",
          "2024-08-06T00:00:00+00:00",
          "2024-08-07T00:00:00+00:00",
          "2024-08-08T00:00:00+00:00",
          "2024-08-09T00:00:00+00:00",
          "2024-08-12T00:00:00+00:00",
          "2024-08-13T00:00:00+00:00",
          "2024-08-14T00:00:00+00:00",
          "2024-08-15T00:00:00+00:00",
          "2024-08-16T00:00:00+00:00",
          "2024-08-19T00:00:00+00:00",
          "2024-08-20T00:00:00+00:00",
          "2024-08-21T00:00:00+00:00",
          "2024-08-22T00:00:00+00:00",
          "2024-08-23T00:00:00+00:00",
          "2024-08-26T00:00:00+00:00",
          "2024-08-27T00:00:00+00:00",
          "2024-08-28T00:00:00+00:00",
          "2024-08-29T00:00:00+00:00",
          "2024-08-30T00:00:00+00:00",
          "2024-09-03T00:00:00+00:00",
          "2024-09-04T00:00:00+00:00",
          "2024-09-05T00:00:00+00:00",
          "2024-09-06T00:00:00+00:00",
          "2024-09-09T00:00:00+00:00",
          "2024-09-10T00:00:00+00:00",
          "2024-09-11T00:00:00+00:00",
          "2024-09-12T00:00:00+00:00",
          "2024-09-13T00:00:00+00:00",
          "2024-09-16T00:00:00+00:00",
          "2024-09-17T00:00:00+00:00",
          "2024-09-18T00:00:00+00:00",
          "2024-09-19T00:00:00+00:00",
          "2024-09-20T00:00:00+00:00",
          "2024-09-23T00:00:00+00:00",
          "2024-09-24T00:00:00+00:00",
          "2024-09-25T00:00:00+00:00",
          "2024-09-26T00:00:00+00:00",
          "2024-09-27T00:00:00+00:00"
         ],
         "y": [
          [
           162.2100067138672,
           30.774776458740234,
           131.41505432128906,
           123.52943420410156,
           173.17083740234375
          ],
          [
           157.69000244140625,
           30.645597457885742,
           131.4050750732422,
           124.28936767578125,
           171.69627380371094
          ],
          [
           164.30999755859375,
           30.874147415161133,
           132.47413635253906,
           122.65950775146484,
           175.0538787841797
          ],
          [
           163.89999389648438,
           31.033138275146484,
           136.700439453125,
           128.26902770996094,
           181.8189239501953
          ],
          [
           171.89999389648438,
           31.818159103393555,
           131.48500061035156,
           125.8192367553711,
           183.3134002685547
          ],
          [
           178.69000244140625,
           33.77574157714844,
           130.69000244140625,
           128.18902587890625,
           185.94369506835938
          ],
          [
           177.10000610351562,
           34.3719596862793,
           131.13999938964844,
           131.3687744140625,
           183.84146118164062
          ],
          [
           183.9600067138672,
           34.65019226074219,
           136.38999938964844,
           134.89846801757812,
           190.34744262695312
          ],
          [
           181.94000244140625,
           33.2888298034668,
           130.22999572753906,
           127.38910675048828,
           183.821533203125
          ],
          [
           181.61000061035156,
           34.27259063720703,
           133.5500030517578,
           129.2289581298828,
           186.6610565185547
          ],
          [
           179.8300018310547,
           34.242774963378906,
           130.8699951171875,
           128.42901611328125,
           184.53887939453125
          ],
          [
           177.5500030517578,
           34.12353515625,
           127.48999786376953,
           126.34918975830078,
           185.35585021972656
          ],
          [
           159.42999267578125,
           34.242774963378906,
           119.5,
           117.97990417480469,
           170.5704345703125
          ],
          [
           155.77000427246094,
           34.65019226074219,
           117.44999694824219,
           121.07963562011719,
           171.2379608154297
          ],
          [
           151.5800018310547,
           32.7721061706543,
           114.26000213623047,
           117.91991424560547,
           165.160400390625
          ],
          [
           155.8699951171875,
           33.15964889526367,
           115.27999877929688,
           123.52943420410156,
           168.7272491455078
          ],
          [
           154,
           32.7422981262207,
           114.25,
           122.57951354980469,
           169.1955108642578
          ],
          [
           144.6300048828125,
           31.50017547607422,
           110.27999877929688,
           114.24022674560547,
           159.2123565673828
          ],
          [
           138.32000732421875,
           30.90395736694336,
           107.44999694824219,
           112.27039337158203,
           159.6905975341797
          ],
          [
           139.99000549316406,
           31.152381896972656,
           109.41000366210938,
           113.05032348632812,
           161.344482421875
          ],
          [
           139.75,
           30.63566017150879,
           107.8499984741211,
           111.58045196533203,
           159.4215850830078
          ],
          [
           138.44000244140625,
           29.94007110595703,
           102.55999755859375,
           103.72113037109375,
           153.97169494628906
          ],
          [
           144.47999572753906,
           30.546226501464844,
           109.81999969482422,
           117.0099868774414,
           165.19029235839844
          ],
          [
           132.5399932861328,
           28.866878509521484,
           101.51000213623047,
           109.2006607055664,
           157.5983123779297
          ],
          [
           132.5,
           21.3445987701416,
           92.69999694824219,
           107.26081848144531,
           149.3089141845703
          ],
          [
           134.82000732421875,
           19.983234405517578,
           90.41999816894531,
           100.44140625,
           147.4059295654297
          ],
          [
           130.17999267578125,
           19.704999923706055,
           89,
           104.24108123779297,
           154.81857299804688
          ],
          [
           128.6699981689453,
           18.989999771118164,
           86.80000305175781,
           98.90154266357422,
           154.4698486328125
          ],
          [
           136.32000732421875,
           20.489999771118164,
           92.06999969482422,
           104.96102142333984,
           163.94488525390625
          ],
          [
           134.27000427246094,
           19.709999084472656,
           93.08000183105469,
           104.74104309082031,
           166.50543212890625
          ],
          [
           136.77000427246094,
           19.360000610351562,
           94.63999938964844,
           109.01067352294922,
           167.01356506347656
          ],
          [
           141.1300048828125,
           20.469999313354492,
           97.44000244140625,
           116.13006591796875,
           171.70623779296875
          ],
          [
           140.75,
           19.920000076293945,
           100.41000366210938,
           118.06990051269531,
           169.34495544433594
          ],
          [
           147.36000061035156,
           20.690000534057617,
           106.94999694824219,
           122.84949493408203,
           173.32029724121094
          ],
          [
           148.55999755859375,
           20.8700008392334,
           107.98999786376953,
           124.56934356689453,
           173.8981475830078
          ],
          [
           155.27999877929688,
           21.520000457763672,
           108.62999725341797,
           129.98887634277344,
           174.8048095703125
          ],
          [
           156.39999389648438,
           20.989999771118164,
           107.98999786376953,
           127.2391128540039,
           171.40733337402344
          ],
          [
           157.80999755859375,
           21.40999984741211,
           108.33000183105469,
           128.489013671875,
           170.80955505371094
          ],
          [
           151.6999969482422,
           20.100000381469727,
           104.26000213623047,
           123.72941589355469,
           165.82794189453125
          ],
          [
           154.97999572753906,
           20.540000915527344,
           102.8499984741211,
           129.3589324951172,
           170.650146484375
          ],
          [
           149.99000549316406,
           20.1299991607666,
           98.91000366210938,
           126.44918060302734,
           168.44827270507812
          ],
          [
           150.5,
           20.06999969482422,
           97.86000061035156,
           128.28903198242188,
           169.92282104492188
          ],
          [
           146.36000061035156,
           19.610000610351562,
           94.86000061035156,
           125.59925842285156,
           168.57778930664062
          ],
          [
           145.49000549316406,
           20.1299991607666,
           95.56999969482422,
           117.57994079589844,
           168.52796936035156
          ],
          [
           148.55999755859375,
           22.040000915527344,
           96.23999786376953,
           119.35979461669922,
           171.06858825683594
          ],
          [
           136.94000244140625,
           20.100000381469727,
           88.58000183105469,
           107.99076080322266,
           159.8998260498047
          ],
          [
           140.8699951171875,
           19.43000030517578,
           89.29000091552734,
           106.20091247558594,
           160.27841186523438
          ],
          [
           139.44000244140625,
           19.399999618530273,
           89.38999938964844,
           107.2008285522461,
           163.09800720214844
          ],
          [
           134.35000610351562,
           18.889999389648438,
           86.37999725341797,
           102.82120513916016,
           156.24331665039062
          ],
          [
           138.14999389648438,
           19.06999969482422,
           86.2699966430664,
           106.46089172363281,
           162.181396484375
          ],
          [
           142.83999633789062,
           18.979999542236328,
           86.8499984741211,
           108.09075164794922,
           161.83267211914062
          ],
          [
           149.86000061035156,
           19.639999389648438,
           90.6500015258789,
           116.9000015258789,
           169.60400390625
          ],
          [
           150.77000427246094,
           19.360000610351562,
           87.20999908447266,
           119.13999938964844,
           171.42999267578125
          ],
          [
           152.30999755859375,
           19.65999984741211,
           91.22000122070312,
           119.0999984741211,
           172.5
          ],
          [
           152.0800018310547,
           20.90999984741211,
           87.18000030517578,
           116.77999877929688,
           169.0800018310547
          ],
          [
           150.82000732421875,
           21.469999313354492,
           88.7300033569336,
           115.58999633789062,
           167.35000610351562
          ],
          [
           148.2899932861328,
           20.770000457763672,
           87.3499984741211,
           113.37000274658203,
           167.27999877929688
          ],
          [
           156.74000549316406,
           21.139999389648438,
           89.25,
           117.87000274658203,
           176.22000122070312
          ],
          [
           155.9499969482422,
           21.84000015258789,
           90.9000015258789,
           116,
           174.0800018310547
          ],
          [
           156.75,
           22.559999465942383,
           93.56999969482422,
           116.26000213623047,
           174.75999450683594
          ],
          [
           158.32000732421875,
           22.809999465942383,
           94,
           120.87000274658203,
           181.97000122070312
          ],
          [
           162.02000427246094,
           23.540000915527344,
           95.7699966430664,
           123.51000213623047,
           182.35000610351562
          ],
          [
           167.49000549316406,
           23.920000076293945,
           109.87999725341797,
           124.04000091552734,
           186.8300018310547
          ],
          [
           164.35000610351562,
           23.90999984741211,
           107.5,
           121.4000015258789,
           177.97000122070312
          ]
         ]
        }
       ],
       "layout": {
        "autosize": true,
        "template": {
         "data": {
          "bar": [
           {
            "error_x": {
             "color": "#2a3f5f"
            },
            "error_y": {
             "color": "#2a3f5f"
            },
            "marker": {
             "line": {
              "color": "white",
              "width": 0.5
             },
             "pattern": {
              "fillmode": "overlay",
              "size": 10,
              "solidity": 0.2
             }
            },
            "type": "bar"
           }
          ],
          "barpolar": [
           {
            "marker": {
             "line": {
              "color": "white",
              "width": 0.5
             },
             "pattern": {
              "fillmode": "overlay",
              "size": 10,
              "solidity": 0.2
             }
            },
            "type": "barpolar"
           }
          ],
          "carpet": [
           {
            "aaxis": {
             "endlinecolor": "#2a3f5f",
             "gridcolor": "#C8D4E3",
             "linecolor": "#C8D4E3",
             "minorgridcolor": "#C8D4E3",
             "startlinecolor": "#2a3f5f"
            },
            "baxis": {
             "endlinecolor": "#2a3f5f",
             "gridcolor": "#C8D4E3",
             "linecolor": "#C8D4E3",
             "minorgridcolor": "#C8D4E3",
             "startlinecolor": "#2a3f5f"
            },
            "type": "carpet"
           }
          ],
          "choropleth": [
           {
            "colorbar": {
             "outlinewidth": 0,
             "ticks": ""
            },
            "type": "choropleth"
           }
          ],
          "contour": [
           {
            "colorbar": {
             "outlinewidth": 0,
             "ticks": ""
            },
            "colorscale": [
             [
              0,
              "#0d0887"
             ],
             [
              0.1111111111111111,
              "#46039f"
             ],
             [
              0.2222222222222222,
              "#7201a8"
             ],
             [
              0.3333333333333333,
              "#9c179e"
             ],
             [
              0.4444444444444444,
              "#bd3786"
             ],
             [
              0.5555555555555556,
              "#d8576b"
             ],
             [
              0.6666666666666666,
              "#ed7953"
             ],
             [
              0.7777777777777778,
              "#fb9f3a"
             ],
             [
              0.8888888888888888,
              "#fdca26"
             ],
             [
              1,
              "#f0f921"
             ]
            ],
            "type": "contour"
           }
          ],
          "contourcarpet": [
           {
            "colorbar": {
             "outlinewidth": 0,
             "ticks": ""
            },
            "type": "contourcarpet"
           }
          ],
          "heatmap": [
           {
            "colorbar": {
             "outlinewidth": 0,
             "ticks": ""
            },
            "colorscale": [
             [
              0,
              "#0d0887"
             ],
             [
              0.1111111111111111,
              "#46039f"
             ],
             [
              0.2222222222222222,
              "#7201a8"
             ],
             [
              0.3333333333333333,
              "#9c179e"
             ],
             [
              0.4444444444444444,
              "#bd3786"
             ],
             [
              0.5555555555555556,
              "#d8576b"
             ],
             [
              0.6666666666666666,
              "#ed7953"
             ],
             [
              0.7777777777777778,
              "#fb9f3a"
             ],
             [
              0.8888888888888888,
              "#fdca26"
             ],
             [
              1,
              "#f0f921"
             ]
            ],
            "type": "heatmap"
           }
          ],
          "heatmapgl": [
           {
            "colorbar": {
             "outlinewidth": 0,
             "ticks": ""
            },
            "colorscale": [
             [
              0,
              "#0d0887"
             ],
             [
              0.1111111111111111,
              "#46039f"
             ],
             [
              0.2222222222222222,
              "#7201a8"
             ],
             [
              0.3333333333333333,
              "#9c179e"
             ],
             [
              0.4444444444444444,
              "#bd3786"
             ],
             [
              0.5555555555555556,
              "#d8576b"
             ],
             [
              0.6666666666666666,
              "#ed7953"
             ],
             [
              0.7777777777777778,
              "#fb9f3a"
             ],
             [
              0.8888888888888888,
              "#fdca26"
             ],
             [
              1,
              "#f0f921"
             ]
            ],
            "type": "heatmapgl"
           }
          ],
          "histogram": [
           {
            "marker": {
             "pattern": {
              "fillmode": "overlay",
              "size": 10,
              "solidity": 0.2
             }
            },
            "type": "histogram"
           }
          ],
          "histogram2d": [
           {
            "colorbar": {
             "outlinewidth": 0,
             "ticks": ""
            },
            "colorscale": [
             [
              0,
              "#0d0887"
             ],
             [
              0.1111111111111111,
              "#46039f"
             ],
             [
              0.2222222222222222,
              "#7201a8"
             ],
             [
              0.3333333333333333,
              "#9c179e"
             ],
             [
              0.4444444444444444,
              "#bd3786"
             ],
             [
              0.5555555555555556,
              "#d8576b"
             ],
             [
              0.6666666666666666,
              "#ed7953"
             ],
             [
              0.7777777777777778,
              "#fb9f3a"
             ],
             [
              0.8888888888888888,
              "#fdca26"
             ],
             [
              1,
              "#f0f921"
             ]
            ],
            "type": "histogram2d"
           }
          ],
          "histogram2dcontour": [
           {
            "colorbar": {
             "outlinewidth": 0,
             "ticks": ""
            },
            "colorscale": [
             [
              0,
              "#0d0887"
             ],
             [
              0.1111111111111111,
              "#46039f"
             ],
             [
              0.2222222222222222,
              "#7201a8"
             ],
             [
              0.3333333333333333,
              "#9c179e"
             ],
             [
              0.4444444444444444,
              "#bd3786"
             ],
             [
              0.5555555555555556,
              "#d8576b"
             ],
             [
              0.6666666666666666,
              "#ed7953"
             ],
             [
              0.7777777777777778,
              "#fb9f3a"
             ],
             [
              0.8888888888888888,
              "#fdca26"
             ],
             [
              1,
              "#f0f921"
             ]
            ],
            "type": "histogram2dcontour"
           }
          ],
          "mesh3d": [
           {
            "colorbar": {
             "outlinewidth": 0,
             "ticks": ""
            },
            "type": "mesh3d"
           }
          ],
          "parcoords": [
           {
            "line": {
             "colorbar": {
              "outlinewidth": 0,
              "ticks": ""
             }
            },
            "type": "parcoords"
           }
          ],
          "pie": [
           {
            "automargin": true,
            "type": "pie"
           }
          ],
          "scatter": [
           {
            "fillpattern": {
             "fillmode": "overlay",
             "size": 10,
             "solidity": 0.2
            },
            "type": "scatter"
           }
          ],
          "scatter3d": [
           {
            "line": {
             "colorbar": {
              "outlinewidth": 0,
              "ticks": ""
             }
            },
            "marker": {
             "colorbar": {
              "outlinewidth": 0,
              "ticks": ""
             }
            },
            "type": "scatter3d"
           }
          ],
          "scattercarpet": [
           {
            "marker": {
             "colorbar": {
              "outlinewidth": 0,
              "ticks": ""
             }
            },
            "type": "scattercarpet"
           }
          ],
          "scattergeo": [
           {
            "marker": {
             "colorbar": {
              "outlinewidth": 0,
              "ticks": ""
             }
            },
            "type": "scattergeo"
           }
          ],
          "scattergl": [
           {
            "marker": {
             "colorbar": {
              "outlinewidth": 0,
              "ticks": ""
             }
            },
            "type": "scattergl"
           }
          ],
          "scattermapbox": [
           {
            "marker": {
             "colorbar": {
              "outlinewidth": 0,
              "ticks": ""
             }
            },
            "type": "scattermapbox"
           }
          ],
          "scatterpolar": [
           {
            "marker": {
             "colorbar": {
              "outlinewidth": 0,
              "ticks": ""
             }
            },
            "type": "scatterpolar"
           }
          ],
          "scatterpolargl": [
           {
            "marker": {
             "colorbar": {
              "outlinewidth": 0,
              "ticks": ""
             }
            },
            "type": "scatterpolargl"
           }
          ],
          "scatterternary": [
           {
            "marker": {
             "colorbar": {
              "outlinewidth": 0,
              "ticks": ""
             }
            },
            "type": "scatterternary"
           }
          ],
          "surface": [
           {
            "colorbar": {
             "outlinewidth": 0,
             "ticks": ""
            },
            "colorscale": [
             [
              0,
              "#0d0887"
             ],
             [
              0.1111111111111111,
              "#46039f"
             ],
             [
              0.2222222222222222,
              "#7201a8"
             ],
             [
              0.3333333333333333,
              "#9c179e"
             ],
             [
              0.4444444444444444,
              "#bd3786"
             ],
             [
              0.5555555555555556,
              "#d8576b"
             ],
             [
              0.6666666666666666,
              "#ed7953"
             ],
             [
              0.7777777777777778,
              "#fb9f3a"
             ],
             [
              0.8888888888888888,
              "#fdca26"
             ],
             [
              1,
              "#f0f921"
             ]
            ],
            "type": "surface"
           }
          ],
          "table": [
           {
            "cells": {
             "fill": {
              "color": "#EBF0F8"
             },
             "line": {
              "color": "white"
             }
            },
            "header": {
             "fill": {
              "color": "#C8D4E3"
             },
             "line": {
              "color": "white"
             }
            },
            "type": "table"
           }
          ]
         },
         "layout": {
          "annotationdefaults": {
           "arrowcolor": "#2a3f5f",
           "arrowhead": 0,
           "arrowwidth": 1
          },
          "autotypenumbers": "strict",
          "coloraxis": {
           "colorbar": {
            "outlinewidth": 0,
            "ticks": ""
           }
          },
          "colorscale": {
           "diverging": [
            [
             0,
             "#8e0152"
            ],
            [
             0.1,
             "#c51b7d"
            ],
            [
             0.2,
             "#de77ae"
            ],
            [
             0.3,
             "#f1b6da"
            ],
            [
             0.4,
             "#fde0ef"
            ],
            [
             0.5,
             "#f7f7f7"
            ],
            [
             0.6,
             "#e6f5d0"
            ],
            [
             0.7,
             "#b8e186"
            ],
            [
             0.8,
             "#7fbc41"
            ],
            [
             0.9,
             "#4d9221"
            ],
            [
             1,
             "#276419"
            ]
           ],
           "sequential": [
            [
             0,
             "#0d0887"
            ],
            [
             0.1111111111111111,
             "#46039f"
            ],
            [
             0.2222222222222222,
             "#7201a8"
            ],
            [
             0.3333333333333333,
             "#9c179e"
            ],
            [
             0.4444444444444444,
             "#bd3786"
            ],
            [
             0.5555555555555556,
             "#d8576b"
            ],
            [
             0.6666666666666666,
             "#ed7953"
            ],
            [
             0.7777777777777778,
             "#fb9f3a"
            ],
            [
             0.8888888888888888,
             "#fdca26"
            ],
            [
             1,
             "#f0f921"
            ]
           ],
           "sequentialminus": [
            [
             0,
             "#0d0887"
            ],
            [
             0.1111111111111111,
             "#46039f"
            ],
            [
             0.2222222222222222,
             "#7201a8"
            ],
            [
             0.3333333333333333,
             "#9c179e"
            ],
            [
             0.4444444444444444,
             "#bd3786"
            ],
            [
             0.5555555555555556,
             "#d8576b"
            ],
            [
             0.6666666666666666,
             "#ed7953"
            ],
            [
             0.7777777777777778,
             "#fb9f3a"
            ],
            [
             0.8888888888888888,
             "#fdca26"
            ],
            [
             1,
             "#f0f921"
            ]
           ]
          },
          "colorway": [
           "#636efa",
           "#EF553B",
           "#00cc96",
           "#ab63fa",
           "#FFA15A",
           "#19d3f3",
           "#FF6692",
           "#B6E880",
           "#FF97FF",
           "#FECB52"
          ],
          "font": {
           "color": "#2a3f5f"
          },
          "geo": {
           "bgcolor": "white",
           "lakecolor": "white",
           "landcolor": "white",
           "showlakes": true,
           "showland": true,
           "subunitcolor": "#C8D4E3"
          },
          "hoverlabel": {
           "align": "left"
          },
          "hovermode": "closest",
          "mapbox": {
           "style": "light"
          },
          "paper_bgcolor": "white",
          "plot_bgcolor": "white",
          "polar": {
           "angularaxis": {
            "gridcolor": "#EBF0F8",
            "linecolor": "#EBF0F8",
            "ticks": ""
           },
           "bgcolor": "white",
           "radialaxis": {
            "gridcolor": "#EBF0F8",
            "linecolor": "#EBF0F8",
            "ticks": ""
           }
          },
          "scene": {
           "xaxis": {
            "backgroundcolor": "white",
            "gridcolor": "#DFE8F3",
            "gridwidth": 2,
            "linecolor": "#EBF0F8",
            "showbackground": true,
            "ticks": "",
            "zerolinecolor": "#EBF0F8"
           },
           "yaxis": {
            "backgroundcolor": "white",
            "gridcolor": "#DFE8F3",
            "gridwidth": 2,
            "linecolor": "#EBF0F8",
            "showbackground": true,
            "ticks": "",
            "zerolinecolor": "#EBF0F8"
           },
           "zaxis": {
            "backgroundcolor": "white",
            "gridcolor": "#DFE8F3",
            "gridwidth": 2,
            "linecolor": "#EBF0F8",
            "showbackground": true,
            "ticks": "",
            "zerolinecolor": "#EBF0F8"
           }
          },
          "shapedefaults": {
           "line": {
            "color": "#2a3f5f"
           }
          },
          "ternary": {
           "aaxis": {
            "gridcolor": "#DFE8F3",
            "linecolor": "#A2B1C6",
            "ticks": ""
           },
           "baxis": {
            "gridcolor": "#DFE8F3",
            "linecolor": "#A2B1C6",
            "ticks": ""
           },
           "bgcolor": "white",
           "caxis": {
            "gridcolor": "#DFE8F3",
            "linecolor": "#A2B1C6",
            "ticks": ""
           }
          },
          "title": {
           "x": 0.05
          },
          "xaxis": {
           "automargin": true,
           "gridcolor": "#EBF0F8",
           "linecolor": "#EBF0F8",
           "ticks": "",
           "title": {
            "standoff": 15
           },
           "zerolinecolor": "#EBF0F8",
           "zerolinewidth": 2
          },
          "yaxis": {
           "automargin": true,
           "gridcolor": "#EBF0F8",
           "linecolor": "#EBF0F8",
           "ticks": "",
           "title": {
            "standoff": 15
           },
           "zerolinecolor": "#EBF0F8",
           "zerolinewidth": 2
          }
         }
        },
        "title": {
         "text": "Semiconductor Adjusted Close Prices"
        },
        "xaxis": {
         "autorange": true,
         "range": [
          "2024-06-28",
          "2024-07-05"
         ],
         "title": {
          "text": "Dates"
         },
         "type": "date"
        },
        "yaxis": {
         "autorange": true,
         "range": [
          -0.2222222222222222,
          4.222222222222222
         ],
         "title": {
          "text": "Adjusted Close Prices"
         },
         "type": "multicategory"
        }
       }
      },
      "image/png": "[encoded data removed]",
      "text/html": [
       "<div>                            <div id=\"50c5d034-09dc-4118-8941-13b4f867de49\" class=\"plotly-graph-div\" style=\"height:525px; width:100%;\"></div>            <script type=\"text/javascript\">                require([\"plotly\"], function(Plotly) {                    window.PLOTLYENV=window.PLOTLYENV || {};                                    if (document.getElementById(\"50c5d034-09dc-4118-8941-13b4f867de49\")) {                    Plotly.newPlot(                        \"50c5d034-09dc-4118-8941-13b4f867de49\",                        [{\"line\":{\"color\":\"blue\"},\"mode\":\"lines\",\"name\":\"Adjusted Close\",\"x\":[\"2024-06-28T00:00:00+00:00\",\"2024-07-01T00:00:00+00:00\",\"2024-07-02T00:00:00+00:00\",\"2024-07-03T00:00:00+00:00\",\"2024-07-05T00:00:00+00:00\",\"2024-07-08T00:00:00+00:00\",\"2024-07-09T00:00:00+00:00\",\"2024-07-10T00:00:00+00:00\",\"2024-07-11T00:00:00+00:00\",\"2024-07-12T00:00:00+00:00\",\"2024-07-15T00:00:00+00:00\",\"2024-07-16T00:00:00+00:00\",\"2024-07-17T00:00:00+00:00\",\"2024-07-18T00:00:00+00:00\",\"2024-07-19T00:00:00+00:00\",\"2024-07-22T00:00:00+00:00\",\"2024-07-23T00:00:00+00:00\",\"2024-07-24T00:00:00+00:00\",\"2024-07-25T00:00:00+00:00\",\"2024-07-26T00:00:00+00:00\",\"2024-07-29T00:00:00+00:00\",\"2024-07-30T00:00:00+00:00\",\"2024-07-31T00:00:00+00:00\",\"2024-08-01T00:00:00+00:00\",\"2024-08-02T00:00:00+00:00\",\"2024-08-05T00:00:00+00:00\",\"2024-08-06T00:00:00+00:00\",\"2024-08-07T00:00:00+00:00\",\"2024-08-08T00:00:00+00:00\",\"2024-08-09T00:00:00+00:00\",\"2024-08-12T00:00:00+00:00\",\"2024-08-13T00:00:00+00:00\",\"2024-08-14T00:00:00+00:00\",\"2024-08-15T00:00:00+00:00\",\"2024-08-16T00:00:00+00:00\",\"2024-08-19T00:00:00+00:00\",\"2024-08-20T00:00:00+00:00\",\"2024-08-21T00:00:00+00:00\",\"2024-08-22T00:00:00+00:00\",\"2024-08-23T00:00:00+00:00\",\"2024-08-26T00:00:00+00:00\",\"2024-08-27T00:00:00+00:00\",\"2024-08-28T00:00:00+00:00\",\"2024-08-29T00:00:00+00:00\",\"2024-08-30T00:00:00+00:00\",\"2024-09-03T00:00:00+00:00\",\"2024-09-04T00:00:00+00:00\",\"2024-09-05T00:00:00+00:00\",\"2024-09-06T00:00:00+00:00\",\"2024-09-09T00:00:00+00:00\",\"2024-09-10T00:00:00+00:00\",\"2024-09-11T00:00:00+00:00\",\"2024-09-12T00:00:00+00:00\",\"2024-09-13T00:00:00+00:00\",\"2024-09-16T00:00:00+00:00\",\"2024-09-17T00:00:00+00:00\",\"2024-09-18T00:00:00+00:00\",\"2024-09-19T00:00:00+00:00\",\"2024-09-20T00:00:00+00:00\",\"2024-09-23T00:00:00+00:00\",\"2024-09-24T00:00:00+00:00\",\"2024-09-25T00:00:00+00:00\",\"2024-09-26T00:00:00+00:00\",\"2024-09-27T00:00:00+00:00\"],\"y\":[[162.2100067138672,30.774776458740234,131.41505432128906,123.52943420410156,173.17083740234375],[157.69000244140625,30.645597457885742,131.4050750732422,124.28936767578125,171.69627380371094],[164.30999755859375,30.874147415161133,132.47413635253906,122.65950775146484,175.0538787841797],[163.89999389648438,31.033138275146484,136.700439453125,128.26902770996094,181.8189239501953],[171.89999389648438,31.818159103393555,131.48500061035156,125.8192367553711,183.3134002685547],[178.69000244140625,33.77574157714844,130.69000244140625,128.18902587890625,185.94369506835938],[177.10000610351562,34.3719596862793,131.13999938964844,131.3687744140625,183.84146118164062],[183.9600067138672,34.65019226074219,136.38999938964844,134.89846801757812,190.34744262695312],[181.94000244140625,33.2888298034668,130.22999572753906,127.38910675048828,183.821533203125],[181.61000061035156,34.27259063720703,133.5500030517578,129.2289581298828,186.6610565185547],[179.8300018310547,34.242774963378906,130.8699951171875,128.42901611328125,184.53887939453125],[177.5500030517578,34.12353515625,127.48999786376953,126.34918975830078,185.35585021972656],[159.42999267578125,34.242774963378906,119.5,117.97990417480469,170.5704345703125],[155.77000427246094,34.65019226074219,117.44999694824219,121.07963562011719,171.2379608154297],[151.5800018310547,32.7721061706543,114.26000213623047,117.91991424560547,165.160400390625],[155.8699951171875,33.15964889526367,115.27999877929688,123.52943420410156,168.7272491455078],[154.0,32.7422981262207,114.25,122.57951354980469,169.1955108642578],[144.6300048828125,31.50017547607422,110.27999877929688,114.24022674560547,159.2123565673828],[138.32000732421875,30.90395736694336,107.44999694824219,112.27039337158203,159.6905975341797],[139.99000549316406,31.152381896972656,109.41000366210938,113.05032348632812,161.344482421875],[139.75,30.63566017150879,107.8499984741211,111.58045196533203,159.4215850830078],[138.44000244140625,29.94007110595703,102.55999755859375,103.72113037109375,153.97169494628906],[144.47999572753906,30.546226501464844,109.81999969482422,117.0099868774414,165.19029235839844],[132.5399932861328,28.866878509521484,101.51000213623047,109.2006607055664,157.5983123779297],[132.5,21.3445987701416,92.69999694824219,107.26081848144531,149.3089141845703],[134.82000732421875,19.983234405517578,90.41999816894531,100.44140625,147.4059295654297],[130.17999267578125,19.704999923706055,89.0,104.24108123779297,154.81857299804688],[128.6699981689453,18.989999771118164,86.80000305175781,98.90154266357422,154.4698486328125],[136.32000732421875,20.489999771118164,92.06999969482422,104.96102142333984,163.94488525390625],[134.27000427246094,19.709999084472656,93.08000183105469,104.74104309082031,166.50543212890625],[136.77000427246094,19.360000610351562,94.63999938964844,109.01067352294922,167.01356506347656],[141.1300048828125,20.469999313354492,97.44000244140625,116.13006591796875,171.70623779296875],[140.75,19.920000076293945,100.41000366210938,118.06990051269531,169.34495544433594],[147.36000061035156,20.690000534057617,106.94999694824219,122.84949493408203,173.32029724121094],[148.55999755859375,20.8700008392334,107.98999786376953,124.56934356689453,173.8981475830078],[155.27999877929688,21.520000457763672,108.62999725341797,129.98887634277344,174.8048095703125],[156.39999389648438,20.989999771118164,107.98999786376953,127.2391128540039,171.40733337402344],[157.80999755859375,21.40999984741211,108.33000183105469,128.489013671875,170.80955505371094],[151.6999969482422,20.100000381469727,104.26000213623047,123.72941589355469,165.82794189453125],[154.97999572753906,20.540000915527344,102.8499984741211,129.3589324951172,170.650146484375],[149.99000549316406,20.1299991607666,98.91000366210938,126.44918060302734,168.44827270507812],[150.5,20.06999969482422,97.86000061035156,128.28903198242188,169.92282104492188],[146.36000061035156,19.610000610351562,94.86000061035156,125.59925842285156,168.57778930664062],[145.49000549316406,20.1299991607666,95.56999969482422,117.57994079589844,168.52796936035156],[148.55999755859375,22.040000915527344,96.23999786376953,119.35979461669922,171.06858825683594],[136.94000244140625,20.100000381469727,88.58000183105469,107.99076080322266,159.8998260498047],[140.8699951171875,19.43000030517578,89.29000091552734,106.20091247558594,160.27841186523438],[139.44000244140625,19.399999618530273,89.38999938964844,107.2008285522461,163.09800720214844],[134.35000610351562,18.889999389648438,86.37999725341797,102.82120513916016,156.24331665039062],[138.14999389648438,19.06999969482422,86.2699966430664,106.46089172363281,162.181396484375],[142.83999633789062,18.979999542236328,86.8499984741211,108.09075164794922,161.83267211914062],[149.86000061035156,19.639999389648438,90.6500015258789,116.9000015258789,169.60400390625],[150.77000427246094,19.360000610351562,87.20999908447266,119.13999938964844,171.42999267578125],[152.30999755859375,19.65999984741211,91.22000122070312,119.0999984741211,172.5],[152.0800018310547,20.90999984741211,87.18000030517578,116.77999877929688,169.0800018310547],[150.82000732421875,21.469999313354492,88.7300033569336,115.58999633789062,167.35000610351562],[148.2899932861328,20.770000457763672,87.3499984741211,113.37000274658203,167.27999877929688],[156.74000549316406,21.139999389648438,89.25,117.87000274658203,176.22000122070312],[155.9499969482422,21.84000015258789,90.9000015258789,116.0,174.0800018310547],[156.75,22.559999465942383,93.56999969482422,116.26000213623047,174.75999450683594],[158.32000732421875,22.809999465942383,94.0,120.87000274658203,181.97000122070312],[162.02000427246094,23.540000915527344,95.7699966430664,123.51000213623047,182.35000610351562],[167.49000549316406,23.920000076293945,109.87999725341797,124.04000091552734,186.8300018310547],[164.35000610351562,23.90999984741211,107.5,121.4000015258789,177.97000122070312]],\"type\":\"scatter\"}],                        {\"template\":{\"data\":{\"barpolar\":[{\"marker\":{\"line\":{\"color\":\"white\",\"width\":0.5},\"pattern\":{\"fillmode\":\"overlay\",\"size\":10,\"solidity\":0.2}},\"type\":\"barpolar\"}],\"bar\":[{\"error_x\":{\"color\":\"#2a3f5f\"},\"error_y\":{\"color\":\"#2a3f5f\"},\"marker\":{\"line\":{\"color\":\"white\",\"width\":0.5},\"pattern\":{\"fillmode\":\"overlay\",\"size\":10,\"solidity\":0.2}},\"type\":\"bar\"}],\"carpet\":[{\"aaxis\":{\"endlinecolor\":\"#2a3f5f\",\"gridcolor\":\"#C8D4E3\",\"linecolor\":\"#C8D4E3\",\"minorgridcolor\":\"#C8D4E3\",\"startlinecolor\":\"#2a3f5f\"},\"baxis\":{\"endlinecolor\":\"#2a3f5f\",\"gridcolor\":\"#C8D4E3\",\"linecolor\":\"#C8D4E3\",\"minorgridcolor\":\"#C8D4E3\",\"startlinecolor\":\"#2a3f5f\"},\"type\":\"carpet\"}],\"choropleth\":[{\"colorbar\":{\"outlinewidth\":0,\"ticks\":\"\"},\"type\":\"choropleth\"}],\"contourcarpet\":[{\"colorbar\":{\"outlinewidth\":0,\"ticks\":\"\"},\"type\":\"contourcarpet\"}],\"contour\":[{\"colorbar\":{\"outlinewidth\":0,\"ticks\":\"\"},\"colorscale\":[[0.0,\"#0d0887\"],[0.1111111111111111,\"#46039f\"],[0.2222222222222222,\"#7201a8\"],[0.3333333333333333,\"#9c179e\"],[0.4444444444444444,\"#bd3786\"],[0.5555555555555556,\"#d8576b\"],[0.6666666666666666,\"#ed7953\"],[0.7777777777777778,\"#fb9f3a\"],[0.8888888888888888,\"#fdca26\"],[1.0,\"#f0f921\"]],\"type\":\"contour\"}],\"heatmapgl\":[{\"colorbar\":{\"outlinewidth\":0,\"ticks\":\"\"},\"colorscale\":[[0.0,\"#0d0887\"],[0.1111111111111111,\"#46039f\"],[0.2222222222222222,\"#7201a8\"],[0.3333333333333333,\"#9c179e\"],[0.4444444444444444,\"#bd3786\"],[0.5555555555555556,\"#d8576b\"],[0.6666666666666666,\"#ed7953\"],[0.7777777777777778,\"#fb9f3a\"],[0.8888888888888888,\"#fdca26\"],[1.0,\"#f0f921\"]],\"type\":\"heatmapgl\"}],\"heatmap\":[{\"colorbar\":{\"outlinewidth\":0,\"ticks\":\"\"},\"colorscale\":[[0.0,\"#0d0887\"],[0.1111111111111111,\"#46039f\"],[0.2222222222222222,\"#7201a8\"],[0.3333333333333333,\"#9c179e\"],[0.4444444444444444,\"#bd3786\"],[0.5555555555555556,\"#d8576b\"],[0.6666666666666666,\"#ed7953\"],[0.7777777777777778,\"#fb9f3a\"],[0.8888888888888888,\"#fdca26\"],[1.0,\"#f0f921\"]],\"type\":\"heatmap\"}],\"histogram2dcontour\":[{\"colorbar\":{\"outlinewidth\":0,\"ticks\":\"\"},\"colorscale\":[[0.0,\"#0d0887\"],[0.1111111111111111,\"#46039f\"],[0.2222222222222222,\"#7201a8\"],[0.3333333333333333,\"#9c179e\"],[0.4444444444444444,\"#bd3786\"],[0.5555555555555556,\"#d8576b\"],[0.6666666666666666,\"#ed7953\"],[0.7777777777777778,\"#fb9f3a\"],[0.8888888888888888,\"#fdca26\"],[1.0,\"#f0f921\"]],\"type\":\"histogram2dcontour\"}],\"histogram2d\":[{\"colorbar\":{\"outlinewidth\":0,\"ticks\":\"\"},\"colorscale\":[[0.0,\"#0d0887\"],[0.1111111111111111,\"#46039f\"],[0.2222222222222222,\"#7201a8\"],[0.3333333333333333,\"#9c179e\"],[0.4444444444444444,\"#bd3786\"],[0.5555555555555556,\"#d8576b\"],[0.6666666666666666,\"#ed7953\"],[0.7777777777777778,\"#fb9f3a\"],[0.8888888888888888,\"#fdca26\"],[1.0,\"#f0f921\"]],\"type\":\"histogram2d\"}],\"histogram\":[{\"marker\":{\"pattern\":{\"fillmode\":\"overlay\",\"size\":10,\"solidity\":0.2}},\"type\":\"histogram\"}],\"mesh3d\":[{\"colorbar\":{\"outlinewidth\":0,\"ticks\":\"\"},\"type\":\"mesh3d\"}],\"parcoords\":[{\"line\":{\"colorbar\":{\"outlinewidth\":0,\"ticks\":\"\"}},\"type\":\"parcoords\"}],\"pie\":[{\"automargin\":true,\"type\":\"pie\"}],\"scatter3d\":[{\"line\":{\"colorbar\":{\"outlinewidth\":0,\"ticks\":\"\"}},\"marker\":{\"colorbar\":{\"outlinewidth\":0,\"ticks\":\"\"}},\"type\":\"scatter3d\"}],\"scattercarpet\":[{\"marker\":{\"colorbar\":{\"outlinewidth\":0,\"ticks\":\"\"}},\"type\":\"scattercarpet\"}],\"scattergeo\":[{\"marker\":{\"colorbar\":{\"outlinewidth\":0,\"ticks\":\"\"}},\"type\":\"scattergeo\"}],\"scattergl\":[{\"marker\":{\"colorbar\":{\"outlinewidth\":0,\"ticks\":\"\"}},\"type\":\"scattergl\"}],\"scattermapbox\":[{\"marker\":{\"colorbar\":{\"outlinewidth\":0,\"ticks\":\"\"}},\"type\":\"scattermapbox\"}],\"scatterpolargl\":[{\"marker\":{\"colorbar\":{\"outlinewidth\":0,\"ticks\":\"\"}},\"type\":\"scatterpolargl\"}],\"scatterpolar\":[{\"marker\":{\"colorbar\":{\"outlinewidth\":0,\"ticks\":\"\"}},\"type\":\"scatterpolar\"}],\"scatter\":[{\"fillpattern\":{\"fillmode\":\"overlay\",\"size\":10,\"solidity\":0.2},\"type\":\"scatter\"}],\"scatterternary\":[{\"marker\":{\"colorbar\":{\"outlinewidth\":0,\"ticks\":\"\"}},\"type\":\"scatterternary\"}],\"surface\":[{\"colorbar\":{\"outlinewidth\":0,\"ticks\":\"\"},\"colorscale\":[[0.0,\"#0d0887\"],[0.1111111111111111,\"#46039f\"],[0.2222222222222222,\"#7201a8\"],[0.3333333333333333,\"#9c179e\"],[0.4444444444444444,\"#bd3786\"],[0.5555555555555556,\"#d8576b\"],[0.6666666666666666,\"#ed7953\"],[0.7777777777777778,\"#fb9f3a\"],[0.8888888888888888,\"#fdca26\"],[1.0,\"#f0f921\"]],\"type\":\"surface\"}],\"table\":[{\"cells\":{\"fill\":{\"color\":\"#EBF0F8\"},\"line\":{\"color\":\"white\"}},\"header\":{\"fill\":{\"color\":\"#C8D4E3\"},\"line\":{\"color\":\"white\"}},\"type\":\"table\"}]},\"layout\":{\"annotationdefaults\":{\"arrowcolor\":\"#2a3f5f\",\"arrowhead\":0,\"arrowwidth\":1},\"autotypenumbers\":\"strict\",\"coloraxis\":{\"colorbar\":{\"outlinewidth\":0,\"ticks\":\"\"}},\"colorscale\":{\"diverging\":[[0,\"#8e0152\"],[0.1,\"#c51b7d\"],[0.2,\"#de77ae\"],[0.3,\"#f1b6da\"],[0.4,\"#fde0ef\"],[0.5,\"#f7f7f7\"],[0.6,\"#e6f5d0\"],[0.7,\"#b8e186\"],[0.8,\"#7fbc41\"],[0.9,\"#4d9221\"],[1,\"#276419\"]],\"sequential\":[[0.0,\"#0d0887\"],[0.1111111111111111,\"#46039f\"],[0.2222222222222222,\"#7201a8\"],[0.3333333333333333,\"#9c179e\"],[0.4444444444444444,\"#bd3786\"],[0.5555555555555556,\"#d8576b\"],[0.6666666666666666,\"#ed7953\"],[0.7777777777777778,\"#fb9f3a\"],[0.8888888888888888,\"#fdca26\"],[1.0,\"#f0f921\"]],\"sequentialminus\":[[0.0,\"#0d0887\"],[0.1111111111111111,\"#46039f\"],[0.2222222222222222,\"#7201a8\"],[0.3333333333333333,\"#9c179e\"],[0.4444444444444444,\"#bd3786\"],[0.5555555555555556,\"#d8576b\"],[0.6666666666666666,\"#ed7953\"],[0.7777777777777778,\"#fb9f3a\"],[0.8888888888888888,\"#fdca26\"],[1.0,\"#f0f921\"]]},\"colorway\":[\"#636efa\",\"#EF553B\",\"#00cc96\",\"#ab63fa\",\"#FFA15A\",\"#19d3f3\",\"#FF6692\",\"#B6E880\",\"#FF97FF\",\"#FECB52\"],\"font\":{\"color\":\"#2a3f5f\"},\"geo\":{\"bgcolor\":\"white\",\"lakecolor\":\"white\",\"landcolor\":\"white\",\"showlakes\":true,\"showland\":true,\"subunitcolor\":\"#C8D4E3\"},\"hoverlabel\":{\"align\":\"left\"},\"hovermode\":\"closest\",\"mapbox\":{\"style\":\"light\"},\"paper_bgcolor\":\"white\",\"plot_bgcolor\":\"white\",\"polar\":{\"angularaxis\":{\"gridcolor\":\"#EBF0F8\",\"linecolor\":\"#EBF0F8\",\"ticks\":\"\"},\"bgcolor\":\"white\",\"radialaxis\":{\"gridcolor\":\"#EBF0F8\",\"linecolor\":\"#EBF0F8\",\"ticks\":\"\"}},\"scene\":{\"xaxis\":{\"backgroundcolor\":\"white\",\"gridcolor\":\"#DFE8F3\",\"gridwidth\":2,\"linecolor\":\"#EBF0F8\",\"showbackground\":true,\"ticks\":\"\",\"zerolinecolor\":\"#EBF0F8\"},\"yaxis\":{\"backgroundcolor\":\"white\",\"gridcolor\":\"#DFE8F3\",\"gridwidth\":2,\"linecolor\":\"#EBF0F8\",\"showbackground\":true,\"ticks\":\"\",\"zerolinecolor\":\"#EBF0F8\"},\"zaxis\":{\"backgroundcolor\":\"white\",\"gridcolor\":\"#DFE8F3\",\"gridwidth\":2,\"linecolor\":\"#EBF0F8\",\"showbackground\":true,\"ticks\":\"\",\"zerolinecolor\":\"#EBF0F8\"}},\"shapedefaults\":{\"line\":{\"color\":\"#2a3f5f\"}},\"ternary\":{\"aaxis\":{\"gridcolor\":\"#DFE8F3\",\"linecolor\":\"#A2B1C6\",\"ticks\":\"\"},\"baxis\":{\"gridcolor\":\"#DFE8F3\",\"linecolor\":\"#A2B1C6\",\"ticks\":\"\"},\"bgcolor\":\"white\",\"caxis\":{\"gridcolor\":\"#DFE8F3\",\"linecolor\":\"#A2B1C6\",\"ticks\":\"\"}},\"title\":{\"x\":0.05},\"xaxis\":{\"automargin\":true,\"gridcolor\":\"#EBF0F8\",\"linecolor\":\"#EBF0F8\",\"ticks\":\"\",\"title\":{\"standoff\":15},\"zerolinecolor\":\"#EBF0F8\",\"zerolinewidth\":2},\"yaxis\":{\"automargin\":true,\"gridcolor\":\"#EBF0F8\",\"linecolor\":\"#EBF0F8\",\"ticks\":\"\",\"title\":{\"standoff\":15},\"zerolinecolor\":\"#EBF0F8\",\"zerolinewidth\":2}}},\"title\":{\"text\":\"Semiconductor Adjusted Close Prices\"},\"xaxis\":{\"title\":{\"text\":\"Dates\"}},\"yaxis\":{\"title\":{\"text\":\"Adjusted Close Prices\"}}},                        {\"responsive\": true}                    ).then(function(){\n",
       "                            \n",
       "var gd = document.getElementById('50c5d034-09dc-4118-8941-13b4f867de49');\n",
       "var x = new MutationObserver(function (mutations, observer) {{\n",
       "        var display = window.getComputedStyle(gd).display;\n",
       "        if (!display || display === 'none') {{\n",
       "            console.log([gd, 'removed!']);\n",
       "            Plotly.purge(gd);\n",
       "            observer.disconnect();\n",
       "        }}\n",
       "}});\n",
       "\n",
       "// Listen for the removal of the full notebook cells\n",
       "var notebookContainer = gd.closest('#notebook-container');\n",
       "if (notebookContainer) {{\n",
       "    x.observe(notebookContainer, {childList: true});\n",
       "}}\n",
       "\n",
       "// Listen for the clearing of the current output cell\n",
       "var outputEl = gd.closest('.output');\n",
       "if (outputEl) {{\n",
       "    x.observe(outputEl, {childList: true});\n",
       "}}\n",
       "\n",
       "                        })                };                });            </script>        </div>"
      ]
     },
     "metadata": {},
     "output_type": "display_data"
    }
   ],
   "source": [
    "# Create and display an interactive line plot of Adjusted Close Prices for semiconductor companies\n",
    "newclosing = go.Figure()\n",
    "newclosing.add_trace(go.Scatter(x=semiconductor_data.index, \n",
    "                         y=semiconductor_data['Adj Close'], \n",
    "                         mode='lines', \n",
    "                         name='Adjusted Close', \n",
    "                         line=dict(color='blue')))\n",
    "newclosing.update_layout(title='Semiconductor Adjusted Close Prices',\n",
    "                  xaxis_title='Dates',\n",
    "                  yaxis_title='Adjusted Close Prices',\n",
    "                  template='plotly_white')\n",
    "newclosing.show()"
   ]
  },
  {
   "cell_type": "code",
   "execution_count": 23,
   "id": "eaff6f77-7367-479b-a8d0-ade67b38149f",
   "metadata": {},
   "outputs": [
    {
     "data": {
      "application/vnd.plotly.v1+json": {
       "config": {
        "plotlyServerURL": "https://plot.ly"
       },
       "data": [
        {
         "line": {
          "color": "blue"
         },
         "mode": "lines",
         "name": "Cumulative Returns",
         "type": "scatter",
         "x": [
          "2024-06-28T00:00:00+00:00",
          "2024-07-01T00:00:00+00:00",
          "2024-07-02T00:00:00+00:00",
          "2024-07-03T00:00:00+00:00",
          "2024-07-05T00:00:00+00:00",
          "2024-07-08T00:00:00+00:00",
          "2024-07-09T00:00:00+00:00",
          "2024-07-10T00:00:00+00:00",
          "2024-07-11T00:00:00+00:00",
          "2024-07-12T00:00:00+00:00",
          "2024-07-15T00:00:00+00:00",
          "2024-07-16T00:00:00+00:00",
          "2024-07-17T00:00:00+00:00",
          "2024-07-18T00:00:00+00:00",
          "2024-07-19T00:00:00+00:00",
          "2024-07-22T00:00:00+00:00",
          "2024-07-23T00:00:00+00:00",
          "2024-07-24T00:00:00+00:00",
          "2024-07-25T00:00:00+00:00",
          "2024-07-26T00:00:00+00:00",
          "2024-07-29T00:00:00+00:00",
          "2024-07-30T00:00:00+00:00",
          "2024-07-31T00:00:00+00:00",
          "2024-08-01T00:00:00+00:00",
          "2024-08-02T00:00:00+00:00",
          "2024-08-05T00:00:00+00:00",
          "2024-08-06T00:00:00+00:00",
          "2024-08-07T00:00:00+00:00",
          "2024-08-08T00:00:00+00:00",
          "2024-08-09T00:00:00+00:00",
          "2024-08-12T00:00:00+00:00",
          "2024-08-13T00:00:00+00:00",
          "2024-08-14T00:00:00+00:00",
          "2024-08-15T00:00:00+00:00",
          "2024-08-16T00:00:00+00:00",
          "2024-08-19T00:00:00+00:00",
          "2024-08-20T00:00:00+00:00",
          "2024-08-21T00:00:00+00:00",
          "2024-08-22T00:00:00+00:00",
          "2024-08-23T00:00:00+00:00",
          "2024-08-26T00:00:00+00:00",
          "2024-08-27T00:00:00+00:00",
          "2024-08-28T00:00:00+00:00",
          "2024-08-29T00:00:00+00:00",
          "2024-08-30T00:00:00+00:00",
          "2024-09-03T00:00:00+00:00",
          "2024-09-04T00:00:00+00:00",
          "2024-09-05T00:00:00+00:00",
          "2024-09-06T00:00:00+00:00",
          "2024-09-09T00:00:00+00:00",
          "2024-09-10T00:00:00+00:00",
          "2024-09-11T00:00:00+00:00",
          "2024-09-12T00:00:00+00:00",
          "2024-09-13T00:00:00+00:00",
          "2024-09-16T00:00:00+00:00",
          "2024-09-17T00:00:00+00:00",
          "2024-09-18T00:00:00+00:00",
          "2024-09-19T00:00:00+00:00",
          "2024-09-20T00:00:00+00:00",
          "2024-09-23T00:00:00+00:00",
          "2024-09-24T00:00:00+00:00",
          "2024-09-25T00:00:00+00:00",
          "2024-09-26T00:00:00+00:00",
          "2024-09-27T00:00:00+00:00"
         ],
         "y": [
          [
           1,
           1,
           1,
           1,
           1
          ],
          [
           0.9972134861689304,
           0.9991604878038501,
           0.9999810157822131,
           1.001537960318073,
           0.9982969839255246
          ],
          [
           1.0013998951403456,
           1.000650803579959,
           1.0020148812615504,
           0.9982545608311953,
           1.0022014215128507
          ],
          [
           1.00115001526064,
           1.0016814026094116,
           1.0100066650091328,
           1.0096677178405742,
           1.0099475370848894
          ],
          [
           1.0060366537111232,
           1.0067491515257103,
           1.0003731407622065,
           1.0048468446990466,
           1.0116078072527759
          ],
          [
           1.010010474372988,
           1.0191370114775713,
           0.9988610009525775,
           1.0095783849324695,
           1.0145108429838907
          ],
          [
           1.0091117598766295,
           1.0227350253985419,
           0.9997208303078264,
           1.0158390717748187,
           1.0122168807478704
          ],
          [
           1.0130205724402046,
           1.024390783183127,
           1.0097264242981112,
           1.022662612395178,
           1.0193811669784625
          ],
          [
           1.0119082078991428,
           1.0163413781852537,
           0.9983254445722527,
           1.0084305326620329,
           1.0123914338123645
          ],
          [
           1.011724668514189,
           1.0223484192706336,
           1.0046881257837075,
           1.0120716648472514,
           1.01551915125717
          ],
          [
           1.010733055349227,
           1.0221705394754916,
           0.9996477437407633,
           1.0105054550359227,
           1.0132100338097483
          ],
          [
           1.0094515838990092,
           1.0214586613166083,
           0.993193234009171,
           1.006414331509403,
           1.0141071488677063
          ],
          [
           0.9991495434259579,
           1.02217252952052,
           0.9776319900860923,
           0.9897482789374826,
           0.9979285435619909
          ],
          [
           0.9968558246088476,
           1.0246048719335494,
           0.9734392106652292,
           0.9962492883352797,
           0.9987096208867422
          ],
          [
           0.9941744172619393,
           1.0134978850323837,
           0.9668294488250494,
           0.9897497020205104,
           0.9916204006707701
          ],
          [
           0.996988114005427,
           1.0158948852721974,
           0.9689871653789216,
           1.001520446476438,
           0.9959034612386587
          ],
          [
           0.9957920127906406,
           1.0133376536623313,
           0.9668227491574108,
           0.9995950653639561,
           0.9964562391317736
          ],
          [
           0.989733203506496,
           1.0056491911908942,
           0.9584238706139568,
           0.9825940394650702,
           0.9846973262214692
          ],
          [
           0.985415140942061,
           1.001842315513797,
           0.9522751098713307,
           0.9783583455523538,
           0.9852888916143163
          ],
          [
           0.9866048759000464,
           1.0034529973008564,
           0.9566177475209517,
           0.9800574825950645,
           0.9873297812258744
          ],
          [
           0.9864357276890978,
           1.0001241605788234,
           0.9532078019055966,
           0.976871824787593,
           0.9849763895506148
          ],
          [
           0.9855110562078939,
           0.9955825549702082,
           0.9415191829530929,
           0.9596699993510428,
           0.978242027817205
          ],
          [
           0.9898107384225231,
           0.9996137928068383,
           0.9581812135748182,
           0.9904084729609894,
           0.9924972498377395
          ],
          [
           0.9816308221830583,
           0.9886225863114071,
           0.9400549989335328,
           0.9738833390490392,
           0.9833744144170111
          ],
          [
           0.9816012019594752,
           0.9370985141922086,
           0.9196582664852266,
           0.9695583193782584,
           0.9730296563148859
          ],
          [
           0.9833199355277831,
           0.9251448341338325,
           0.914003412671889,
           0.9541477110222085,
           0.9705493483171385
          ],
          [
           0.979935705697579,
           0.9225686025959113,
           0.9104149278270354,
           0.9631715074015802,
           0.9803106059192496
          ],
          [
           0.9787990505924117,
           0.9158734826346542,
           0.904788775965087,
           0.9508373792529397,
           0.9798689816526495
          ],
          [
           0.9846184504562193,
           0.9303422582061147,
           0.9185221677979678,
           0.9654013050229682,
           0.9918898317631487
          ],
          [
           0.9831377647756121,
           0.9232591190326437,
           0.9210412004761637,
           0.9648954806549996,
           0.9949881661883209
          ],
          [
           0.9849682885960713,
           0.9199801814589289,
           0.924900305535903,
           0.9747286534649553,
           0.995595457194126
          ],
          [
           0.9881082039322592,
           0.930529528318575,
           0.9317412916273387,
           0.9906433238784565,
           1.00119021669741
          ],
          [
           0.9878421471553511,
           0.9255291321504752,
           0.9388412318576786,
           0.9947802460775099,
           0.9984365685868948
          ],
          [
           0.9924813210065966,
           0.9326843314747723,
           0.9541285915060153,
           1.004847685141174,
           1.003124191684043
          ],
          [
           0.9932895284926596,
           0.9343071778736574,
           0.9564481208117929,
           1.0083645614588221,
           1.0037930754400206
          ],
          [
           0.9977825999477461,
           0.9401270081064029,
           0.957865210879528,
           1.0193320768891458,
           1.0048397812701522
          ],
          [
           0.9985022751465747,
           0.9354962650838058,
           0.9564543824577565,
           1.0139413807641746,
           1.0009338026573882
          ],
          [
           0.9994024617958868,
           0.9392400336116029,
           0.9572072259872404,
           1.0164314290926013,
           1.0002356568832036
          ],
          [
           0.9955330303618659,
           0.9277463021665593,
           0.9482165653858325,
           1.0070185527822608,
           0.9944013379435597
          ],
          [
           0.9976855334535112,
           0.9318080818747785,
           0.9450106647473503,
           1.0184730392114345,
           1.0001846898216502
          ],
          [
           0.9944732214092764,
           0.9280880922775036,
           0.9359602583991743,
           1.0127457504271833,
           0.9976036425874785
          ],
          [
           0.994811361192955,
           0.9275348404920523,
           0.9334762803098589,
           1.0164296447336025,
           0.9993501903809069
          ],
          [
           0.992074804097836,
           0.9232830698499942,
           0.9263221089848452,
           1.0111018985862497,
           0.9977681100982774
          ],
          [
           0.9914850936360633,
           0.9281796108291038,
           0.9280554208261753,
           0.9949625770253684,
           0.9977091358361774
          ],
          [
           0.9935772314156565,
           0.9457933689943001,
           0.9296819653344386,
           0.9987278620142136,
           1.0007172996363125
          ],
          [
           0.9858057163595628,
           0.9291432821999348,
           0.9111830035612141,
           0.9749456268190129,
           0.9876502910522234
          ],
          [
           0.9886348453036009,
           0.9229489930641408,
           0.9130088646047412,
           0.9709059182672821,
           0.9881179718496759
          ],
          [
           0.9876312670848112,
           0.9226639791362374,
           0.9132644909133518,
           0.9731912668908713,
           0.9915945383982524
          ],
          [
           0.9840261039719087,
           0.91781285697342,
           0.9055764718749745,
           0.9632514853718116,
           0.9832595822205124
          ],
          [
           0.9868093470036766,
           0.9195620004322599,
           0.9052881702779797,
           0.9717758298979143,
           0.9907334044894291
          ],
          [
           0.9901594291253722,
           0.9186940327167136,
           0.9068097560459896,
           0.9754951733463083,
           0.990307347142426
          ],
          [
           0.9950256595937873,
           0.9250832628119215,
           0.9167288116040773,
           0.995370557238333,
           0.9998184141786177
          ],
          [
           0.995629874854988,
           0.9224455622784701,
           0.908031764453104,
           1.000138794819107,
           1.0019712609909721
          ],
          [
           0.9966468300047532,
           0.9253043738093485,
           0.9184698144285866,
           1.0000548463810253,
           1.0032220533070457
          ],
          [
           0.9964963313398981,
           0.9370707062227634,
           0.908300392038978,
           0.9951847226024015,
           0.9992440619037348
          ],
          [
           0.9956707264684798,
           0.942089922854656,
           0.9123376378942344,
           0.9926494591541949,
           0.9971992453208849
          ],
          [
           0.994000483269339,
           0.9359468218863042,
           0.9087902741293449,
           0.9878833126286416,
           0.9971158138917463
          ],
          [
           0.9996645985823758,
           0.9392814325436614,
           0.9137321829379101,
           0.9976863354722724,
           1.007773654489077
          ],
          [
           0.9991607428038519,
           0.9455018463409992,
           0.9179553187813057,
           0.9937292723007977,
           1.005325992486386
          ],
          [
           0.9996732991738948,
           0.9517359184599067,
           0.9246960750496702,
           0.9942861079336273,
           1.0061113949501643
          ],
          [
           1.0006745715193677,
           0.9538452623007536,
           0.9257584337003142,
           1.0041425922795226,
           1.014413146083723
          ],
          [
           1.003013184890717,
           0.9599505533175197,
           0.9301163840193034,
           1.0096256231608405,
           1.0148368224546798
          ],
          [
           1.0063994848543356,
           0.9630497919789548,
           0.9643753983406756,
           1.0107087345254406,
           1.0198233477922938
          ],
          [
           1.0045127491300871,
           0.9629692675783388,
           0.9591533132098825,
           1.0053308918485515,
           1.0101507733713384
          ]
         ]
        }
       ],
       "layout": {
        "autosize": true,
        "template": {
         "data": {
          "bar": [
           {
            "error_x": {
             "color": "#2a3f5f"
            },
            "error_y": {
             "color": "#2a3f5f"
            },
            "marker": {
             "line": {
              "color": "white",
              "width": 0.5
             },
             "pattern": {
              "fillmode": "overlay",
              "size": 10,
              "solidity": 0.2
             }
            },
            "type": "bar"
           }
          ],
          "barpolar": [
           {
            "marker": {
             "line": {
              "color": "white",
              "width": 0.5
             },
             "pattern": {
              "fillmode": "overlay",
              "size": 10,
              "solidity": 0.2
             }
            },
            "type": "barpolar"
           }
          ],
          "carpet": [
           {
            "aaxis": {
             "endlinecolor": "#2a3f5f",
             "gridcolor": "#C8D4E3",
             "linecolor": "#C8D4E3",
             "minorgridcolor": "#C8D4E3",
             "startlinecolor": "#2a3f5f"
            },
            "baxis": {
             "endlinecolor": "#2a3f5f",
             "gridcolor": "#C8D4E3",
             "linecolor": "#C8D4E3",
             "minorgridcolor": "#C8D4E3",
             "startlinecolor": "#2a3f5f"
            },
            "type": "carpet"
           }
          ],
          "choropleth": [
           {
            "colorbar": {
             "outlinewidth": 0,
             "ticks": ""
            },
            "type": "choropleth"
           }
          ],
          "contour": [
           {
            "colorbar": {
             "outlinewidth": 0,
             "ticks": ""
            },
            "colorscale": [
             [
              0,
              "#0d0887"
             ],
             [
              0.1111111111111111,
              "#46039f"
             ],
             [
              0.2222222222222222,
              "#7201a8"
             ],
             [
              0.3333333333333333,
              "#9c179e"
             ],
             [
              0.4444444444444444,
              "#bd3786"
             ],
             [
              0.5555555555555556,
              "#d8576b"
             ],
             [
              0.6666666666666666,
              "#ed7953"
             ],
             [
              0.7777777777777778,
              "#fb9f3a"
             ],
             [
              0.8888888888888888,
              "#fdca26"
             ],
             [
              1,
              "#f0f921"
             ]
            ],
            "type": "contour"
           }
          ],
          "contourcarpet": [
           {
            "colorbar": {
             "outlinewidth": 0,
             "ticks": ""
            },
            "type": "contourcarpet"
           }
          ],
          "heatmap": [
           {
            "colorbar": {
             "outlinewidth": 0,
             "ticks": ""
            },
            "colorscale": [
             [
              0,
              "#0d0887"
             ],
             [
              0.1111111111111111,
              "#46039f"
             ],
             [
              0.2222222222222222,
              "#7201a8"
             ],
             [
              0.3333333333333333,
              "#9c179e"
             ],
             [
              0.4444444444444444,
              "#bd3786"
             ],
             [
              0.5555555555555556,
              "#d8576b"
             ],
             [
              0.6666666666666666,
              "#ed7953"
             ],
             [
              0.7777777777777778,
              "#fb9f3a"
             ],
             [
              0.8888888888888888,
              "#fdca26"
             ],
             [
              1,
              "#f0f921"
             ]
            ],
            "type": "heatmap"
           }
          ],
          "heatmapgl": [
           {
            "colorbar": {
             "outlinewidth": 0,
             "ticks": ""
            },
            "colorscale": [
             [
              0,
              "#0d0887"
             ],
             [
              0.1111111111111111,
              "#46039f"
             ],
             [
              0.2222222222222222,
              "#7201a8"
             ],
             [
              0.3333333333333333,
              "#9c179e"
             ],
             [
              0.4444444444444444,
              "#bd3786"
             ],
             [
              0.5555555555555556,
              "#d8576b"
             ],
             [
              0.6666666666666666,
              "#ed7953"
             ],
             [
              0.7777777777777778,
              "#fb9f3a"
             ],
             [
              0.8888888888888888,
              "#fdca26"
             ],
             [
              1,
              "#f0f921"
             ]
            ],
            "type": "heatmapgl"
           }
          ],
          "histogram": [
           {
            "marker": {
             "pattern": {
              "fillmode": "overlay",
              "size": 10,
              "solidity": 0.2
             }
            },
            "type": "histogram"
           }
          ],
          "histogram2d": [
           {
            "colorbar": {
             "outlinewidth": 0,
             "ticks": ""
            },
            "colorscale": [
             [
              0,
              "#0d0887"
             ],
             [
              0.1111111111111111,
              "#46039f"
             ],
             [
              0.2222222222222222,
              "#7201a8"
             ],
             [
              0.3333333333333333,
              "#9c179e"
             ],
             [
              0.4444444444444444,
              "#bd3786"
             ],
             [
              0.5555555555555556,
              "#d8576b"
             ],
             [
              0.6666666666666666,
              "#ed7953"
             ],
             [
              0.7777777777777778,
              "#fb9f3a"
             ],
             [
              0.8888888888888888,
              "#fdca26"
             ],
             [
              1,
              "#f0f921"
             ]
            ],
            "type": "histogram2d"
           }
          ],
          "histogram2dcontour": [
           {
            "colorbar": {
             "outlinewidth": 0,
             "ticks": ""
            },
            "colorscale": [
             [
              0,
              "#0d0887"
             ],
             [
              0.1111111111111111,
              "#46039f"
             ],
             [
              0.2222222222222222,
              "#7201a8"
             ],
             [
              0.3333333333333333,
              "#9c179e"
             ],
             [
              0.4444444444444444,
              "#bd3786"
             ],
             [
              0.5555555555555556,
              "#d8576b"
             ],
             [
              0.6666666666666666,
              "#ed7953"
             ],
             [
              0.7777777777777778,
              "#fb9f3a"
             ],
             [
              0.8888888888888888,
              "#fdca26"
             ],
             [
              1,
              "#f0f921"
             ]
            ],
            "type": "histogram2dcontour"
           }
          ],
          "mesh3d": [
           {
            "colorbar": {
             "outlinewidth": 0,
             "ticks": ""
            },
            "type": "mesh3d"
           }
          ],
          "parcoords": [
           {
            "line": {
             "colorbar": {
              "outlinewidth": 0,
              "ticks": ""
             }
            },
            "type": "parcoords"
           }
          ],
          "pie": [
           {
            "automargin": true,
            "type": "pie"
           }
          ],
          "scatter": [
           {
            "fillpattern": {
             "fillmode": "overlay",
             "size": 10,
             "solidity": 0.2
            },
            "type": "scatter"
           }
          ],
          "scatter3d": [
           {
            "line": {
             "colorbar": {
              "outlinewidth": 0,
              "ticks": ""
             }
            },
            "marker": {
             "colorbar": {
              "outlinewidth": 0,
              "ticks": ""
             }
            },
            "type": "scatter3d"
           }
          ],
          "scattercarpet": [
           {
            "marker": {
             "colorbar": {
              "outlinewidth": 0,
              "ticks": ""
             }
            },
            "type": "scattercarpet"
           }
          ],
          "scattergeo": [
           {
            "marker": {
             "colorbar": {
              "outlinewidth": 0,
              "ticks": ""
             }
            },
            "type": "scattergeo"
           }
          ],
          "scattergl": [
           {
            "marker": {
             "colorbar": {
              "outlinewidth": 0,
              "ticks": ""
             }
            },
            "type": "scattergl"
           }
          ],
          "scattermapbox": [
           {
            "marker": {
             "colorbar": {
              "outlinewidth": 0,
              "ticks": ""
             }
            },
            "type": "scattermapbox"
           }
          ],
          "scatterpolar": [
           {
            "marker": {
             "colorbar": {
              "outlinewidth": 0,
              "ticks": ""
             }
            },
            "type": "scatterpolar"
           }
          ],
          "scatterpolargl": [
           {
            "marker": {
             "colorbar": {
              "outlinewidth": 0,
              "ticks": ""
             }
            },
            "type": "scatterpolargl"
           }
          ],
          "scatterternary": [
           {
            "marker": {
             "colorbar": {
              "outlinewidth": 0,
              "ticks": ""
             }
            },
            "type": "scatterternary"
           }
          ],
          "surface": [
           {
            "colorbar": {
             "outlinewidth": 0,
             "ticks": ""
            },
            "colorscale": [
             [
              0,
              "#0d0887"
             ],
             [
              0.1111111111111111,
              "#46039f"
             ],
             [
              0.2222222222222222,
              "#7201a8"
             ],
             [
              0.3333333333333333,
              "#9c179e"
             ],
             [
              0.4444444444444444,
              "#bd3786"
             ],
             [
              0.5555555555555556,
              "#d8576b"
             ],
             [
              0.6666666666666666,
              "#ed7953"
             ],
             [
              0.7777777777777778,
              "#fb9f3a"
             ],
             [
              0.8888888888888888,
              "#fdca26"
             ],
             [
              1,
              "#f0f921"
             ]
            ],
            "type": "surface"
           }
          ],
          "table": [
           {
            "cells": {
             "fill": {
              "color": "#EBF0F8"
             },
             "line": {
              "color": "white"
             }
            },
            "header": {
             "fill": {
              "color": "#C8D4E3"
             },
             "line": {
              "color": "white"
             }
            },
            "type": "table"
           }
          ]
         },
         "layout": {
          "annotationdefaults": {
           "arrowcolor": "#2a3f5f",
           "arrowhead": 0,
           "arrowwidth": 1
          },
          "autotypenumbers": "strict",
          "coloraxis": {
           "colorbar": {
            "outlinewidth": 0,
            "ticks": ""
           }
          },
          "colorscale": {
           "diverging": [
            [
             0,
             "#8e0152"
            ],
            [
             0.1,
             "#c51b7d"
            ],
            [
             0.2,
             "#de77ae"
            ],
            [
             0.3,
             "#f1b6da"
            ],
            [
             0.4,
             "#fde0ef"
            ],
            [
             0.5,
             "#f7f7f7"
            ],
            [
             0.6,
             "#e6f5d0"
            ],
            [
             0.7,
             "#b8e186"
            ],
            [
             0.8,
             "#7fbc41"
            ],
            [
             0.9,
             "#4d9221"
            ],
            [
             1,
             "#276419"
            ]
           ],
           "sequential": [
            [
             0,
             "#0d0887"
            ],
            [
             0.1111111111111111,
             "#46039f"
            ],
            [
             0.2222222222222222,
             "#7201a8"
            ],
            [
             0.3333333333333333,
             "#9c179e"
            ],
            [
             0.4444444444444444,
             "#bd3786"
            ],
            [
             0.5555555555555556,
             "#d8576b"
            ],
            [
             0.6666666666666666,
             "#ed7953"
            ],
            [
             0.7777777777777778,
             "#fb9f3a"
            ],
            [
             0.8888888888888888,
             "#fdca26"
            ],
            [
             1,
             "#f0f921"
            ]
           ],
           "sequentialminus": [
            [
             0,
             "#0d0887"
            ],
            [
             0.1111111111111111,
             "#46039f"
            ],
            [
             0.2222222222222222,
             "#7201a8"
            ],
            [
             0.3333333333333333,
             "#9c179e"
            ],
            [
             0.4444444444444444,
             "#bd3786"
            ],
            [
             0.5555555555555556,
             "#d8576b"
            ],
            [
             0.6666666666666666,
             "#ed7953"
            ],
            [
             0.7777777777777778,
             "#fb9f3a"
            ],
            [
             0.8888888888888888,
             "#fdca26"
            ],
            [
             1,
             "#f0f921"
            ]
           ]
          },
          "colorway": [
           "#636efa",
           "#EF553B",
           "#00cc96",
           "#ab63fa",
           "#FFA15A",
           "#19d3f3",
           "#FF6692",
           "#B6E880",
           "#FF97FF",
           "#FECB52"
          ],
          "font": {
           "color": "#2a3f5f"
          },
          "geo": {
           "bgcolor": "white",
           "lakecolor": "white",
           "landcolor": "white",
           "showlakes": true,
           "showland": true,
           "subunitcolor": "#C8D4E3"
          },
          "hoverlabel": {
           "align": "left"
          },
          "hovermode": "closest",
          "mapbox": {
           "style": "light"
          },
          "paper_bgcolor": "white",
          "plot_bgcolor": "white",
          "polar": {
           "angularaxis": {
            "gridcolor": "#EBF0F8",
            "linecolor": "#EBF0F8",
            "ticks": ""
           },
           "bgcolor": "white",
           "radialaxis": {
            "gridcolor": "#EBF0F8",
            "linecolor": "#EBF0F8",
            "ticks": ""
           }
          },
          "scene": {
           "xaxis": {
            "backgroundcolor": "white",
            "gridcolor": "#DFE8F3",
            "gridwidth": 2,
            "linecolor": "#EBF0F8",
            "showbackground": true,
            "ticks": "",
            "zerolinecolor": "#EBF0F8"
           },
           "yaxis": {
            "backgroundcolor": "white",
            "gridcolor": "#DFE8F3",
            "gridwidth": 2,
            "linecolor": "#EBF0F8",
            "showbackground": true,
            "ticks": "",
            "zerolinecolor": "#EBF0F8"
           },
           "zaxis": {
            "backgroundcolor": "white",
            "gridcolor": "#DFE8F3",
            "gridwidth": 2,
            "linecolor": "#EBF0F8",
            "showbackground": true,
            "ticks": "",
            "zerolinecolor": "#EBF0F8"
           }
          },
          "shapedefaults": {
           "line": {
            "color": "#2a3f5f"
           }
          },
          "ternary": {
           "aaxis": {
            "gridcolor": "#DFE8F3",
            "linecolor": "#A2B1C6",
            "ticks": ""
           },
           "baxis": {
            "gridcolor": "#DFE8F3",
            "linecolor": "#A2B1C6",
            "ticks": ""
           },
           "bgcolor": "white",
           "caxis": {
            "gridcolor": "#DFE8F3",
            "linecolor": "#A2B1C6",
            "ticks": ""
           }
          },
          "title": {
           "x": 0.05
          },
          "xaxis": {
           "automargin": true,
           "gridcolor": "#EBF0F8",
           "linecolor": "#EBF0F8",
           "ticks": "",
           "title": {
            "standoff": 15
           },
           "zerolinecolor": "#EBF0F8",
           "zerolinewidth": 2
          },
          "yaxis": {
           "automargin": true,
           "gridcolor": "#EBF0F8",
           "linecolor": "#EBF0F8",
           "ticks": "",
           "title": {
            "standoff": 15
           },
           "zerolinecolor": "#EBF0F8",
           "zerolinewidth": 2
          }
         }
        },
        "title": {
         "text": "Cumulative Semiconductor Returns"
        },
        "xaxis": {
         "autorange": true,
         "range": [
          "2024-06-28",
          "2024-07-05"
         ],
         "title": {
          "text": "Dates"
         },
         "type": "date"
        },
        "yaxis": {
         "autorange": true,
         "range": [
          -0.2222222222222222,
          4.222222222222222
         ],
         "title": {
          "text": "Cumulative Returns"
         },
         "type": "multicategory"
        }
       }
      },
      "image/png": "[encoded data removed]",
      "text/html": [
       "<div>                            <div id=\"ebd0f9d3-5fdb-4a2c-aed8-18ef2f972257\" class=\"plotly-graph-div\" style=\"height:525px; width:100%;\"></div>            <script type=\"text/javascript\">                require([\"plotly\"], function(Plotly) {                    window.PLOTLYENV=window.PLOTLYENV || {};                                    if (document.getElementById(\"ebd0f9d3-5fdb-4a2c-aed8-18ef2f972257\")) {                    Plotly.newPlot(                        \"ebd0f9d3-5fdb-4a2c-aed8-18ef2f972257\",                        [{\"line\":{\"color\":\"blue\"},\"mode\":\"lines\",\"name\":\"Cumulative Returns\",\"x\":[\"2024-06-28T00:00:00+00:00\",\"2024-07-01T00:00:00+00:00\",\"2024-07-02T00:00:00+00:00\",\"2024-07-03T00:00:00+00:00\",\"2024-07-05T00:00:00+00:00\",\"2024-07-08T00:00:00+00:00\",\"2024-07-09T00:00:00+00:00\",\"2024-07-10T00:00:00+00:00\",\"2024-07-11T00:00:00+00:00\",\"2024-07-12T00:00:00+00:00\",\"2024-07-15T00:00:00+00:00\",\"2024-07-16T00:00:00+00:00\",\"2024-07-17T00:00:00+00:00\",\"2024-07-18T00:00:00+00:00\",\"2024-07-19T00:00:00+00:00\",\"2024-07-22T00:00:00+00:00\",\"2024-07-23T00:00:00+00:00\",\"2024-07-24T00:00:00+00:00\",\"2024-07-25T00:00:00+00:00\",\"2024-07-26T00:00:00+00:00\",\"2024-07-29T00:00:00+00:00\",\"2024-07-30T00:00:00+00:00\",\"2024-07-31T00:00:00+00:00\",\"2024-08-01T00:00:00+00:00\",\"2024-08-02T00:00:00+00:00\",\"2024-08-05T00:00:00+00:00\",\"2024-08-06T00:00:00+00:00\",\"2024-08-07T00:00:00+00:00\",\"2024-08-08T00:00:00+00:00\",\"2024-08-09T00:00:00+00:00\",\"2024-08-12T00:00:00+00:00\",\"2024-08-13T00:00:00+00:00\",\"2024-08-14T00:00:00+00:00\",\"2024-08-15T00:00:00+00:00\",\"2024-08-16T00:00:00+00:00\",\"2024-08-19T00:00:00+00:00\",\"2024-08-20T00:00:00+00:00\",\"2024-08-21T00:00:00+00:00\",\"2024-08-22T00:00:00+00:00\",\"2024-08-23T00:00:00+00:00\",\"2024-08-26T00:00:00+00:00\",\"2024-08-27T00:00:00+00:00\",\"2024-08-28T00:00:00+00:00\",\"2024-08-29T00:00:00+00:00\",\"2024-08-30T00:00:00+00:00\",\"2024-09-03T00:00:00+00:00\",\"2024-09-04T00:00:00+00:00\",\"2024-09-05T00:00:00+00:00\",\"2024-09-06T00:00:00+00:00\",\"2024-09-09T00:00:00+00:00\",\"2024-09-10T00:00:00+00:00\",\"2024-09-11T00:00:00+00:00\",\"2024-09-12T00:00:00+00:00\",\"2024-09-13T00:00:00+00:00\",\"2024-09-16T00:00:00+00:00\",\"2024-09-17T00:00:00+00:00\",\"2024-09-18T00:00:00+00:00\",\"2024-09-19T00:00:00+00:00\",\"2024-09-20T00:00:00+00:00\",\"2024-09-23T00:00:00+00:00\",\"2024-09-24T00:00:00+00:00\",\"2024-09-25T00:00:00+00:00\",\"2024-09-26T00:00:00+00:00\",\"2024-09-27T00:00:00+00:00\"],\"y\":[[1.0,1.0,1.0,1.0,1.0],[0.9972134861689304,0.9991604878038501,0.9999810157822131,1.001537960318073,0.9982969839255246],[1.0013998951403456,1.000650803579959,1.0020148812615504,0.9982545608311953,1.0022014215128507],[1.00115001526064,1.0016814026094116,1.0100066650091328,1.0096677178405742,1.0099475370848894],[1.0060366537111232,1.0067491515257103,1.0003731407622065,1.0048468446990466,1.0116078072527759],[1.010010474372988,1.0191370114775713,0.9988610009525775,1.0095783849324695,1.0145108429838907],[1.0091117598766295,1.0227350253985419,0.9997208303078264,1.0158390717748187,1.0122168807478704],[1.0130205724402046,1.024390783183127,1.0097264242981112,1.022662612395178,1.0193811669784625],[1.0119082078991428,1.0163413781852537,0.9983254445722527,1.0084305326620329,1.0123914338123645],[1.011724668514189,1.0223484192706336,1.0046881257837075,1.0120716648472514,1.01551915125717],[1.010733055349227,1.0221705394754916,0.9996477437407633,1.0105054550359227,1.0132100338097483],[1.0094515838990092,1.0214586613166083,0.993193234009171,1.006414331509403,1.0141071488677063],[0.9991495434259579,1.02217252952052,0.9776319900860923,0.9897482789374826,0.9979285435619909],[0.9968558246088476,1.0246048719335494,0.9734392106652292,0.9962492883352797,0.9987096208867422],[0.9941744172619393,1.0134978850323837,0.9668294488250494,0.9897497020205104,0.9916204006707701],[0.996988114005427,1.0158948852721974,0.9689871653789216,1.001520446476438,0.9959034612386587],[0.9957920127906406,1.0133376536623313,0.9668227491574108,0.9995950653639561,0.9964562391317736],[0.989733203506496,1.0056491911908942,0.9584238706139568,0.9825940394650702,0.9846973262214692],[0.985415140942061,1.001842315513797,0.9522751098713307,0.9783583455523538,0.9852888916143163],[0.9866048759000464,1.0034529973008564,0.9566177475209517,0.9800574825950645,0.9873297812258744],[0.9864357276890978,1.0001241605788234,0.9532078019055966,0.976871824787593,0.9849763895506148],[0.9855110562078939,0.9955825549702082,0.9415191829530929,0.9596699993510428,0.978242027817205],[0.9898107384225231,0.9996137928068383,0.9581812135748182,0.9904084729609894,0.9924972498377395],[0.9816308221830583,0.9886225863114071,0.9400549989335328,0.9738833390490392,0.9833744144170111],[0.9816012019594752,0.9370985141922086,0.9196582664852266,0.9695583193782584,0.9730296563148859],[0.9833199355277831,0.9251448341338325,0.914003412671889,0.9541477110222085,0.9705493483171385],[0.979935705697579,0.9225686025959113,0.9104149278270354,0.9631715074015802,0.9803106059192496],[0.9787990505924117,0.9158734826346542,0.904788775965087,0.9508373792529397,0.9798689816526495],[0.9846184504562193,0.9303422582061147,0.9185221677979678,0.9654013050229682,0.9918898317631487],[0.9831377647756121,0.9232591190326437,0.9210412004761637,0.9648954806549996,0.9949881661883209],[0.9849682885960713,0.9199801814589289,0.924900305535903,0.9747286534649553,0.995595457194126],[0.9881082039322592,0.930529528318575,0.9317412916273387,0.9906433238784565,1.00119021669741],[0.9878421471553511,0.9255291321504752,0.9388412318576786,0.9947802460775099,0.9984365685868948],[0.9924813210065966,0.9326843314747723,0.9541285915060153,1.004847685141174,1.003124191684043],[0.9932895284926596,0.9343071778736574,0.9564481208117929,1.0083645614588221,1.0037930754400206],[0.9977825999477461,0.9401270081064029,0.957865210879528,1.0193320768891458,1.0048397812701522],[0.9985022751465747,0.9354962650838058,0.9564543824577565,1.0139413807641746,1.0009338026573882],[0.9994024617958868,0.9392400336116029,0.9572072259872404,1.0164314290926013,1.0002356568832036],[0.9955330303618659,0.9277463021665593,0.9482165653858325,1.0070185527822608,0.9944013379435597],[0.9976855334535112,0.9318080818747785,0.9450106647473503,1.0184730392114345,1.0001846898216502],[0.9944732214092764,0.9280880922775036,0.9359602583991743,1.0127457504271833,0.9976036425874785],[0.994811361192955,0.9275348404920523,0.9334762803098589,1.0164296447336025,0.9993501903809069],[0.992074804097836,0.9232830698499942,0.9263221089848452,1.0111018985862497,0.9977681100982774],[0.9914850936360633,0.9281796108291038,0.9280554208261753,0.9949625770253684,0.9977091358361774],[0.9935772314156565,0.9457933689943001,0.9296819653344386,0.9987278620142136,1.0007172996363125],[0.9858057163595628,0.9291432821999348,0.9111830035612141,0.9749456268190129,0.9876502910522234],[0.9886348453036009,0.9229489930641408,0.9130088646047412,0.9709059182672821,0.9881179718496759],[0.9876312670848112,0.9226639791362374,0.9132644909133518,0.9731912668908713,0.9915945383982524],[0.9840261039719087,0.91781285697342,0.9055764718749745,0.9632514853718116,0.9832595822205124],[0.9868093470036766,0.9195620004322599,0.9052881702779797,0.9717758298979143,0.9907334044894291],[0.9901594291253722,0.9186940327167136,0.9068097560459896,0.9754951733463083,0.990307347142426],[0.9950256595937873,0.9250832628119215,0.9167288116040773,0.995370557238333,0.9998184141786177],[0.995629874854988,0.9224455622784701,0.908031764453104,1.000138794819107,1.0019712609909721],[0.9966468300047532,0.9253043738093485,0.9184698144285866,1.0000548463810253,1.0032220533070457],[0.9964963313398981,0.9370707062227634,0.908300392038978,0.9951847226024015,0.9992440619037348],[0.9956707264684798,0.942089922854656,0.9123376378942344,0.9926494591541949,0.9971992453208849],[0.994000483269339,0.9359468218863042,0.9087902741293449,0.9878833126286416,0.9971158138917463],[0.9996645985823758,0.9392814325436614,0.9137321829379101,0.9976863354722724,1.007773654489077],[0.9991607428038519,0.9455018463409992,0.9179553187813057,0.9937292723007977,1.005325992486386],[0.9996732991738948,0.9517359184599067,0.9246960750496702,0.9942861079336273,1.0061113949501643],[1.0006745715193677,0.9538452623007536,0.9257584337003142,1.0041425922795226,1.014413146083723],[1.003013184890717,0.9599505533175197,0.9301163840193034,1.0096256231608405,1.0148368224546798],[1.0063994848543356,0.9630497919789548,0.9643753983406756,1.0107087345254406,1.0198233477922938],[1.0045127491300871,0.9629692675783388,0.9591533132098825,1.0053308918485515,1.0101507733713384]],\"type\":\"scatter\"}],                        {\"template\":{\"data\":{\"barpolar\":[{\"marker\":{\"line\":{\"color\":\"white\",\"width\":0.5},\"pattern\":{\"fillmode\":\"overlay\",\"size\":10,\"solidity\":0.2}},\"type\":\"barpolar\"}],\"bar\":[{\"error_x\":{\"color\":\"#2a3f5f\"},\"error_y\":{\"color\":\"#2a3f5f\"},\"marker\":{\"line\":{\"color\":\"white\",\"width\":0.5},\"pattern\":{\"fillmode\":\"overlay\",\"size\":10,\"solidity\":0.2}},\"type\":\"bar\"}],\"carpet\":[{\"aaxis\":{\"endlinecolor\":\"#2a3f5f\",\"gridcolor\":\"#C8D4E3\",\"linecolor\":\"#C8D4E3\",\"minorgridcolor\":\"#C8D4E3\",\"startlinecolor\":\"#2a3f5f\"},\"baxis\":{\"endlinecolor\":\"#2a3f5f\",\"gridcolor\":\"#C8D4E3\",\"linecolor\":\"#C8D4E3\",\"minorgridcolor\":\"#C8D4E3\",\"startlinecolor\":\"#2a3f5f\"},\"type\":\"carpet\"}],\"choropleth\":[{\"colorbar\":{\"outlinewidth\":0,\"ticks\":\"\"},\"type\":\"choropleth\"}],\"contourcarpet\":[{\"colorbar\":{\"outlinewidth\":0,\"ticks\":\"\"},\"type\":\"contourcarpet\"}],\"contour\":[{\"colorbar\":{\"outlinewidth\":0,\"ticks\":\"\"},\"colorscale\":[[0.0,\"#0d0887\"],[0.1111111111111111,\"#46039f\"],[0.2222222222222222,\"#7201a8\"],[0.3333333333333333,\"#9c179e\"],[0.4444444444444444,\"#bd3786\"],[0.5555555555555556,\"#d8576b\"],[0.6666666666666666,\"#ed7953\"],[0.7777777777777778,\"#fb9f3a\"],[0.8888888888888888,\"#fdca26\"],[1.0,\"#f0f921\"]],\"type\":\"contour\"}],\"heatmapgl\":[{\"colorbar\":{\"outlinewidth\":0,\"ticks\":\"\"},\"colorscale\":[[0.0,\"#0d0887\"],[0.1111111111111111,\"#46039f\"],[0.2222222222222222,\"#7201a8\"],[0.3333333333333333,\"#9c179e\"],[0.4444444444444444,\"#bd3786\"],[0.5555555555555556,\"#d8576b\"],[0.6666666666666666,\"#ed7953\"],[0.7777777777777778,\"#fb9f3a\"],[0.8888888888888888,\"#fdca26\"],[1.0,\"#f0f921\"]],\"type\":\"heatmapgl\"}],\"heatmap\":[{\"colorbar\":{\"outlinewidth\":0,\"ticks\":\"\"},\"colorscale\":[[0.0,\"#0d0887\"],[0.1111111111111111,\"#46039f\"],[0.2222222222222222,\"#7201a8\"],[0.3333333333333333,\"#9c179e\"],[0.4444444444444444,\"#bd3786\"],[0.5555555555555556,\"#d8576b\"],[0.6666666666666666,\"#ed7953\"],[0.7777777777777778,\"#fb9f3a\"],[0.8888888888888888,\"#fdca26\"],[1.0,\"#f0f921\"]],\"type\":\"heatmap\"}],\"histogram2dcontour\":[{\"colorbar\":{\"outlinewidth\":0,\"ticks\":\"\"},\"colorscale\":[[0.0,\"#0d0887\"],[0.1111111111111111,\"#46039f\"],[0.2222222222222222,\"#7201a8\"],[0.3333333333333333,\"#9c179e\"],[0.4444444444444444,\"#bd3786\"],[0.5555555555555556,\"#d8576b\"],[0.6666666666666666,\"#ed7953\"],[0.7777777777777778,\"#fb9f3a\"],[0.8888888888888888,\"#fdca26\"],[1.0,\"#f0f921\"]],\"type\":\"histogram2dcontour\"}],\"histogram2d\":[{\"colorbar\":{\"outlinewidth\":0,\"ticks\":\"\"},\"colorscale\":[[0.0,\"#0d0887\"],[0.1111111111111111,\"#46039f\"],[0.2222222222222222,\"#7201a8\"],[0.3333333333333333,\"#9c179e\"],[0.4444444444444444,\"#bd3786\"],[0.5555555555555556,\"#d8576b\"],[0.6666666666666666,\"#ed7953\"],[0.7777777777777778,\"#fb9f3a\"],[0.8888888888888888,\"#fdca26\"],[1.0,\"#f0f921\"]],\"type\":\"histogram2d\"}],\"histogram\":[{\"marker\":{\"pattern\":{\"fillmode\":\"overlay\",\"size\":10,\"solidity\":0.2}},\"type\":\"histogram\"}],\"mesh3d\":[{\"colorbar\":{\"outlinewidth\":0,\"ticks\":\"\"},\"type\":\"mesh3d\"}],\"parcoords\":[{\"line\":{\"colorbar\":{\"outlinewidth\":0,\"ticks\":\"\"}},\"type\":\"parcoords\"}],\"pie\":[{\"automargin\":true,\"type\":\"pie\"}],\"scatter3d\":[{\"line\":{\"colorbar\":{\"outlinewidth\":0,\"ticks\":\"\"}},\"marker\":{\"colorbar\":{\"outlinewidth\":0,\"ticks\":\"\"}},\"type\":\"scatter3d\"}],\"scattercarpet\":[{\"marker\":{\"colorbar\":{\"outlinewidth\":0,\"ticks\":\"\"}},\"type\":\"scattercarpet\"}],\"scattergeo\":[{\"marker\":{\"colorbar\":{\"outlinewidth\":0,\"ticks\":\"\"}},\"type\":\"scattergeo\"}],\"scattergl\":[{\"marker\":{\"colorbar\":{\"outlinewidth\":0,\"ticks\":\"\"}},\"type\":\"scattergl\"}],\"scattermapbox\":[{\"marker\":{\"colorbar\":{\"outlinewidth\":0,\"ticks\":\"\"}},\"type\":\"scattermapbox\"}],\"scatterpolargl\":[{\"marker\":{\"colorbar\":{\"outlinewidth\":0,\"ticks\":\"\"}},\"type\":\"scatterpolargl\"}],\"scatterpolar\":[{\"marker\":{\"colorbar\":{\"outlinewidth\":0,\"ticks\":\"\"}},\"type\":\"scatterpolar\"}],\"scatter\":[{\"fillpattern\":{\"fillmode\":\"overlay\",\"size\":10,\"solidity\":0.2},\"type\":\"scatter\"}],\"scatterternary\":[{\"marker\":{\"colorbar\":{\"outlinewidth\":0,\"ticks\":\"\"}},\"type\":\"scatterternary\"}],\"surface\":[{\"colorbar\":{\"outlinewidth\":0,\"ticks\":\"\"},\"colorscale\":[[0.0,\"#0d0887\"],[0.1111111111111111,\"#46039f\"],[0.2222222222222222,\"#7201a8\"],[0.3333333333333333,\"#9c179e\"],[0.4444444444444444,\"#bd3786\"],[0.5555555555555556,\"#d8576b\"],[0.6666666666666666,\"#ed7953\"],[0.7777777777777778,\"#fb9f3a\"],[0.8888888888888888,\"#fdca26\"],[1.0,\"#f0f921\"]],\"type\":\"surface\"}],\"table\":[{\"cells\":{\"fill\":{\"color\":\"#EBF0F8\"},\"line\":{\"color\":\"white\"}},\"header\":{\"fill\":{\"color\":\"#C8D4E3\"},\"line\":{\"color\":\"white\"}},\"type\":\"table\"}]},\"layout\":{\"annotationdefaults\":{\"arrowcolor\":\"#2a3f5f\",\"arrowhead\":0,\"arrowwidth\":1},\"autotypenumbers\":\"strict\",\"coloraxis\":{\"colorbar\":{\"outlinewidth\":0,\"ticks\":\"\"}},\"colorscale\":{\"diverging\":[[0,\"#8e0152\"],[0.1,\"#c51b7d\"],[0.2,\"#de77ae\"],[0.3,\"#f1b6da\"],[0.4,\"#fde0ef\"],[0.5,\"#f7f7f7\"],[0.6,\"#e6f5d0\"],[0.7,\"#b8e186\"],[0.8,\"#7fbc41\"],[0.9,\"#4d9221\"],[1,\"#276419\"]],\"sequential\":[[0.0,\"#0d0887\"],[0.1111111111111111,\"#46039f\"],[0.2222222222222222,\"#7201a8\"],[0.3333333333333333,\"#9c179e\"],[0.4444444444444444,\"#bd3786\"],[0.5555555555555556,\"#d8576b\"],[0.6666666666666666,\"#ed7953\"],[0.7777777777777778,\"#fb9f3a\"],[0.8888888888888888,\"#fdca26\"],[1.0,\"#f0f921\"]],\"sequentialminus\":[[0.0,\"#0d0887\"],[0.1111111111111111,\"#46039f\"],[0.2222222222222222,\"#7201a8\"],[0.3333333333333333,\"#9c179e\"],[0.4444444444444444,\"#bd3786\"],[0.5555555555555556,\"#d8576b\"],[0.6666666666666666,\"#ed7953\"],[0.7777777777777778,\"#fb9f3a\"],[0.8888888888888888,\"#fdca26\"],[1.0,\"#f0f921\"]]},\"colorway\":[\"#636efa\",\"#EF553B\",\"#00cc96\",\"#ab63fa\",\"#FFA15A\",\"#19d3f3\",\"#FF6692\",\"#B6E880\",\"#FF97FF\",\"#FECB52\"],\"font\":{\"color\":\"#2a3f5f\"},\"geo\":{\"bgcolor\":\"white\",\"lakecolor\":\"white\",\"landcolor\":\"white\",\"showlakes\":true,\"showland\":true,\"subunitcolor\":\"#C8D4E3\"},\"hoverlabel\":{\"align\":\"left\"},\"hovermode\":\"closest\",\"mapbox\":{\"style\":\"light\"},\"paper_bgcolor\":\"white\",\"plot_bgcolor\":\"white\",\"polar\":{\"angularaxis\":{\"gridcolor\":\"#EBF0F8\",\"linecolor\":\"#EBF0F8\",\"ticks\":\"\"},\"bgcolor\":\"white\",\"radialaxis\":{\"gridcolor\":\"#EBF0F8\",\"linecolor\":\"#EBF0F8\",\"ticks\":\"\"}},\"scene\":{\"xaxis\":{\"backgroundcolor\":\"white\",\"gridcolor\":\"#DFE8F3\",\"gridwidth\":2,\"linecolor\":\"#EBF0F8\",\"showbackground\":true,\"ticks\":\"\",\"zerolinecolor\":\"#EBF0F8\"},\"yaxis\":{\"backgroundcolor\":\"white\",\"gridcolor\":\"#DFE8F3\",\"gridwidth\":2,\"linecolor\":\"#EBF0F8\",\"showbackground\":true,\"ticks\":\"\",\"zerolinecolor\":\"#EBF0F8\"},\"zaxis\":{\"backgroundcolor\":\"white\",\"gridcolor\":\"#DFE8F3\",\"gridwidth\":2,\"linecolor\":\"#EBF0F8\",\"showbackground\":true,\"ticks\":\"\",\"zerolinecolor\":\"#EBF0F8\"}},\"shapedefaults\":{\"line\":{\"color\":\"#2a3f5f\"}},\"ternary\":{\"aaxis\":{\"gridcolor\":\"#DFE8F3\",\"linecolor\":\"#A2B1C6\",\"ticks\":\"\"},\"baxis\":{\"gridcolor\":\"#DFE8F3\",\"linecolor\":\"#A2B1C6\",\"ticks\":\"\"},\"bgcolor\":\"white\",\"caxis\":{\"gridcolor\":\"#DFE8F3\",\"linecolor\":\"#A2B1C6\",\"ticks\":\"\"}},\"title\":{\"x\":0.05},\"xaxis\":{\"automargin\":true,\"gridcolor\":\"#EBF0F8\",\"linecolor\":\"#EBF0F8\",\"ticks\":\"\",\"title\":{\"standoff\":15},\"zerolinecolor\":\"#EBF0F8\",\"zerolinewidth\":2},\"yaxis\":{\"automargin\":true,\"gridcolor\":\"#EBF0F8\",\"linecolor\":\"#EBF0F8\",\"ticks\":\"\",\"title\":{\"standoff\":15},\"zerolinecolor\":\"#EBF0F8\",\"zerolinewidth\":2}}},\"title\":{\"text\":\"Cumulative Semiconductor Returns\"},\"xaxis\":{\"title\":{\"text\":\"Dates\"}},\"yaxis\":{\"title\":{\"text\":\"Cumulative Returns\"}}},                        {\"responsive\": true}                    ).then(function(){\n",
       "                            \n",
       "var gd = document.getElementById('ebd0f9d3-5fdb-4a2c-aed8-18ef2f972257');\n",
       "var x = new MutationObserver(function (mutations, observer) {{\n",
       "        var display = window.getComputedStyle(gd).display;\n",
       "        if (!display || display === 'none') {{\n",
       "            console.log([gd, 'removed!']);\n",
       "            Plotly.purge(gd);\n",
       "            observer.disconnect();\n",
       "        }}\n",
       "}});\n",
       "\n",
       "// Listen for the removal of the full notebook cells\n",
       "var notebookContainer = gd.closest('#notebook-container');\n",
       "if (notebookContainer) {{\n",
       "    x.observe(notebookContainer, {childList: true});\n",
       "}}\n",
       "\n",
       "// Listen for the clearing of the current output cell\n",
       "var outputEl = gd.closest('.output');\n",
       "if (outputEl) {{\n",
       "    x.observe(outputEl, {childList: true});\n",
       "}}\n",
       "\n",
       "                        })                };                });            </script>        </div>"
      ]
     },
     "metadata": {},
     "output_type": "display_data"
    }
   ],
   "source": [
    "semiconductor_returns = semiconductor_data['Adj Close'].pct_change()  # Calculate daily returns\n",
    "semiconductor_returns.iloc[0, :] = 0  # Set the initial value of returns to 0 (first day)\n",
    "\n",
    "# Define the weights for each company in the portfolio\n",
    "weights = np.array([0.1, 0.2, 0.25, 0.25, 0.2])  # Adjust these weights as needed\n",
    "\n",
    "# Calculate the weighted returns for each company\n",
    "weighted_returns = weights * semiconductor_returns\n",
    "\n",
    "# Calculate cumulative returns for the portfolio\n",
    "cumulative_returns = (weighted_returns + 1).cumprod()\n",
    "\n",
    "# Create the figure\n",
    "fig = go.Figure()\n",
    "\n",
    "# Add cumulative returns line plot\n",
    "fig.add_trace(go.Scatter(x=cumulative_returns.index, \n",
    "                         y=cumulative_returns.values, \n",
    "                         mode='lines', \n",
    "                         name='Cumulative Returns', \n",
    "                         line=dict(color='blue')))\n",
    "\n",
    "# Update layout\n",
    "fig.update_layout(title='Cumulative Semiconductor Returns',\n",
    "                  xaxis_title='Dates',\n",
    "                  yaxis_title='Cumulative Returns',\n",
    "                  template='plotly_white')\n",
    "\n",
    "# Show the plot\n",
    "fig.show()\n"
   ]
  },
  {
   "cell_type": "code",
   "execution_count": null,
   "id": "0e48ef6d-ffb3-43e4-89a0-be01bd7a696f",
   "metadata": {},
   "outputs": [],
   "source": []
  }
 ],
 "metadata": {
  "kernelspec": {
   "display_name": "Python 3 (ipykernel)",
   "language": "python",
   "name": "python3"
  },
  "language_info": {
   "codemirror_mode": {
    "name": "ipython",
    "version": 3
   },
   "file_extension": ".py",
   "mimetype": "text/x-python",
   "name": "python",
   "nbconvert_exporter": "python",
   "pygments_lexer": "ipython3",
   "version": "3.12.6"
  }
 },
 "nbformat": 4,
 "nbformat_minor": 5
}
